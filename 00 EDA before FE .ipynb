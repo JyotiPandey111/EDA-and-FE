{
 "cells": [
  {
   "cell_type": "markdown",
   "id": "d719cc57-cc14-454a-b1c4-096239b8acfb",
   "metadata": {},
   "source": [
    "# Exploratory Data Analysis and Feature Engineering Task in FSDS 2022 at iNeuron\n",
    "## In this Task:\n",
    "## **Exploratory Data Analysis before Pre-Processing**\n",
    "  - **1. Profile of Data**\n",
    "         1.1 Number of Rows and Columns in Dataset\n",
    "         1.2 Types of Features in Dataset\n",
    "         1.3 Level of Measurements in Dataset\n",
    "         1.4 Missing Values in Dataset\n",
    "         1.5 Memory\n",
    "         1.6 Duplicate and Unique Values in Features\n",
    "  - **2. Statistical Analysis**\n",
    "         2.1 Univariate\n",
    "            2.1.1 Numerical Features\n",
    "            2.1.2 Categorical Features\n",
    "         2.2 Bivariate\n",
    "            2.2.1 Continous Features\n",
    "            2.2.2 Continuous vs Categorical Features\n",
    "   - **3. Graph Bases Analysis**\n",
    "         3.1 Univariate\n",
    "             3.1.1 Univariate Analysis of Numerical Features\n",
    "             3.1.2 Univariate Analysis of Categorical Variables\n",
    "             3.1.3 Analysis of Outliers: BoxPlot\n",
    "         3.2 Bivariate\n",
    "             3.2.1 Bivariate Analysis of Numerical Features: Scatter Plot\n",
    "             3.2.2 Bivariate Analysis of Categorical Variables vs Categorical Variables: Count Plot side by side bar chart\n",
    "         3.3 Multivariate: Pair plot\n",
    " ####        \n",
    "- LinkedIn: https://www.linkedin.com/in/km-jyoti-pandey/\n",
    "- GitHub: https://github.com/JyotiPandey111"
   ]
  },
  {
   "cell_type": "code",
   "execution_count": 4,
   "id": "1174acd0-f2e4-4c95-ae89-2304a4cc5bb8",
   "metadata": {},
   "outputs": [],
   "source": [
    "# Importing Libraries\n",
    "import numpy as numpy\n",
    "import pandas as pd\n",
    "import matplotlib.pyplot as plt\n",
    "import seaborn as sns\n",
    "%matplotlib inline\n",
    "import warnings\n",
    "warnings.filterwarnings('ignore')"
   ]
  },
  {
   "cell_type": "markdown",
   "id": "6fed813c-99e3-41a1-b09d-1d414d721bde",
   "metadata": {},
   "source": [
    "### Reading Dataset \"Travel\""
   ]
  },
  {
   "cell_type": "code",
   "execution_count": 137,
   "id": "20c35814-7a9e-466e-a783-4b5875352e80",
   "metadata": {},
   "outputs": [
    {
     "data": {
      "text/html": [
       "<div>\n",
       "<style scoped>\n",
       "    .dataframe tbody tr th:only-of-type {\n",
       "        vertical-align: middle;\n",
       "    }\n",
       "\n",
       "    .dataframe tbody tr th {\n",
       "        vertical-align: top;\n",
       "    }\n",
       "\n",
       "    .dataframe thead th {\n",
       "        text-align: right;\n",
       "    }\n",
       "</style>\n",
       "<table border=\"1\" class=\"dataframe\">\n",
       "  <thead>\n",
       "    <tr style=\"text-align: right;\">\n",
       "      <th></th>\n",
       "      <th>CustomerID</th>\n",
       "      <th>ProdTaken</th>\n",
       "      <th>Age</th>\n",
       "      <th>TypeofContact</th>\n",
       "      <th>CityTier</th>\n",
       "      <th>DurationOfPitch</th>\n",
       "      <th>Occupation</th>\n",
       "      <th>Gender</th>\n",
       "      <th>NumberOfPersonVisiting</th>\n",
       "      <th>NumberOfFollowups</th>\n",
       "      <th>ProductPitched</th>\n",
       "      <th>PreferredPropertyStar</th>\n",
       "      <th>MaritalStatus</th>\n",
       "      <th>NumberOfTrips</th>\n",
       "      <th>Passport</th>\n",
       "      <th>PitchSatisfactionScore</th>\n",
       "      <th>OwnCar</th>\n",
       "      <th>NumberOfChildrenVisiting</th>\n",
       "      <th>Designation</th>\n",
       "      <th>MonthlyIncome</th>\n",
       "    </tr>\n",
       "  </thead>\n",
       "  <tbody>\n",
       "    <tr>\n",
       "      <th>0</th>\n",
       "      <td>200000</td>\n",
       "      <td>1</td>\n",
       "      <td>41.0</td>\n",
       "      <td>Self Enquiry</td>\n",
       "      <td>3</td>\n",
       "      <td>6.0</td>\n",
       "      <td>Salaried</td>\n",
       "      <td>Female</td>\n",
       "      <td>3</td>\n",
       "      <td>3.0</td>\n",
       "      <td>Deluxe</td>\n",
       "      <td>3.0</td>\n",
       "      <td>Single</td>\n",
       "      <td>1.0</td>\n",
       "      <td>1</td>\n",
       "      <td>2</td>\n",
       "      <td>1</td>\n",
       "      <td>0.0</td>\n",
       "      <td>Manager</td>\n",
       "      <td>20993.0</td>\n",
       "    </tr>\n",
       "    <tr>\n",
       "      <th>1</th>\n",
       "      <td>200001</td>\n",
       "      <td>0</td>\n",
       "      <td>49.0</td>\n",
       "      <td>Company Invited</td>\n",
       "      <td>1</td>\n",
       "      <td>14.0</td>\n",
       "      <td>Salaried</td>\n",
       "      <td>Male</td>\n",
       "      <td>3</td>\n",
       "      <td>4.0</td>\n",
       "      <td>Deluxe</td>\n",
       "      <td>4.0</td>\n",
       "      <td>Divorced</td>\n",
       "      <td>2.0</td>\n",
       "      <td>0</td>\n",
       "      <td>3</td>\n",
       "      <td>1</td>\n",
       "      <td>2.0</td>\n",
       "      <td>Manager</td>\n",
       "      <td>20130.0</td>\n",
       "    </tr>\n",
       "    <tr>\n",
       "      <th>2</th>\n",
       "      <td>200002</td>\n",
       "      <td>1</td>\n",
       "      <td>37.0</td>\n",
       "      <td>Self Enquiry</td>\n",
       "      <td>1</td>\n",
       "      <td>8.0</td>\n",
       "      <td>Free Lancer</td>\n",
       "      <td>Male</td>\n",
       "      <td>3</td>\n",
       "      <td>4.0</td>\n",
       "      <td>Basic</td>\n",
       "      <td>3.0</td>\n",
       "      <td>Single</td>\n",
       "      <td>7.0</td>\n",
       "      <td>1</td>\n",
       "      <td>3</td>\n",
       "      <td>0</td>\n",
       "      <td>0.0</td>\n",
       "      <td>Executive</td>\n",
       "      <td>17090.0</td>\n",
       "    </tr>\n",
       "    <tr>\n",
       "      <th>3</th>\n",
       "      <td>200003</td>\n",
       "      <td>0</td>\n",
       "      <td>33.0</td>\n",
       "      <td>Company Invited</td>\n",
       "      <td>1</td>\n",
       "      <td>9.0</td>\n",
       "      <td>Salaried</td>\n",
       "      <td>Female</td>\n",
       "      <td>2</td>\n",
       "      <td>3.0</td>\n",
       "      <td>Basic</td>\n",
       "      <td>3.0</td>\n",
       "      <td>Divorced</td>\n",
       "      <td>2.0</td>\n",
       "      <td>1</td>\n",
       "      <td>5</td>\n",
       "      <td>1</td>\n",
       "      <td>1.0</td>\n",
       "      <td>Executive</td>\n",
       "      <td>17909.0</td>\n",
       "    </tr>\n",
       "    <tr>\n",
       "      <th>4</th>\n",
       "      <td>200004</td>\n",
       "      <td>0</td>\n",
       "      <td>NaN</td>\n",
       "      <td>Self Enquiry</td>\n",
       "      <td>1</td>\n",
       "      <td>8.0</td>\n",
       "      <td>Small Business</td>\n",
       "      <td>Male</td>\n",
       "      <td>2</td>\n",
       "      <td>3.0</td>\n",
       "      <td>Basic</td>\n",
       "      <td>4.0</td>\n",
       "      <td>Divorced</td>\n",
       "      <td>1.0</td>\n",
       "      <td>0</td>\n",
       "      <td>5</td>\n",
       "      <td>1</td>\n",
       "      <td>0.0</td>\n",
       "      <td>Executive</td>\n",
       "      <td>18468.0</td>\n",
       "    </tr>\n",
       "  </tbody>\n",
       "</table>\n",
       "</div>"
      ],
      "text/plain": [
       "   CustomerID  ProdTaken   Age    TypeofContact  CityTier  DurationOfPitch  \\\n",
       "0      200000          1  41.0     Self Enquiry         3              6.0   \n",
       "1      200001          0  49.0  Company Invited         1             14.0   \n",
       "2      200002          1  37.0     Self Enquiry         1              8.0   \n",
       "3      200003          0  33.0  Company Invited         1              9.0   \n",
       "4      200004          0   NaN     Self Enquiry         1              8.0   \n",
       "\n",
       "       Occupation  Gender  NumberOfPersonVisiting  NumberOfFollowups  \\\n",
       "0        Salaried  Female                       3                3.0   \n",
       "1        Salaried    Male                       3                4.0   \n",
       "2     Free Lancer    Male                       3                4.0   \n",
       "3        Salaried  Female                       2                3.0   \n",
       "4  Small Business    Male                       2                3.0   \n",
       "\n",
       "  ProductPitched  PreferredPropertyStar MaritalStatus  NumberOfTrips  \\\n",
       "0         Deluxe                    3.0        Single            1.0   \n",
       "1         Deluxe                    4.0      Divorced            2.0   \n",
       "2          Basic                    3.0        Single            7.0   \n",
       "3          Basic                    3.0      Divorced            2.0   \n",
       "4          Basic                    4.0      Divorced            1.0   \n",
       "\n",
       "   Passport  PitchSatisfactionScore  OwnCar  NumberOfChildrenVisiting  \\\n",
       "0         1                       2       1                       0.0   \n",
       "1         0                       3       1                       2.0   \n",
       "2         1                       3       0                       0.0   \n",
       "3         1                       5       1                       1.0   \n",
       "4         0                       5       1                       0.0   \n",
       "\n",
       "  Designation  MonthlyIncome  \n",
       "0     Manager        20993.0  \n",
       "1     Manager        20130.0  \n",
       "2   Executive        17090.0  \n",
       "3   Executive        17909.0  \n",
       "4   Executive        18468.0  "
      ]
     },
     "execution_count": 137,
     "metadata": {},
     "output_type": "execute_result"
    }
   ],
   "source": [
    "data = pd.read_csv(\"Travel.csv\")\n",
    "# top five rows of dataset\n",
    "data.head() \n",
    "# observation: Top 5 rows in dataset \"Travel\""
   ]
  },
  {
   "cell_type": "markdown",
   "id": "cb47ada2-3743-4ed4-937f-ecd2d816a9e8",
   "metadata": {},
   "source": [
    "####\n",
    "### **1. Profile of Data**\n",
    "         1.1 Number of Rows and Columns in Dataset\n",
    "         1.2 Types of Features in Dataset\n",
    "         1.3 Level of Measurements in Dataset\n",
    "              - Qualitative Level\n",
    "                   - Nominal\n",
    "                   - Ordinal\n",
    "              - Quantitative Level\n",
    "                   - Interval\n",
    "                   - Ratio\n",
    "         1.4 Missing Values in Dataset\n",
    "         1.5 Memory    \n",
    "         1.6 Duplicate and Unique Values in Features\n",
    "-- I have prepared a dataframe regarding above mentioned points for **Profile of Data**."
   ]
  },
  {
   "cell_type": "code",
   "execution_count": 462,
   "id": "e66e1167-1dcf-4240-a61e-09e5385bfad6",
   "metadata": {},
   "outputs": [
    {
     "name": "stdout",
     "output_type": "stream",
     "text": [
      "\n",
      "                                       \u001b[1mPROFILE OF DATASET 'TRAVEL' BEFORE PRE-PROCESSING  \u001b[0m                                  \n",
      "\n",
      "\u001b[1m1.1\u001b[0m There are 4888 rows and 20 columns in the dataset 'Travel'\n",
      "\n",
      "\u001b[1m1.2\u001b[0m There are 14 Numerical Features and 6 Categorical Features in the dataset 'Travel '\n",
      "Numerical Features are: ['CustomerID', 'ProdTaken', 'Age', 'CityTier', 'DurationOfPitch', 'NumberOfPersonVisiting', 'NumberOfFollowups', 'PreferredPropertyStar', 'NumberOfTrips', 'Passport', 'PitchSatisfactionScore', 'OwnCar', 'NumberOfChildrenVisiting', 'MonthlyIncome']\n",
      "\n",
      "Categorical Features are: ['TypeofContact', 'Occupation', 'Gender', 'ProductPitched', 'MaritalStatus', 'Designation']\n",
      "\n",
      "Features with numerical values having categorical information: ['ProdTaken', 'CityTier', 'NumberOfPersonVisiting', 'NumberOfFollowups', 'PreferredPropertyStar', 'Passport', 'PitchSatisfactionScore', 'OwnCar', 'NumberOfChildrenVisiting']\n",
      "\n",
      "Features with numerical values with continuous information: ['Age', 'DurationOfPitch', 'NumberOfTrips', 'MonthlyIncome'] \n",
      "\n",
      "\n",
      "There are 0 duplicate values in Dataset 'Travel'\n"
     ]
    },
    {
     "data": {
      "text/html": [
       "<div>\n",
       "<style scoped>\n",
       "    .dataframe tbody tr th:only-of-type {\n",
       "        vertical-align: middle;\n",
       "    }\n",
       "\n",
       "    .dataframe tbody tr th {\n",
       "        vertical-align: top;\n",
       "    }\n",
       "\n",
       "    .dataframe thead th {\n",
       "        text-align: right;\n",
       "    }\n",
       "</style>\n",
       "<table border=\"1\" class=\"dataframe\">\n",
       "  <thead>\n",
       "    <tr style=\"text-align: right;\">\n",
       "      <th></th>\n",
       "      <th>DataTypes</th>\n",
       "      <th>Level</th>\n",
       "      <th>Missing Values</th>\n",
       "      <th>Unique</th>\n",
       "      <th>Unique_Values</th>\n",
       "      <th>Memory</th>\n",
       "    </tr>\n",
       "  </thead>\n",
       "  <tbody>\n",
       "    <tr>\n",
       "      <th>CustomerID</th>\n",
       "      <td>Numeric</td>\n",
       "      <td>Nominal</td>\n",
       "      <td>0.0</td>\n",
       "      <td>4888.0</td>\n",
       "      <td>-</td>\n",
       "      <td>39104</td>\n",
       "    </tr>\n",
       "    <tr>\n",
       "      <th>ProdTaken</th>\n",
       "      <td>Numeric</td>\n",
       "      <td>Nominal</td>\n",
       "      <td>0.0</td>\n",
       "      <td>2.0</td>\n",
       "      <td>[1, 0]</td>\n",
       "      <td>39104</td>\n",
       "    </tr>\n",
       "    <tr>\n",
       "      <th>Age</th>\n",
       "      <td>Numeric</td>\n",
       "      <td>Ordinal</td>\n",
       "      <td>226.0</td>\n",
       "      <td>44.0</td>\n",
       "      <td>-</td>\n",
       "      <td>39104</td>\n",
       "    </tr>\n",
       "    <tr>\n",
       "      <th>TypeofContact</th>\n",
       "      <td>Categorical</td>\n",
       "      <td>Nominal</td>\n",
       "      <td>25.0</td>\n",
       "      <td>2.0</td>\n",
       "      <td>['Self Enquiry', 'Company Invited', nan]</td>\n",
       "      <td>39104</td>\n",
       "    </tr>\n",
       "    <tr>\n",
       "      <th>CityTier</th>\n",
       "      <td>Numeric</td>\n",
       "      <td>Ordinal</td>\n",
       "      <td>0.0</td>\n",
       "      <td>3.0</td>\n",
       "      <td>[3, 1, 2]</td>\n",
       "      <td>39104</td>\n",
       "    </tr>\n",
       "    <tr>\n",
       "      <th>DurationOfPitch</th>\n",
       "      <td>Numeric</td>\n",
       "      <td>Ratio</td>\n",
       "      <td>251.0</td>\n",
       "      <td>34.0</td>\n",
       "      <td>-</td>\n",
       "      <td>39104</td>\n",
       "    </tr>\n",
       "    <tr>\n",
       "      <th>Occupation</th>\n",
       "      <td>Categorical</td>\n",
       "      <td>Nominal</td>\n",
       "      <td>0.0</td>\n",
       "      <td>4.0</td>\n",
       "      <td>['Salaried', 'Free Lancer', 'Small Business', ...</td>\n",
       "      <td>39104</td>\n",
       "    </tr>\n",
       "    <tr>\n",
       "      <th>Gender</th>\n",
       "      <td>Categorical</td>\n",
       "      <td>Nominal</td>\n",
       "      <td>0.0</td>\n",
       "      <td>3.0</td>\n",
       "      <td>['Female', 'Male', 'Fe Male']</td>\n",
       "      <td>39104</td>\n",
       "    </tr>\n",
       "    <tr>\n",
       "      <th>NumberOfPersonVisiting</th>\n",
       "      <td>Numeric</td>\n",
       "      <td>Ratio</td>\n",
       "      <td>0.0</td>\n",
       "      <td>5.0</td>\n",
       "      <td>[3, 2, 1, 4, 5]</td>\n",
       "      <td>39104</td>\n",
       "    </tr>\n",
       "    <tr>\n",
       "      <th>NumberOfFollowups</th>\n",
       "      <td>Numeric</td>\n",
       "      <td>Ratio</td>\n",
       "      <td>45.0</td>\n",
       "      <td>6.0</td>\n",
       "      <td>[3.0, 4.0, 2.0, 5.0, nan, 1.0, 6.0]</td>\n",
       "      <td>39104</td>\n",
       "    </tr>\n",
       "    <tr>\n",
       "      <th>ProductPitched</th>\n",
       "      <td>Categorical</td>\n",
       "      <td>Ordinal</td>\n",
       "      <td>0.0</td>\n",
       "      <td>5.0</td>\n",
       "      <td>['Deluxe', 'Basic', 'Standard', 'Super Deluxe'...</td>\n",
       "      <td>39104</td>\n",
       "    </tr>\n",
       "    <tr>\n",
       "      <th>PreferredPropertyStar</th>\n",
       "      <td>Numeric</td>\n",
       "      <td>Ordinal</td>\n",
       "      <td>26.0</td>\n",
       "      <td>3.0</td>\n",
       "      <td>[3.0, 4.0, 5.0, nan]</td>\n",
       "      <td>39104</td>\n",
       "    </tr>\n",
       "    <tr>\n",
       "      <th>MaritalStatus</th>\n",
       "      <td>Categorical</td>\n",
       "      <td>Nominal</td>\n",
       "      <td>0.0</td>\n",
       "      <td>4.0</td>\n",
       "      <td>['Single', 'Divorced', 'Married', 'Unmarried']</td>\n",
       "      <td>39104</td>\n",
       "    </tr>\n",
       "    <tr>\n",
       "      <th>NumberOfTrips</th>\n",
       "      <td>Numeric</td>\n",
       "      <td>Ratio</td>\n",
       "      <td>140.0</td>\n",
       "      <td>12.0</td>\n",
       "      <td>-</td>\n",
       "      <td>39104</td>\n",
       "    </tr>\n",
       "    <tr>\n",
       "      <th>Passport</th>\n",
       "      <td>Numeric</td>\n",
       "      <td>Nominal</td>\n",
       "      <td>0.0</td>\n",
       "      <td>2.0</td>\n",
       "      <td>[1, 0]</td>\n",
       "      <td>39104</td>\n",
       "    </tr>\n",
       "    <tr>\n",
       "      <th>PitchSatisfactionScore</th>\n",
       "      <td>Numeric</td>\n",
       "      <td>Ordinal</td>\n",
       "      <td>0.0</td>\n",
       "      <td>5.0</td>\n",
       "      <td>[2, 3, 5, 4, 1]</td>\n",
       "      <td>39104</td>\n",
       "    </tr>\n",
       "    <tr>\n",
       "      <th>OwnCar</th>\n",
       "      <td>Numeric</td>\n",
       "      <td>Nominal</td>\n",
       "      <td>0.0</td>\n",
       "      <td>2.0</td>\n",
       "      <td>[1, 0]</td>\n",
       "      <td>39104</td>\n",
       "    </tr>\n",
       "    <tr>\n",
       "      <th>NumberOfChildrenVisiting</th>\n",
       "      <td>Numeric</td>\n",
       "      <td>Ratio</td>\n",
       "      <td>66.0</td>\n",
       "      <td>4.0</td>\n",
       "      <td>[0.0, 2.0, 1.0, nan, 3.0]</td>\n",
       "      <td>39104</td>\n",
       "    </tr>\n",
       "    <tr>\n",
       "      <th>Designation</th>\n",
       "      <td>Categorical</td>\n",
       "      <td>Ordinal</td>\n",
       "      <td>0.0</td>\n",
       "      <td>5.0</td>\n",
       "      <td>['Manager', 'Executive', 'Senior Manager', 'AV...</td>\n",
       "      <td>39104</td>\n",
       "    </tr>\n",
       "    <tr>\n",
       "      <th>MonthlyIncome</th>\n",
       "      <td>Numeric</td>\n",
       "      <td>Ratio</td>\n",
       "      <td>233.0</td>\n",
       "      <td>2475.0</td>\n",
       "      <td>-</td>\n",
       "      <td>39104</td>\n",
       "    </tr>\n",
       "    <tr>\n",
       "      <th>Index</th>\n",
       "      <td>NaN</td>\n",
       "      <td>NaN</td>\n",
       "      <td>NaN</td>\n",
       "      <td>NaN</td>\n",
       "      <td>NaN</td>\n",
       "      <td>128</td>\n",
       "    </tr>\n",
       "  </tbody>\n",
       "</table>\n",
       "</div>"
      ],
      "text/plain": [
       "                            DataTypes    Level  Missing Values  Unique  \\\n",
       "CustomerID                    Numeric  Nominal             0.0  4888.0   \n",
       "ProdTaken                     Numeric  Nominal             0.0     2.0   \n",
       "Age                           Numeric  Ordinal           226.0    44.0   \n",
       "TypeofContact             Categorical  Nominal            25.0     2.0   \n",
       "CityTier                      Numeric  Ordinal             0.0     3.0   \n",
       "DurationOfPitch               Numeric    Ratio           251.0    34.0   \n",
       "Occupation                Categorical  Nominal             0.0     4.0   \n",
       "Gender                    Categorical  Nominal             0.0     3.0   \n",
       "NumberOfPersonVisiting        Numeric    Ratio             0.0     5.0   \n",
       "NumberOfFollowups             Numeric    Ratio            45.0     6.0   \n",
       "ProductPitched            Categorical  Ordinal             0.0     5.0   \n",
       "PreferredPropertyStar         Numeric  Ordinal            26.0     3.0   \n",
       "MaritalStatus             Categorical  Nominal             0.0     4.0   \n",
       "NumberOfTrips                 Numeric    Ratio           140.0    12.0   \n",
       "Passport                      Numeric  Nominal             0.0     2.0   \n",
       "PitchSatisfactionScore        Numeric  Ordinal             0.0     5.0   \n",
       "OwnCar                        Numeric  Nominal             0.0     2.0   \n",
       "NumberOfChildrenVisiting      Numeric    Ratio            66.0     4.0   \n",
       "Designation               Categorical  Ordinal             0.0     5.0   \n",
       "MonthlyIncome                 Numeric    Ratio           233.0  2475.0   \n",
       "Index                             NaN      NaN             NaN     NaN   \n",
       "\n",
       "                                                              Unique_Values  \\\n",
       "CustomerID                                                                -   \n",
       "ProdTaken                                                            [1, 0]   \n",
       "Age                                                                       -   \n",
       "TypeofContact                      ['Self Enquiry', 'Company Invited', nan]   \n",
       "CityTier                                                          [3, 1, 2]   \n",
       "DurationOfPitch                                                           -   \n",
       "Occupation                ['Salaried', 'Free Lancer', 'Small Business', ...   \n",
       "Gender                                        ['Female', 'Male', 'Fe Male']   \n",
       "NumberOfPersonVisiting                                      [3, 2, 1, 4, 5]   \n",
       "NumberOfFollowups                       [3.0, 4.0, 2.0, 5.0, nan, 1.0, 6.0]   \n",
       "ProductPitched            ['Deluxe', 'Basic', 'Standard', 'Super Deluxe'...   \n",
       "PreferredPropertyStar                                  [3.0, 4.0, 5.0, nan]   \n",
       "MaritalStatus                ['Single', 'Divorced', 'Married', 'Unmarried']   \n",
       "NumberOfTrips                                                             -   \n",
       "Passport                                                             [1, 0]   \n",
       "PitchSatisfactionScore                                      [2, 3, 5, 4, 1]   \n",
       "OwnCar                                                               [1, 0]   \n",
       "NumberOfChildrenVisiting                          [0.0, 2.0, 1.0, nan, 3.0]   \n",
       "Designation               ['Manager', 'Executive', 'Senior Manager', 'AV...   \n",
       "MonthlyIncome                                                             -   \n",
       "Index                                                                   NaN   \n",
       "\n",
       "                          Memory  \n",
       "CustomerID                 39104  \n",
       "ProdTaken                  39104  \n",
       "Age                        39104  \n",
       "TypeofContact              39104  \n",
       "CityTier                   39104  \n",
       "DurationOfPitch            39104  \n",
       "Occupation                 39104  \n",
       "Gender                     39104  \n",
       "NumberOfPersonVisiting     39104  \n",
       "NumberOfFollowups          39104  \n",
       "ProductPitched             39104  \n",
       "PreferredPropertyStar      39104  \n",
       "MaritalStatus              39104  \n",
       "NumberOfTrips              39104  \n",
       "Passport                   39104  \n",
       "PitchSatisfactionScore     39104  \n",
       "OwnCar                     39104  \n",
       "NumberOfChildrenVisiting   39104  \n",
       "Designation                39104  \n",
       "MonthlyIncome              39104  \n",
       "Index                        128  "
      ]
     },
     "execution_count": 462,
     "metadata": {},
     "output_type": "execute_result"
    }
   ],
   "source": [
    "print(\"\\n                                       \\033[1mPROFILE OF DATASET 'TRAVEL' BEFORE PRE-PROCESSING  \\033[0m                                  \\n\")\n",
    "# Finding the shape of dataset\n",
    "print(f\"\\033[1m1.1\\033[0m There are {data.shape[0]} rows and {data.shape[1]} columns in the dataset 'Travel'\\n\")\n",
    "# Seperating Numerical and Categorical Features from dataset\n",
    "num_colum = [fea for fea in data.columns if data[fea].dtype != 'O']\n",
    "cat_colum = [fea for fea in data.columns if data[fea].dtype == 'O']\n",
    "num_cat_info= ['ProdTaken','CityTier', 'NumberOfPersonVisiting', 'NumberOfFollowups', 'PreferredPropertyStar', 'Passport', 'PitchSatisfactionScore', 'OwnCar', 'NumberOfChildrenVisiting']\n",
    "num_info = ['Age', 'DurationOfPitch','NumberOfTrips', 'MonthlyIncome' ]\n",
    "print(f\"\\033[1m1.2\\033[0m There are {len(num_colum)} Numerical Features and {len(cat_colum)} Categorical Features in the dataset 'Travel '\")\n",
    "print(f\"Numerical Features are: {num_colum}\\n\")\n",
    "print(f\"Categorical Features are: {cat_colum}\\n\")\n",
    "print(f\"Features with numerical values having categorical information: {num_cat_info}\\n\")\n",
    "print(f\"Features with numerical values with continuous information: {num_info} \\n\")\n",
    "# Finding the duplicate values in Datset\n",
    "print(f\"\\nThere are {data.duplicated().sum()} duplicate values in Dataset 'Travel'\")\n",
    "# Finding the number of unique values in each feature of dataset\n",
    "unique = pd.DataFrame(data.nunique(), columns=['Unique'])\n",
    "# creating a dictionary with help of information we get from info() regarding the data type of the features\n",
    "types = {'DataTypes': ['Numeric', 'Numeric', 'Numeric', 'Categorical', 'Numeric', 'Numeric', 'Categorical', 'Categorical', 'Numeric', 'Numeric', 'Categorical', 'Numeric', 'Categorical', 'Numeric', 'Numeric', 'Numeric', 'Numeric', 'Numeric', 'Categorical', 'Numeric' ]}\n",
    "# creating a dictionary with help of understanding of measurement of level: Nominal, Ordinal, Interval, Ratio\n",
    "level = {'Level': ['Nominal','Nominal', 'Ordinal', 'Nominal', 'Ordinal', 'Ratio', 'Nominal', 'Nominal', 'Ratio', 'Ratio', 'Ordinal', 'Ordinal', 'Nominal', 'Ratio', 'Nominal', 'Ordinal', 'Nominal', 'Ratio', 'Ordinal', 'Ratio']}\n",
    "# creating a dictionary consisting of unique values in dataset feature (only those features which are having category nature of the data)\n",
    "unique_values= {'Unique_Values':['-', '[1, 0]', '-', \"['Self Enquiry', 'Company Invited', nan]\", \"[3, 1, 2]\", \"-\", \"['Salaried', 'Free Lancer', 'Small Business', 'Large Business']\", \"['Female', 'Male', 'Fe Male']\", \"[3, 2, 1, 4, 5]\", \"[3.0, 4.0, 2.0, 5.0, nan, 1.0, 6.0]\", \"['Deluxe', 'Basic', 'Standard', 'Super Deluxe', 'King']\", \"[3.0, 4.0, 5.0, nan]\", \"['Single', 'Divorced', 'Married', 'Unmarried']\", \"-\", \"[1, 0]\", \"[2, 3, 5, 4, 1]\", \"[1, 0]\", \"[0.0, 2.0, 1.0, nan, 3.0]\", \"['Manager', 'Executive', 'Senior Manager', 'AVP', 'VP']\", \"-\"] }\n",
    "# creating a dataframe of missing values in dataset 'Travel'\n",
    "null_values = pd.DataFrame(data.isnull().sum(),columns=['Missing Values'])\n",
    "# creating an dataframe of memory occupied by the features.\n",
    "memory = pd.DataFrame(data.memory_usage(), columns=['Memory'])\n",
    "# creating an dataframe classifies the types the features in dataset 'Travel'.\n",
    "types = pd.DataFrame(types,index=data.columns)\n",
    "# craeting an dataframe classifies the level of measurement of features of dataset 'Travel'.\n",
    "level = pd.DataFrame(level,index=data.columns)\n",
    "# creating a datset classifing the value swhich are unique in feature shaving a categorical nature. \n",
    "#NOTE: categorical features have numeric values as class\n",
    "unique_values = pd.DataFrame(unique_values,index=data.columns)\n",
    "pd.concat([types, level,null_values, unique,unique_values,memory], axis=1)\n",
    "# CustomerID is an Unique Feature, we can say it is Nominal despite of being a quantitative level because it is purily Numeric id in this use case.\n",
    "# Age is considered a ratio variable because it has a “true zero” value. It's possible for an individual to be zero years old (a newborn).\n",
    "# Generally speaking, age is an ordinal variable since the number assigned to a person's age is meaningful and not simple an arbitrarily chosen number/marker."
   ]
  },
  {
   "cell_type": "code",
   "execution_count": null,
   "id": "f3cb26a7-e4b5-4d55-aa92-669a431e6e2a",
   "metadata": {},
   "outputs": [],
   "source": []
  },
  {
   "cell_type": "markdown",
   "id": "7bf112de-e456-47ba-834a-bfd5ebbbc1f1",
   "metadata": {},
   "source": [
    "####\n",
    "### **2. Statistical Analysis**\n",
    "         2.1 Univariate\n",
    "            2.1.1 Numerical Features\n",
    "            2.1.2 Categorical Features\n",
    "         2.2 Bivariate\n",
    "            2.2.1 Continous Features\n",
    "            2.2.2 Continuous vs Categorical Features\n"
   ]
  },
  {
   "cell_type": "markdown",
   "id": "521d73f7-6f6a-45cc-86a9-070f84585f1f",
   "metadata": {},
   "source": [
    "### 2.1 Univariate\n",
    "#### 2.1.1 Univariate Analysis of Numerical Features"
   ]
  },
  {
   "cell_type": "code",
   "execution_count": 378,
   "id": "c2a6fed6-3f02-4fa4-836c-9c7ae174707a",
   "metadata": {},
   "outputs": [
    {
     "data": {
      "text/html": [
       "<div>\n",
       "<style scoped>\n",
       "    .dataframe tbody tr th:only-of-type {\n",
       "        vertical-align: middle;\n",
       "    }\n",
       "\n",
       "    .dataframe tbody tr th {\n",
       "        vertical-align: top;\n",
       "    }\n",
       "\n",
       "    .dataframe thead th {\n",
       "        text-align: right;\n",
       "    }\n",
       "</style>\n",
       "<table border=\"1\" class=\"dataframe\">\n",
       "  <thead>\n",
       "    <tr style=\"text-align: right;\">\n",
       "      <th></th>\n",
       "      <th>count</th>\n",
       "      <th>mean</th>\n",
       "      <th>std</th>\n",
       "      <th>min</th>\n",
       "      <th>25%</th>\n",
       "      <th>50%</th>\n",
       "      <th>75%</th>\n",
       "      <th>max</th>\n",
       "    </tr>\n",
       "  </thead>\n",
       "  <tbody>\n",
       "    <tr>\n",
       "      <th>ProdTaken</th>\n",
       "      <td>4888.0</td>\n",
       "      <td>0.188216</td>\n",
       "      <td>0.390925</td>\n",
       "      <td>0.0</td>\n",
       "      <td>0.0</td>\n",
       "      <td>0.0</td>\n",
       "      <td>0.0</td>\n",
       "      <td>1.0</td>\n",
       "    </tr>\n",
       "    <tr>\n",
       "      <th>Age</th>\n",
       "      <td>4662.0</td>\n",
       "      <td>37.622265</td>\n",
       "      <td>9.316387</td>\n",
       "      <td>18.0</td>\n",
       "      <td>31.0</td>\n",
       "      <td>36.0</td>\n",
       "      <td>44.0</td>\n",
       "      <td>61.0</td>\n",
       "    </tr>\n",
       "    <tr>\n",
       "      <th>CityTier</th>\n",
       "      <td>4888.0</td>\n",
       "      <td>1.654255</td>\n",
       "      <td>0.916583</td>\n",
       "      <td>1.0</td>\n",
       "      <td>1.0</td>\n",
       "      <td>1.0</td>\n",
       "      <td>3.0</td>\n",
       "      <td>3.0</td>\n",
       "    </tr>\n",
       "    <tr>\n",
       "      <th>DurationOfPitch</th>\n",
       "      <td>4637.0</td>\n",
       "      <td>15.490835</td>\n",
       "      <td>8.519643</td>\n",
       "      <td>5.0</td>\n",
       "      <td>9.0</td>\n",
       "      <td>13.0</td>\n",
       "      <td>20.0</td>\n",
       "      <td>127.0</td>\n",
       "    </tr>\n",
       "    <tr>\n",
       "      <th>NumberOfPersonVisiting</th>\n",
       "      <td>4888.0</td>\n",
       "      <td>2.905074</td>\n",
       "      <td>0.724891</td>\n",
       "      <td>1.0</td>\n",
       "      <td>2.0</td>\n",
       "      <td>3.0</td>\n",
       "      <td>3.0</td>\n",
       "      <td>5.0</td>\n",
       "    </tr>\n",
       "    <tr>\n",
       "      <th>NumberOfFollowups</th>\n",
       "      <td>4843.0</td>\n",
       "      <td>3.708445</td>\n",
       "      <td>1.002509</td>\n",
       "      <td>1.0</td>\n",
       "      <td>3.0</td>\n",
       "      <td>4.0</td>\n",
       "      <td>4.0</td>\n",
       "      <td>6.0</td>\n",
       "    </tr>\n",
       "    <tr>\n",
       "      <th>PreferredPropertyStar</th>\n",
       "      <td>4862.0</td>\n",
       "      <td>3.581037</td>\n",
       "      <td>0.798009</td>\n",
       "      <td>3.0</td>\n",
       "      <td>3.0</td>\n",
       "      <td>3.0</td>\n",
       "      <td>4.0</td>\n",
       "      <td>5.0</td>\n",
       "    </tr>\n",
       "    <tr>\n",
       "      <th>NumberOfTrips</th>\n",
       "      <td>4748.0</td>\n",
       "      <td>3.236521</td>\n",
       "      <td>1.849019</td>\n",
       "      <td>1.0</td>\n",
       "      <td>2.0</td>\n",
       "      <td>3.0</td>\n",
       "      <td>4.0</td>\n",
       "      <td>22.0</td>\n",
       "    </tr>\n",
       "    <tr>\n",
       "      <th>Passport</th>\n",
       "      <td>4888.0</td>\n",
       "      <td>0.290917</td>\n",
       "      <td>0.454232</td>\n",
       "      <td>0.0</td>\n",
       "      <td>0.0</td>\n",
       "      <td>0.0</td>\n",
       "      <td>1.0</td>\n",
       "      <td>1.0</td>\n",
       "    </tr>\n",
       "    <tr>\n",
       "      <th>PitchSatisfactionScore</th>\n",
       "      <td>4888.0</td>\n",
       "      <td>3.078151</td>\n",
       "      <td>1.365792</td>\n",
       "      <td>1.0</td>\n",
       "      <td>2.0</td>\n",
       "      <td>3.0</td>\n",
       "      <td>4.0</td>\n",
       "      <td>5.0</td>\n",
       "    </tr>\n",
       "    <tr>\n",
       "      <th>OwnCar</th>\n",
       "      <td>4888.0</td>\n",
       "      <td>0.620295</td>\n",
       "      <td>0.485363</td>\n",
       "      <td>0.0</td>\n",
       "      <td>0.0</td>\n",
       "      <td>1.0</td>\n",
       "      <td>1.0</td>\n",
       "      <td>1.0</td>\n",
       "    </tr>\n",
       "    <tr>\n",
       "      <th>NumberOfChildrenVisiting</th>\n",
       "      <td>4822.0</td>\n",
       "      <td>1.187267</td>\n",
       "      <td>0.857861</td>\n",
       "      <td>0.0</td>\n",
       "      <td>1.0</td>\n",
       "      <td>1.0</td>\n",
       "      <td>2.0</td>\n",
       "      <td>3.0</td>\n",
       "    </tr>\n",
       "    <tr>\n",
       "      <th>MonthlyIncome</th>\n",
       "      <td>4655.0</td>\n",
       "      <td>23619.853491</td>\n",
       "      <td>5380.698361</td>\n",
       "      <td>1000.0</td>\n",
       "      <td>20346.0</td>\n",
       "      <td>22347.0</td>\n",
       "      <td>25571.0</td>\n",
       "      <td>98678.0</td>\n",
       "    </tr>\n",
       "  </tbody>\n",
       "</table>\n",
       "</div>"
      ],
      "text/plain": [
       "                           count          mean          std     min      25%  \\\n",
       "ProdTaken                 4888.0      0.188216     0.390925     0.0      0.0   \n",
       "Age                       4662.0     37.622265     9.316387    18.0     31.0   \n",
       "CityTier                  4888.0      1.654255     0.916583     1.0      1.0   \n",
       "DurationOfPitch           4637.0     15.490835     8.519643     5.0      9.0   \n",
       "NumberOfPersonVisiting    4888.0      2.905074     0.724891     1.0      2.0   \n",
       "NumberOfFollowups         4843.0      3.708445     1.002509     1.0      3.0   \n",
       "PreferredPropertyStar     4862.0      3.581037     0.798009     3.0      3.0   \n",
       "NumberOfTrips             4748.0      3.236521     1.849019     1.0      2.0   \n",
       "Passport                  4888.0      0.290917     0.454232     0.0      0.0   \n",
       "PitchSatisfactionScore    4888.0      3.078151     1.365792     1.0      2.0   \n",
       "OwnCar                    4888.0      0.620295     0.485363     0.0      0.0   \n",
       "NumberOfChildrenVisiting  4822.0      1.187267     0.857861     0.0      1.0   \n",
       "MonthlyIncome             4655.0  23619.853491  5380.698361  1000.0  20346.0   \n",
       "\n",
       "                              50%      75%      max  \n",
       "ProdTaken                     0.0      0.0      1.0  \n",
       "Age                          36.0     44.0     61.0  \n",
       "CityTier                      1.0      3.0      3.0  \n",
       "DurationOfPitch              13.0     20.0    127.0  \n",
       "NumberOfPersonVisiting        3.0      3.0      5.0  \n",
       "NumberOfFollowups             4.0      4.0      6.0  \n",
       "PreferredPropertyStar         3.0      4.0      5.0  \n",
       "NumberOfTrips                 3.0      4.0     22.0  \n",
       "Passport                      0.0      1.0      1.0  \n",
       "PitchSatisfactionScore        3.0      4.0      5.0  \n",
       "OwnCar                        1.0      1.0      1.0  \n",
       "NumberOfChildrenVisiting      1.0      2.0      3.0  \n",
       "MonthlyIncome             22347.0  25571.0  98678.0  "
      ]
     },
     "execution_count": 378,
     "metadata": {},
     "output_type": "execute_result"
    }
   ],
   "source": [
    "# Removing the unique feature 'CustomerID' for statistical analysis\n",
    "num_colum.remove('CustomerID')\n",
    "data[num_colum].describe().T"
   ]
  },
  {
   "cell_type": "markdown",
   "id": "e99ae52c-7868-4d12-875e-e2b1b7a74ab9",
   "metadata": {},
   "source": [
    "**Observations of Univariate Analysis of Numerical Features**\n",
    "   1. **Age**: \n",
    "      - Average age is approx. 38 years with standard devaition of 9.31.\n",
    "      - In the dataset 'Travel', the youngest person entry is 18 years old and the oldest is 61 years old.\n",
    "      - 25 percentage of entries holds people below 31 years old.\n",
    "      - 50 percentage of entries holds people below 36 years old.\n",
    "      - 75 percentage of entries holds people below 44 years old.\n",
    "   2. **DurationOfPitch**\n",
    "      - Average duration of pitch is approx. 15.49 with standard devaition of 8.52.\n",
    "      - In the dataset 'Travel', the minimum duration of pitch is 5 and maximum is 127.\n",
    "   3. **NumberOfPersonVisiting**\n",
    "      - The average number of person visiting is 2.90 with standard deviation of 1.00.\n",
    "      - Minimum number of person visiting is 1 and maximum is 5.\n",
    "   4. **NumberOfFollowups**\n",
    "      - The average number of followups is 3.70 with standard deviation of 0.72.\n",
    "      - Minimum number of followups is 1 and maximum is 6. \n",
    "   5. **NumberOfTrips**\n",
    "      - The average number of trips is 3.23 with standard deviation of 1.84.\n",
    "      - Minimum number of trips is 1 and maximum is 22.\n",
    "      - 25 percentage of entries holds people who has trips below 2.\n",
    "      - 50 percentage of entries holds people who has trips below 3.\n",
    "      - 75 percentage of entries holds people who has trips below 4.\n",
    "      - NumberOfTrips follows RIGHT SKEWED DISTRIBUTION.\n",
    "   6. **MonthlyIncome**\n",
    "      - Average monthly income is approx. 23619.85 with standard devaition of 5380.69.\n",
    "      - In the dataset 'Travel', the lowest salary a person get is 1000.0 and the highest is 98678.0.\n",
    "      - 25 percentage of entries holds people who has salary below 20346.\n",
    "      - 50 percentage of entries holds people who has salary below 22347.\n",
    "      - 75 percentage of entries holds people who has salary below 25571.\n",
    "      - MonthlyIncome follows RIGHT SKEWED DISTRIBUTION."
   ]
  },
  {
   "cell_type": "markdown",
   "id": "a30a67bc-2032-4cc5-a64e-a3666afb706a",
   "metadata": {},
   "source": [
    "#### 2.1.2 Univariate Analysis of Categorical Features"
   ]
  },
  {
   "cell_type": "code",
   "execution_count": 379,
   "id": "93852db5-03b6-4a85-84d5-688f893fc38e",
   "metadata": {},
   "outputs": [
    {
     "data": {
      "text/html": [
       "<div>\n",
       "<style scoped>\n",
       "    .dataframe tbody tr th:only-of-type {\n",
       "        vertical-align: middle;\n",
       "    }\n",
       "\n",
       "    .dataframe tbody tr th {\n",
       "        vertical-align: top;\n",
       "    }\n",
       "\n",
       "    .dataframe thead th {\n",
       "        text-align: right;\n",
       "    }\n",
       "</style>\n",
       "<table border=\"1\" class=\"dataframe\">\n",
       "  <thead>\n",
       "    <tr style=\"text-align: right;\">\n",
       "      <th></th>\n",
       "      <th>count</th>\n",
       "      <th>unique</th>\n",
       "      <th>top</th>\n",
       "      <th>freq</th>\n",
       "    </tr>\n",
       "  </thead>\n",
       "  <tbody>\n",
       "    <tr>\n",
       "      <th>TypeofContact</th>\n",
       "      <td>4863</td>\n",
       "      <td>2</td>\n",
       "      <td>Self Enquiry</td>\n",
       "      <td>3444</td>\n",
       "    </tr>\n",
       "    <tr>\n",
       "      <th>Occupation</th>\n",
       "      <td>4888</td>\n",
       "      <td>4</td>\n",
       "      <td>Salaried</td>\n",
       "      <td>2368</td>\n",
       "    </tr>\n",
       "    <tr>\n",
       "      <th>Gender</th>\n",
       "      <td>4888</td>\n",
       "      <td>3</td>\n",
       "      <td>Male</td>\n",
       "      <td>2916</td>\n",
       "    </tr>\n",
       "    <tr>\n",
       "      <th>ProductPitched</th>\n",
       "      <td>4888</td>\n",
       "      <td>5</td>\n",
       "      <td>Basic</td>\n",
       "      <td>1842</td>\n",
       "    </tr>\n",
       "    <tr>\n",
       "      <th>MaritalStatus</th>\n",
       "      <td>4888</td>\n",
       "      <td>4</td>\n",
       "      <td>Married</td>\n",
       "      <td>2340</td>\n",
       "    </tr>\n",
       "    <tr>\n",
       "      <th>Designation</th>\n",
       "      <td>4888</td>\n",
       "      <td>5</td>\n",
       "      <td>Executive</td>\n",
       "      <td>1842</td>\n",
       "    </tr>\n",
       "  </tbody>\n",
       "</table>\n",
       "</div>"
      ],
      "text/plain": [
       "               count unique           top  freq\n",
       "TypeofContact   4863      2  Self Enquiry  3444\n",
       "Occupation      4888      4      Salaried  2368\n",
       "Gender          4888      3          Male  2916\n",
       "ProductPitched  4888      5         Basic  1842\n",
       "MaritalStatus   4888      4       Married  2340\n",
       "Designation     4888      5     Executive  1842"
      ]
     },
     "execution_count": 379,
     "metadata": {},
     "output_type": "execute_result"
    }
   ],
   "source": [
    "data[cat_colum].describe().T"
   ]
  },
  {
   "cell_type": "markdown",
   "id": "94ca4f5f-6530-47cf-a0f5-37cc46d5b2d5",
   "metadata": {},
   "source": [
    "#### **Skewness**\n",
    "- The three types of skewness are:\n",
    "  - Right skew (also called positive skew). A right-skewed distribution is longer on the right side of its peak than on its left.\n",
    "  - Left skew (also called negative skew). A left-skewed distribution is longer on the left side of its peak than on its right.\n",
    "  - Zero skew."
   ]
  },
  {
   "cell_type": "code",
   "execution_count": 380,
   "id": "d5395834-52d3-4afa-8de6-b80cb5983464",
   "metadata": {},
   "outputs": [
    {
     "data": {
      "text/plain": [
       "CustomerID                  0.000000\n",
       "ProdTaken                   1.595763\n",
       "Age                         0.382989\n",
       "CityTier                    0.736531\n",
       "DurationOfPitch             1.752037\n",
       "NumberOfPersonVisiting      0.029817\n",
       "NumberOfFollowups          -0.372719\n",
       "PreferredPropertyStar       0.895545\n",
       "NumberOfTrips               1.453884\n",
       "Passport                    0.920980\n",
       "PitchSatisfactionScore     -0.127726\n",
       "OwnCar                     -0.495892\n",
       "NumberOfChildrenVisiting    0.272199\n",
       "MonthlyIncome               1.949160\n",
       "dtype: float64"
      ]
     },
     "execution_count": 380,
     "metadata": {},
     "output_type": "execute_result"
    }
   ],
   "source": [
    "data.skew()\n",
    "# NumberOfFollowups, PitchSatisfactionScore, OwnCar are negatively skewed means left skewed. \n",
    "# rest are positively skwed except CustomerID(unique feature.)"
   ]
  },
  {
   "cell_type": "markdown",
   "id": "eb73d5b0-e33d-4ca3-961f-19555c444d09",
   "metadata": {},
   "source": [
    "### 2.2 Bivariate\n",
    "#### 2.2.1 Bivariate Analysis of Numerical Features\n",
    "#### **Covariance:**\n",
    "        - If covariance gets found as positive. It means variable X and variable Y variate in the same direction. In other words, if a value in variable X is higher, it is expected to be high in the corresponding value in variable Y too. In short, there is a positive relationship between them. \n",
    "        - If there is a negative covariance, this is interpreted right as the opposite. That is, there is a negative relationship between the two variables."
   ]
  },
  {
   "cell_type": "code",
   "execution_count": 381,
   "id": "b693e233-b0b0-4400-a6ec-b0946247d6ab",
   "metadata": {},
   "outputs": [
    {
     "data": {
      "text/html": [
       "<div>\n",
       "<style scoped>\n",
       "    .dataframe tbody tr th:only-of-type {\n",
       "        vertical-align: middle;\n",
       "    }\n",
       "\n",
       "    .dataframe tbody tr th {\n",
       "        vertical-align: top;\n",
       "    }\n",
       "\n",
       "    .dataframe thead th {\n",
       "        text-align: right;\n",
       "    }\n",
       "</style>\n",
       "<table border=\"1\" class=\"dataframe\">\n",
       "  <thead>\n",
       "    <tr style=\"text-align: right;\">\n",
       "      <th></th>\n",
       "      <th>ProdTaken</th>\n",
       "      <th>Age</th>\n",
       "      <th>CityTier</th>\n",
       "      <th>DurationOfPitch</th>\n",
       "      <th>NumberOfPersonVisiting</th>\n",
       "      <th>NumberOfFollowups</th>\n",
       "      <th>PreferredPropertyStar</th>\n",
       "      <th>NumberOfTrips</th>\n",
       "      <th>Passport</th>\n",
       "      <th>PitchSatisfactionScore</th>\n",
       "      <th>OwnCar</th>\n",
       "      <th>NumberOfChildrenVisiting</th>\n",
       "      <th>MonthlyIncome</th>\n",
       "    </tr>\n",
       "  </thead>\n",
       "  <tbody>\n",
       "    <tr>\n",
       "      <th>ProdTaken</th>\n",
       "      <td>0.152822</td>\n",
       "      <td>-0.535959</td>\n",
       "      <td>0.031120</td>\n",
       "      <td>0.260897</td>\n",
       "      <td>0.002728</td>\n",
       "      <td>0.043969</td>\n",
       "      <td>0.031050</td>\n",
       "      <td>0.013743</td>\n",
       "      <td>0.046318</td>\n",
       "      <td>0.027440</td>\n",
       "      <td>-0.002184</td>\n",
       "      <td>0.002494</td>\n",
       "      <td>-2.760977e+02</td>\n",
       "    </tr>\n",
       "    <tr>\n",
       "      <th>Age</th>\n",
       "      <td>-0.535959</td>\n",
       "      <td>86.795067</td>\n",
       "      <td>-0.134168</td>\n",
       "      <td>-0.944440</td>\n",
       "      <td>0.078126</td>\n",
       "      <td>-0.024058</td>\n",
       "      <td>-0.077447</td>\n",
       "      <td>3.158372</td>\n",
       "      <td>0.141269</td>\n",
       "      <td>0.235235</td>\n",
       "      <td>0.220050</td>\n",
       "      <td>0.058470</td>\n",
       "      <td>2.336518e+04</td>\n",
       "    </tr>\n",
       "    <tr>\n",
       "      <th>CityTier</th>\n",
       "      <td>0.031120</td>\n",
       "      <td>-0.134168</td>\n",
       "      <td>0.840125</td>\n",
       "      <td>0.176544</td>\n",
       "      <td>-0.001110</td>\n",
       "      <td>0.021716</td>\n",
       "      <td>-0.006707</td>\n",
       "      <td>-0.050474</td>\n",
       "      <td>0.000747</td>\n",
       "      <td>-0.052778</td>\n",
       "      <td>0.001698</td>\n",
       "      <td>0.000529</td>\n",
       "      <td>2.559460e+02</td>\n",
       "    </tr>\n",
       "    <tr>\n",
       "      <th>DurationOfPitch</th>\n",
       "      <td>0.260897</td>\n",
       "      <td>-0.944440</td>\n",
       "      <td>0.176544</td>\n",
       "      <td>72.584310</td>\n",
       "      <td>0.401434</td>\n",
       "      <td>0.080699</td>\n",
       "      <td>-0.045149</td>\n",
       "      <td>0.154174</td>\n",
       "      <td>0.128118</td>\n",
       "      <td>-0.033569</td>\n",
       "      <td>-0.006731</td>\n",
       "      <td>0.229346</td>\n",
       "      <td>-2.891828e+02</td>\n",
       "    </tr>\n",
       "    <tr>\n",
       "      <th>NumberOfPersonVisiting</th>\n",
       "      <td>0.002728</td>\n",
       "      <td>0.078126</td>\n",
       "      <td>-0.001110</td>\n",
       "      <td>0.401434</td>\n",
       "      <td>0.525466</td>\n",
       "      <td>0.238479</td>\n",
       "      <td>0.019575</td>\n",
       "      <td>0.261809</td>\n",
       "      <td>0.003680</td>\n",
       "      <td>-0.019386</td>\n",
       "      <td>0.003646</td>\n",
       "      <td>0.380176</td>\n",
       "      <td>7.565188e+02</td>\n",
       "    </tr>\n",
       "    <tr>\n",
       "      <th>NumberOfFollowups</th>\n",
       "      <td>0.043969</td>\n",
       "      <td>-0.024058</td>\n",
       "      <td>0.021716</td>\n",
       "      <td>0.080699</td>\n",
       "      <td>0.238479</td>\n",
       "      <td>1.005024</td>\n",
       "      <td>-0.019309</td>\n",
       "      <td>0.259783</td>\n",
       "      <td>0.002265</td>\n",
       "      <td>0.005550</td>\n",
       "      <td>0.005894</td>\n",
       "      <td>0.246696</td>\n",
       "      <td>9.580277e+02</td>\n",
       "    </tr>\n",
       "    <tr>\n",
       "      <th>PreferredPropertyStar</th>\n",
       "      <td>0.031050</td>\n",
       "      <td>-0.077447</td>\n",
       "      <td>-0.006707</td>\n",
       "      <td>-0.045149</td>\n",
       "      <td>0.019575</td>\n",
       "      <td>-0.019309</td>\n",
       "      <td>0.636818</td>\n",
       "      <td>0.017840</td>\n",
       "      <td>0.000377</td>\n",
       "      <td>-0.024736</td>\n",
       "      <td>0.006102</td>\n",
       "      <td>0.024441</td>\n",
       "      <td>5.884892e+01</td>\n",
       "    </tr>\n",
       "    <tr>\n",
       "      <th>NumberOfTrips</th>\n",
       "      <td>0.013743</td>\n",
       "      <td>3.158372</td>\n",
       "      <td>-0.050474</td>\n",
       "      <td>0.154174</td>\n",
       "      <td>0.261809</td>\n",
       "      <td>0.259783</td>\n",
       "      <td>0.017840</td>\n",
       "      <td>3.418872</td>\n",
       "      <td>0.010882</td>\n",
       "      <td>-0.011035</td>\n",
       "      <td>-0.010622</td>\n",
       "      <td>0.267269</td>\n",
       "      <td>1.265226e+03</td>\n",
       "    </tr>\n",
       "    <tr>\n",
       "      <th>Passport</th>\n",
       "      <td>0.046318</td>\n",
       "      <td>0.141269</td>\n",
       "      <td>0.000747</td>\n",
       "      <td>0.128118</td>\n",
       "      <td>0.003680</td>\n",
       "      <td>0.002265</td>\n",
       "      <td>0.000377</td>\n",
       "      <td>0.010882</td>\n",
       "      <td>0.206326</td>\n",
       "      <td>0.001815</td>\n",
       "      <td>-0.004923</td>\n",
       "      <td>0.007898</td>\n",
       "      <td>6.230027e+00</td>\n",
       "    </tr>\n",
       "    <tr>\n",
       "      <th>PitchSatisfactionScore</th>\n",
       "      <td>0.027440</td>\n",
       "      <td>0.235235</td>\n",
       "      <td>-0.052778</td>\n",
       "      <td>-0.033569</td>\n",
       "      <td>-0.019386</td>\n",
       "      <td>0.005550</td>\n",
       "      <td>-0.024736</td>\n",
       "      <td>-0.011035</td>\n",
       "      <td>0.001815</td>\n",
       "      <td>1.865387</td>\n",
       "      <td>0.045641</td>\n",
       "      <td>0.001029</td>\n",
       "      <td>2.236679e+02</td>\n",
       "    </tr>\n",
       "    <tr>\n",
       "      <th>OwnCar</th>\n",
       "      <td>-0.002184</td>\n",
       "      <td>0.220050</td>\n",
       "      <td>0.001698</td>\n",
       "      <td>-0.006731</td>\n",
       "      <td>0.003646</td>\n",
       "      <td>0.005894</td>\n",
       "      <td>0.006102</td>\n",
       "      <td>-0.010622</td>\n",
       "      <td>-0.004923</td>\n",
       "      <td>0.045641</td>\n",
       "      <td>0.235577</td>\n",
       "      <td>0.011073</td>\n",
       "      <td>2.095549e+02</td>\n",
       "    </tr>\n",
       "    <tr>\n",
       "      <th>NumberOfChildrenVisiting</th>\n",
       "      <td>0.002494</td>\n",
       "      <td>0.058470</td>\n",
       "      <td>0.000529</td>\n",
       "      <td>0.229346</td>\n",
       "      <td>0.380176</td>\n",
       "      <td>0.246696</td>\n",
       "      <td>0.024441</td>\n",
       "      <td>0.267269</td>\n",
       "      <td>0.007898</td>\n",
       "      <td>0.001029</td>\n",
       "      <td>0.011073</td>\n",
       "      <td>0.735926</td>\n",
       "      <td>9.048496e+02</td>\n",
       "    </tr>\n",
       "    <tr>\n",
       "      <th>MonthlyIncome</th>\n",
       "      <td>-276.097744</td>\n",
       "      <td>23365.183349</td>\n",
       "      <td>255.945958</td>\n",
       "      <td>-289.182796</td>\n",
       "      <td>756.518793</td>\n",
       "      <td>958.027680</td>\n",
       "      <td>58.848919</td>\n",
       "      <td>1265.226486</td>\n",
       "      <td>6.230027</td>\n",
       "      <td>223.667867</td>\n",
       "      <td>209.554880</td>\n",
       "      <td>904.849579</td>\n",
       "      <td>2.895191e+07</td>\n",
       "    </tr>\n",
       "  </tbody>\n",
       "</table>\n",
       "</div>"
      ],
      "text/plain": [
       "                           ProdTaken           Age    CityTier  \\\n",
       "ProdTaken                   0.152822     -0.535959    0.031120   \n",
       "Age                        -0.535959     86.795067   -0.134168   \n",
       "CityTier                    0.031120     -0.134168    0.840125   \n",
       "DurationOfPitch             0.260897     -0.944440    0.176544   \n",
       "NumberOfPersonVisiting      0.002728      0.078126   -0.001110   \n",
       "NumberOfFollowups           0.043969     -0.024058    0.021716   \n",
       "PreferredPropertyStar       0.031050     -0.077447   -0.006707   \n",
       "NumberOfTrips               0.013743      3.158372   -0.050474   \n",
       "Passport                    0.046318      0.141269    0.000747   \n",
       "PitchSatisfactionScore      0.027440      0.235235   -0.052778   \n",
       "OwnCar                     -0.002184      0.220050    0.001698   \n",
       "NumberOfChildrenVisiting    0.002494      0.058470    0.000529   \n",
       "MonthlyIncome            -276.097744  23365.183349  255.945958   \n",
       "\n",
       "                          DurationOfPitch  NumberOfPersonVisiting  \\\n",
       "ProdTaken                        0.260897                0.002728   \n",
       "Age                             -0.944440                0.078126   \n",
       "CityTier                         0.176544               -0.001110   \n",
       "DurationOfPitch                 72.584310                0.401434   \n",
       "NumberOfPersonVisiting           0.401434                0.525466   \n",
       "NumberOfFollowups                0.080699                0.238479   \n",
       "PreferredPropertyStar           -0.045149                0.019575   \n",
       "NumberOfTrips                    0.154174                0.261809   \n",
       "Passport                         0.128118                0.003680   \n",
       "PitchSatisfactionScore          -0.033569               -0.019386   \n",
       "OwnCar                          -0.006731                0.003646   \n",
       "NumberOfChildrenVisiting         0.229346                0.380176   \n",
       "MonthlyIncome                 -289.182796              756.518793   \n",
       "\n",
       "                          NumberOfFollowups  PreferredPropertyStar  \\\n",
       "ProdTaken                          0.043969               0.031050   \n",
       "Age                               -0.024058              -0.077447   \n",
       "CityTier                           0.021716              -0.006707   \n",
       "DurationOfPitch                    0.080699              -0.045149   \n",
       "NumberOfPersonVisiting             0.238479               0.019575   \n",
       "NumberOfFollowups                  1.005024              -0.019309   \n",
       "PreferredPropertyStar             -0.019309               0.636818   \n",
       "NumberOfTrips                      0.259783               0.017840   \n",
       "Passport                           0.002265               0.000377   \n",
       "PitchSatisfactionScore             0.005550              -0.024736   \n",
       "OwnCar                             0.005894               0.006102   \n",
       "NumberOfChildrenVisiting           0.246696               0.024441   \n",
       "MonthlyIncome                    958.027680              58.848919   \n",
       "\n",
       "                          NumberOfTrips  Passport  PitchSatisfactionScore  \\\n",
       "ProdTaken                      0.013743  0.046318                0.027440   \n",
       "Age                            3.158372  0.141269                0.235235   \n",
       "CityTier                      -0.050474  0.000747               -0.052778   \n",
       "DurationOfPitch                0.154174  0.128118               -0.033569   \n",
       "NumberOfPersonVisiting         0.261809  0.003680               -0.019386   \n",
       "NumberOfFollowups              0.259783  0.002265                0.005550   \n",
       "PreferredPropertyStar          0.017840  0.000377               -0.024736   \n",
       "NumberOfTrips                  3.418872  0.010882               -0.011035   \n",
       "Passport                       0.010882  0.206326                0.001815   \n",
       "PitchSatisfactionScore        -0.011035  0.001815                1.865387   \n",
       "OwnCar                        -0.010622 -0.004923                0.045641   \n",
       "NumberOfChildrenVisiting       0.267269  0.007898                0.001029   \n",
       "MonthlyIncome               1265.226486  6.230027              223.667867   \n",
       "\n",
       "                              OwnCar  NumberOfChildrenVisiting  MonthlyIncome  \n",
       "ProdTaken                  -0.002184                  0.002494  -2.760977e+02  \n",
       "Age                         0.220050                  0.058470   2.336518e+04  \n",
       "CityTier                    0.001698                  0.000529   2.559460e+02  \n",
       "DurationOfPitch            -0.006731                  0.229346  -2.891828e+02  \n",
       "NumberOfPersonVisiting      0.003646                  0.380176   7.565188e+02  \n",
       "NumberOfFollowups           0.005894                  0.246696   9.580277e+02  \n",
       "PreferredPropertyStar       0.006102                  0.024441   5.884892e+01  \n",
       "NumberOfTrips              -0.010622                  0.267269   1.265226e+03  \n",
       "Passport                   -0.004923                  0.007898   6.230027e+00  \n",
       "PitchSatisfactionScore      0.045641                  0.001029   2.236679e+02  \n",
       "OwnCar                      0.235577                  0.011073   2.095549e+02  \n",
       "NumberOfChildrenVisiting    0.011073                  0.735926   9.048496e+02  \n",
       "MonthlyIncome             209.554880                904.849579   2.895191e+07  "
      ]
     },
     "execution_count": 381,
     "metadata": {},
     "output_type": "execute_result"
    }
   ],
   "source": [
    "data[num_colum].cov()"
   ]
  },
  {
   "cell_type": "markdown",
   "id": "bcf14f56-6e8e-45c0-b589-a0313f7a7ac1",
   "metadata": {},
   "source": [
    "- Older people are more probable to have higher number of trips as 'Age' has covariance with 'NumberOfTrips' = 3.158372.\n",
    "- Older people has high monthly income as 'MonthlyIncome' has covariance of 23365.183349 with Age.\n",
    "- People with high monthlt income are more probable to travel in higher city tier with covariance of 255.945958.\n",
    "- As the city tier increases number of person visiting redices. people are less probable to travel in higher city tier.\n",
    "- People who owns car are less probab;e to have a passport."
   ]
  },
  {
   "cell_type": "markdown",
   "id": "329a1d0a-b01c-41b6-bc72-da08657247fe",
   "metadata": {},
   "source": [
    "#### **Correlation:**\n",
    "  - Features with high correlation are more linearly dependent and hence have almost the same effect on the dependent variable. So, when two features have high correlation, we can drop one of the two features.\n",
    "  - more the vlaue towards +1, more positively correlated it is. more the value towards -1 more the negatively correlated it is."
   ]
  },
  {
   "cell_type": "code",
   "execution_count": 459,
   "id": "85fdb0c4-6c51-41e7-8334-28518abf64fd",
   "metadata": {},
   "outputs": [
    {
     "data": {
      "text/html": [
       "<div>\n",
       "<style scoped>\n",
       "    .dataframe tbody tr th:only-of-type {\n",
       "        vertical-align: middle;\n",
       "    }\n",
       "\n",
       "    .dataframe tbody tr th {\n",
       "        vertical-align: top;\n",
       "    }\n",
       "\n",
       "    .dataframe thead th {\n",
       "        text-align: right;\n",
       "    }\n",
       "</style>\n",
       "<table border=\"1\" class=\"dataframe\">\n",
       "  <thead>\n",
       "    <tr style=\"text-align: right;\">\n",
       "      <th></th>\n",
       "      <th>ProdTaken</th>\n",
       "      <th>Age</th>\n",
       "      <th>CityTier</th>\n",
       "      <th>DurationOfPitch</th>\n",
       "      <th>NumberOfPersonVisiting</th>\n",
       "      <th>NumberOfFollowups</th>\n",
       "      <th>PreferredPropertyStar</th>\n",
       "      <th>NumberOfTrips</th>\n",
       "      <th>Passport</th>\n",
       "      <th>PitchSatisfactionScore</th>\n",
       "      <th>OwnCar</th>\n",
       "      <th>NumberOfChildrenVisiting</th>\n",
       "      <th>MonthlyIncome</th>\n",
       "    </tr>\n",
       "  </thead>\n",
       "  <tbody>\n",
       "    <tr>\n",
       "      <th>ProdTaken</th>\n",
       "      <td>1.000000</td>\n",
       "      <td>-0.147254</td>\n",
       "      <td>0.086852</td>\n",
       "      <td>0.078257</td>\n",
       "      <td>0.009627</td>\n",
       "      <td>0.112171</td>\n",
       "      <td>0.099577</td>\n",
       "      <td>0.018898</td>\n",
       "      <td>0.260844</td>\n",
       "      <td>0.051394</td>\n",
       "      <td>-0.011508</td>\n",
       "      <td>0.007421</td>\n",
       "      <td>-0.130585</td>\n",
       "    </tr>\n",
       "    <tr>\n",
       "      <th>Age</th>\n",
       "      <td>-0.147254</td>\n",
       "      <td>1.000000</td>\n",
       "      <td>-0.015625</td>\n",
       "      <td>-0.012063</td>\n",
       "      <td>0.011621</td>\n",
       "      <td>-0.002577</td>\n",
       "      <td>-0.010474</td>\n",
       "      <td>0.184905</td>\n",
       "      <td>0.033399</td>\n",
       "      <td>0.018510</td>\n",
       "      <td>0.048654</td>\n",
       "      <td>0.007370</td>\n",
       "      <td>0.464869</td>\n",
       "    </tr>\n",
       "    <tr>\n",
       "      <th>CityTier</th>\n",
       "      <td>0.086852</td>\n",
       "      <td>-0.015625</td>\n",
       "      <td>1.000000</td>\n",
       "      <td>0.022703</td>\n",
       "      <td>-0.001671</td>\n",
       "      <td>0.023652</td>\n",
       "      <td>-0.009164</td>\n",
       "      <td>-0.029709</td>\n",
       "      <td>0.001793</td>\n",
       "      <td>-0.042160</td>\n",
       "      <td>0.003817</td>\n",
       "      <td>0.000672</td>\n",
       "      <td>0.051817</td>\n",
       "    </tr>\n",
       "    <tr>\n",
       "      <th>DurationOfPitch</th>\n",
       "      <td>0.078257</td>\n",
       "      <td>-0.012063</td>\n",
       "      <td>0.022703</td>\n",
       "      <td>1.000000</td>\n",
       "      <td>0.065141</td>\n",
       "      <td>0.009434</td>\n",
       "      <td>-0.006637</td>\n",
       "      <td>0.009715</td>\n",
       "      <td>0.033034</td>\n",
       "      <td>-0.002880</td>\n",
       "      <td>-0.001626</td>\n",
       "      <td>0.031408</td>\n",
       "      <td>-0.006252</td>\n",
       "    </tr>\n",
       "    <tr>\n",
       "      <th>NumberOfPersonVisiting</th>\n",
       "      <td>0.009627</td>\n",
       "      <td>0.011621</td>\n",
       "      <td>-0.001671</td>\n",
       "      <td>0.065141</td>\n",
       "      <td>1.000000</td>\n",
       "      <td>0.328569</td>\n",
       "      <td>0.033867</td>\n",
       "      <td>0.195223</td>\n",
       "      <td>0.011177</td>\n",
       "      <td>-0.019581</td>\n",
       "      <td>0.010362</td>\n",
       "      <td>0.610621</td>\n",
       "      <td>0.195134</td>\n",
       "    </tr>\n",
       "    <tr>\n",
       "      <th>NumberOfFollowups</th>\n",
       "      <td>0.112171</td>\n",
       "      <td>-0.002577</td>\n",
       "      <td>0.023652</td>\n",
       "      <td>0.009434</td>\n",
       "      <td>0.328569</td>\n",
       "      <td>1.000000</td>\n",
       "      <td>-0.024176</td>\n",
       "      <td>0.139517</td>\n",
       "      <td>0.004970</td>\n",
       "      <td>0.004054</td>\n",
       "      <td>0.012112</td>\n",
       "      <td>0.286425</td>\n",
       "      <td>0.176503</td>\n",
       "    </tr>\n",
       "    <tr>\n",
       "      <th>PreferredPropertyStar</th>\n",
       "      <td>0.099577</td>\n",
       "      <td>-0.010474</td>\n",
       "      <td>-0.009164</td>\n",
       "      <td>-0.006637</td>\n",
       "      <td>0.033867</td>\n",
       "      <td>-0.024176</td>\n",
       "      <td>1.000000</td>\n",
       "      <td>0.012115</td>\n",
       "      <td>0.001040</td>\n",
       "      <td>-0.022701</td>\n",
       "      <td>0.015742</td>\n",
       "      <td>0.035798</td>\n",
       "      <td>0.014289</td>\n",
       "    </tr>\n",
       "    <tr>\n",
       "      <th>NumberOfTrips</th>\n",
       "      <td>0.018898</td>\n",
       "      <td>0.184905</td>\n",
       "      <td>-0.029709</td>\n",
       "      <td>0.009715</td>\n",
       "      <td>0.195223</td>\n",
       "      <td>0.139517</td>\n",
       "      <td>0.012115</td>\n",
       "      <td>1.000000</td>\n",
       "      <td>0.012949</td>\n",
       "      <td>-0.004378</td>\n",
       "      <td>-0.011825</td>\n",
       "      <td>0.168795</td>\n",
       "      <td>0.139105</td>\n",
       "    </tr>\n",
       "    <tr>\n",
       "      <th>Passport</th>\n",
       "      <td>0.260844</td>\n",
       "      <td>0.033399</td>\n",
       "      <td>0.001793</td>\n",
       "      <td>0.033034</td>\n",
       "      <td>0.011177</td>\n",
       "      <td>0.004970</td>\n",
       "      <td>0.001040</td>\n",
       "      <td>0.012949</td>\n",
       "      <td>1.000000</td>\n",
       "      <td>0.002926</td>\n",
       "      <td>-0.022330</td>\n",
       "      <td>0.020264</td>\n",
       "      <td>0.002545</td>\n",
       "    </tr>\n",
       "    <tr>\n",
       "      <th>PitchSatisfactionScore</th>\n",
       "      <td>0.051394</td>\n",
       "      <td>0.018510</td>\n",
       "      <td>-0.042160</td>\n",
       "      <td>-0.002880</td>\n",
       "      <td>-0.019581</td>\n",
       "      <td>0.004054</td>\n",
       "      <td>-0.022701</td>\n",
       "      <td>-0.004378</td>\n",
       "      <td>0.002926</td>\n",
       "      <td>1.000000</td>\n",
       "      <td>0.068850</td>\n",
       "      <td>0.000878</td>\n",
       "      <td>0.030421</td>\n",
       "    </tr>\n",
       "    <tr>\n",
       "      <th>OwnCar</th>\n",
       "      <td>-0.011508</td>\n",
       "      <td>0.048654</td>\n",
       "      <td>0.003817</td>\n",
       "      <td>-0.001626</td>\n",
       "      <td>0.010362</td>\n",
       "      <td>0.012112</td>\n",
       "      <td>0.015742</td>\n",
       "      <td>-0.011825</td>\n",
       "      <td>-0.022330</td>\n",
       "      <td>0.068850</td>\n",
       "      <td>1.000000</td>\n",
       "      <td>0.026572</td>\n",
       "      <td>0.080262</td>\n",
       "    </tr>\n",
       "    <tr>\n",
       "      <th>NumberOfChildrenVisiting</th>\n",
       "      <td>0.007421</td>\n",
       "      <td>0.007370</td>\n",
       "      <td>0.000672</td>\n",
       "      <td>0.031408</td>\n",
       "      <td>0.610621</td>\n",
       "      <td>0.286425</td>\n",
       "      <td>0.035798</td>\n",
       "      <td>0.168795</td>\n",
       "      <td>0.020264</td>\n",
       "      <td>0.000878</td>\n",
       "      <td>0.026572</td>\n",
       "      <td>1.000000</td>\n",
       "      <td>0.201643</td>\n",
       "    </tr>\n",
       "    <tr>\n",
       "      <th>MonthlyIncome</th>\n",
       "      <td>-0.130585</td>\n",
       "      <td>0.464869</td>\n",
       "      <td>0.051817</td>\n",
       "      <td>-0.006252</td>\n",
       "      <td>0.195134</td>\n",
       "      <td>0.176503</td>\n",
       "      <td>0.014289</td>\n",
       "      <td>0.139105</td>\n",
       "      <td>0.002545</td>\n",
       "      <td>0.030421</td>\n",
       "      <td>0.080262</td>\n",
       "      <td>0.201643</td>\n",
       "      <td>1.000000</td>\n",
       "    </tr>\n",
       "  </tbody>\n",
       "</table>\n",
       "</div>"
      ],
      "text/plain": [
       "                          ProdTaken       Age  CityTier  DurationOfPitch  \\\n",
       "ProdTaken                  1.000000 -0.147254  0.086852         0.078257   \n",
       "Age                       -0.147254  1.000000 -0.015625        -0.012063   \n",
       "CityTier                   0.086852 -0.015625  1.000000         0.022703   \n",
       "DurationOfPitch            0.078257 -0.012063  0.022703         1.000000   \n",
       "NumberOfPersonVisiting     0.009627  0.011621 -0.001671         0.065141   \n",
       "NumberOfFollowups          0.112171 -0.002577  0.023652         0.009434   \n",
       "PreferredPropertyStar      0.099577 -0.010474 -0.009164        -0.006637   \n",
       "NumberOfTrips              0.018898  0.184905 -0.029709         0.009715   \n",
       "Passport                   0.260844  0.033399  0.001793         0.033034   \n",
       "PitchSatisfactionScore     0.051394  0.018510 -0.042160        -0.002880   \n",
       "OwnCar                    -0.011508  0.048654  0.003817        -0.001626   \n",
       "NumberOfChildrenVisiting   0.007421  0.007370  0.000672         0.031408   \n",
       "MonthlyIncome             -0.130585  0.464869  0.051817        -0.006252   \n",
       "\n",
       "                          NumberOfPersonVisiting  NumberOfFollowups  \\\n",
       "ProdTaken                               0.009627           0.112171   \n",
       "Age                                     0.011621          -0.002577   \n",
       "CityTier                               -0.001671           0.023652   \n",
       "DurationOfPitch                         0.065141           0.009434   \n",
       "NumberOfPersonVisiting                  1.000000           0.328569   \n",
       "NumberOfFollowups                       0.328569           1.000000   \n",
       "PreferredPropertyStar                   0.033867          -0.024176   \n",
       "NumberOfTrips                           0.195223           0.139517   \n",
       "Passport                                0.011177           0.004970   \n",
       "PitchSatisfactionScore                 -0.019581           0.004054   \n",
       "OwnCar                                  0.010362           0.012112   \n",
       "NumberOfChildrenVisiting                0.610621           0.286425   \n",
       "MonthlyIncome                           0.195134           0.176503   \n",
       "\n",
       "                          PreferredPropertyStar  NumberOfTrips  Passport  \\\n",
       "ProdTaken                              0.099577       0.018898  0.260844   \n",
       "Age                                   -0.010474       0.184905  0.033399   \n",
       "CityTier                              -0.009164      -0.029709  0.001793   \n",
       "DurationOfPitch                       -0.006637       0.009715  0.033034   \n",
       "NumberOfPersonVisiting                 0.033867       0.195223  0.011177   \n",
       "NumberOfFollowups                     -0.024176       0.139517  0.004970   \n",
       "PreferredPropertyStar                  1.000000       0.012115  0.001040   \n",
       "NumberOfTrips                          0.012115       1.000000  0.012949   \n",
       "Passport                               0.001040       0.012949  1.000000   \n",
       "PitchSatisfactionScore                -0.022701      -0.004378  0.002926   \n",
       "OwnCar                                 0.015742      -0.011825 -0.022330   \n",
       "NumberOfChildrenVisiting               0.035798       0.168795  0.020264   \n",
       "MonthlyIncome                          0.014289       0.139105  0.002545   \n",
       "\n",
       "                          PitchSatisfactionScore    OwnCar  \\\n",
       "ProdTaken                               0.051394 -0.011508   \n",
       "Age                                     0.018510  0.048654   \n",
       "CityTier                               -0.042160  0.003817   \n",
       "DurationOfPitch                        -0.002880 -0.001626   \n",
       "NumberOfPersonVisiting                 -0.019581  0.010362   \n",
       "NumberOfFollowups                       0.004054  0.012112   \n",
       "PreferredPropertyStar                  -0.022701  0.015742   \n",
       "NumberOfTrips                          -0.004378 -0.011825   \n",
       "Passport                                0.002926 -0.022330   \n",
       "PitchSatisfactionScore                  1.000000  0.068850   \n",
       "OwnCar                                  0.068850  1.000000   \n",
       "NumberOfChildrenVisiting                0.000878  0.026572   \n",
       "MonthlyIncome                           0.030421  0.080262   \n",
       "\n",
       "                          NumberOfChildrenVisiting  MonthlyIncome  \n",
       "ProdTaken                                 0.007421      -0.130585  \n",
       "Age                                       0.007370       0.464869  \n",
       "CityTier                                  0.000672       0.051817  \n",
       "DurationOfPitch                           0.031408      -0.006252  \n",
       "NumberOfPersonVisiting                    0.610621       0.195134  \n",
       "NumberOfFollowups                         0.286425       0.176503  \n",
       "PreferredPropertyStar                     0.035798       0.014289  \n",
       "NumberOfTrips                             0.168795       0.139105  \n",
       "Passport                                  0.020264       0.002545  \n",
       "PitchSatisfactionScore                    0.000878       0.030421  \n",
       "OwnCar                                    0.026572       0.080262  \n",
       "NumberOfChildrenVisiting                  1.000000       0.201643  \n",
       "MonthlyIncome                             0.201643       1.000000  "
      ]
     },
     "execution_count": 459,
     "metadata": {},
     "output_type": "execute_result"
    }
   ],
   "source": [
    "data[num_colum].corr(method = 'pearson') # linear data\n",
    "#data[num_colum].corr(method = 'spearman') non-linear data"
   ]
  },
  {
   "cell_type": "markdown",
   "id": "26c0d1d2-c362-4d3b-b591-020ed431b9ec",
   "metadata": {},
   "source": [
    "- NumberOfChildrenVisiting and NumberOfPersonVisiting are correlated with positive 0.610621. highly coreelated. "
   ]
  },
  {
   "cell_type": "markdown",
   "id": "7c615a07-b3a2-4d51-9b81-c80797cd1300",
   "metadata": {},
   "source": [
    "#### 2.2.2 Bivariate Analysis of Continuous vs Categorical Features\n",
    "- Now we will try to see how values of continuous variables behave for different values of categorical variables.\n",
    "- We will use the ‘Approved’ column of the data as the categorical variable for our analysis. Comparing the column ‘Approved’ column with other columns can provide us with some useful insights."
   ]
  },
  {
   "cell_type": "code",
   "execution_count": 383,
   "id": "df3c8714-73aa-40da-afa3-67dfc172ad94",
   "metadata": {},
   "outputs": [
    {
     "name": "stdout",
     "output_type": "stream",
     "text": [
      "Features with numerical values having categorical information:  ['ProdTaken', 'CityTier', 'NumberOfPersonVisiting', 'NumberOfFollowups', 'PreferredPropertyStar', 'Passport', 'PitchSatisfactionScore', 'OwnCar', 'NumberOfChildrenVisiting']\n",
      "Features with numerical values with continuous information:  ['Age', 'DurationOfPitch', 'NumberOfTrips', 'MonthlyIncome']\n",
      "Feature with Numerical values:  ['ProdTaken', 'Age', 'CityTier', 'DurationOfPitch', 'NumberOfPersonVisiting', 'NumberOfFollowups', 'PreferredPropertyStar', 'NumberOfTrips', 'Passport', 'PitchSatisfactionScore', 'OwnCar', 'NumberOfChildrenVisiting', 'MonthlyIncome']\n",
      "Features with Categorical values:  ['TypeofContact', 'Occupation', 'Gender', 'ProductPitched', 'MaritalStatus', 'Designation']\n"
     ]
    }
   ],
   "source": [
    "print(\"Features with numerical values having categorical information: \", num_cat_info)\n",
    "print(\"Features with numerical values with continuous information: \", num_info)\n",
    "print(\"Feature with Numerical values: \", num_colum)\n",
    "print(\"Features with Categorical values: \", cat_colum)"
   ]
  },
  {
   "cell_type": "code",
   "execution_count": 384,
   "id": "511207e3-38d2-4918-b4f3-7363878ffe88",
   "metadata": {},
   "outputs": [
    {
     "data": {
      "text/html": [
       "<div>\n",
       "<style scoped>\n",
       "    .dataframe tbody tr th:only-of-type {\n",
       "        vertical-align: middle;\n",
       "    }\n",
       "\n",
       "    .dataframe tbody tr th {\n",
       "        vertical-align: top;\n",
       "    }\n",
       "\n",
       "    .dataframe thead th {\n",
       "        text-align: right;\n",
       "    }\n",
       "</style>\n",
       "<table border=\"1\" class=\"dataframe\">\n",
       "  <thead>\n",
       "    <tr style=\"text-align: right;\">\n",
       "      <th></th>\n",
       "      <th>CustomerID</th>\n",
       "      <th>ProdTaken</th>\n",
       "      <th>Age</th>\n",
       "      <th>CityTier</th>\n",
       "      <th>DurationOfPitch</th>\n",
       "      <th>NumberOfPersonVisiting</th>\n",
       "      <th>NumberOfFollowups</th>\n",
       "      <th>PreferredPropertyStar</th>\n",
       "      <th>NumberOfTrips</th>\n",
       "      <th>Passport</th>\n",
       "      <th>PitchSatisfactionScore</th>\n",
       "      <th>OwnCar</th>\n",
       "      <th>NumberOfChildrenVisiting</th>\n",
       "      <th>MonthlyIncome</th>\n",
       "    </tr>\n",
       "    <tr>\n",
       "      <th>TypeofContact</th>\n",
       "      <th></th>\n",
       "      <th></th>\n",
       "      <th></th>\n",
       "      <th></th>\n",
       "      <th></th>\n",
       "      <th></th>\n",
       "      <th></th>\n",
       "      <th></th>\n",
       "      <th></th>\n",
       "      <th></th>\n",
       "      <th></th>\n",
       "      <th></th>\n",
       "      <th></th>\n",
       "      <th></th>\n",
       "    </tr>\n",
       "  </thead>\n",
       "  <tbody>\n",
       "    <tr>\n",
       "      <th>Company Invited</th>\n",
       "      <td>202464.641297</td>\n",
       "      <td>0.218464</td>\n",
       "      <td>37.286344</td>\n",
       "      <td>1.668076</td>\n",
       "      <td>15.894303</td>\n",
       "      <td>2.909091</td>\n",
       "      <td>3.733618</td>\n",
       "      <td>3.540636</td>\n",
       "      <td>3.204200</td>\n",
       "      <td>0.290345</td>\n",
       "      <td>3.116984</td>\n",
       "      <td>0.618041</td>\n",
       "      <td>1.195745</td>\n",
       "      <td>23390.292068</td>\n",
       "    </tr>\n",
       "    <tr>\n",
       "      <th>Self Enquiry</th>\n",
       "      <td>202443.153020</td>\n",
       "      <td>0.176249</td>\n",
       "      <td>37.819542</td>\n",
       "      <td>1.648664</td>\n",
       "      <td>15.327884</td>\n",
       "      <td>2.907666</td>\n",
       "      <td>3.701230</td>\n",
       "      <td>3.598773</td>\n",
       "      <td>3.252244</td>\n",
       "      <td>0.293264</td>\n",
       "      <td>3.064170</td>\n",
       "      <td>0.621661</td>\n",
       "      <td>1.188072</td>\n",
       "      <td>23713.525106</td>\n",
       "    </tr>\n",
       "  </tbody>\n",
       "</table>\n",
       "</div>"
      ],
      "text/plain": [
       "                    CustomerID  ProdTaken        Age  CityTier  \\\n",
       "TypeofContact                                                    \n",
       "Company Invited  202464.641297   0.218464  37.286344  1.668076   \n",
       "Self Enquiry     202443.153020   0.176249  37.819542  1.648664   \n",
       "\n",
       "                 DurationOfPitch  NumberOfPersonVisiting  NumberOfFollowups  \\\n",
       "TypeofContact                                                                 \n",
       "Company Invited        15.894303                2.909091           3.733618   \n",
       "Self Enquiry           15.327884                2.907666           3.701230   \n",
       "\n",
       "                 PreferredPropertyStar  NumberOfTrips  Passport  \\\n",
       "TypeofContact                                                     \n",
       "Company Invited               3.540636       3.204200  0.290345   \n",
       "Self Enquiry                  3.598773       3.252244  0.293264   \n",
       "\n",
       "                 PitchSatisfactionScore    OwnCar  NumberOfChildrenVisiting  \\\n",
       "TypeofContact                                                                 \n",
       "Company Invited                3.116984  0.618041                  1.195745   \n",
       "Self Enquiry                   3.064170  0.621661                  1.188072   \n",
       "\n",
       "                 MonthlyIncome  \n",
       "TypeofContact                   \n",
       "Company Invited   23390.292068  \n",
       "Self Enquiry      23713.525106  "
      ]
     },
     "execution_count": 384,
     "metadata": {},
     "output_type": "execute_result"
    }
   ],
   "source": [
    "# Group DataFrame using a mapper or by a Series of columns.\n",
    "data.groupby('TypeofContact').mean()"
   ]
  },
  {
   "cell_type": "code",
   "execution_count": 310,
   "id": "a7588d62-ce1d-463f-ba97-beaf8b046598",
   "metadata": {},
   "outputs": [
    {
     "data": {
      "text/html": [
       "<div>\n",
       "<style scoped>\n",
       "    .dataframe tbody tr th:only-of-type {\n",
       "        vertical-align: middle;\n",
       "    }\n",
       "\n",
       "    .dataframe tbody tr th {\n",
       "        vertical-align: top;\n",
       "    }\n",
       "\n",
       "    .dataframe thead th {\n",
       "        text-align: right;\n",
       "    }\n",
       "</style>\n",
       "<table border=\"1\" class=\"dataframe\">\n",
       "  <thead>\n",
       "    <tr style=\"text-align: right;\">\n",
       "      <th></th>\n",
       "      <th>CustomerID</th>\n",
       "      <th>ProdTaken</th>\n",
       "      <th>Age</th>\n",
       "      <th>CityTier</th>\n",
       "      <th>DurationOfPitch</th>\n",
       "      <th>NumberOfPersonVisiting</th>\n",
       "      <th>NumberOfFollowups</th>\n",
       "      <th>PreferredPropertyStar</th>\n",
       "      <th>NumberOfTrips</th>\n",
       "      <th>Passport</th>\n",
       "      <th>PitchSatisfactionScore</th>\n",
       "      <th>OwnCar</th>\n",
       "      <th>NumberOfChildrenVisiting</th>\n",
       "      <th>MonthlyIncome</th>\n",
       "    </tr>\n",
       "    <tr>\n",
       "      <th>Occupation</th>\n",
       "      <th></th>\n",
       "      <th></th>\n",
       "      <th></th>\n",
       "      <th></th>\n",
       "      <th></th>\n",
       "      <th></th>\n",
       "      <th></th>\n",
       "      <th></th>\n",
       "      <th></th>\n",
       "      <th></th>\n",
       "      <th></th>\n",
       "      <th></th>\n",
       "      <th></th>\n",
       "      <th></th>\n",
       "    </tr>\n",
       "  </thead>\n",
       "  <tbody>\n",
       "    <tr>\n",
       "      <th>Free Lancer</th>\n",
       "      <td>201224.000000</td>\n",
       "      <td>1.000000</td>\n",
       "      <td>37.500000</td>\n",
       "      <td>1.000000</td>\n",
       "      <td>8.500000</td>\n",
       "      <td>3.500000</td>\n",
       "      <td>4.500000</td>\n",
       "      <td>3.000000</td>\n",
       "      <td>7.500000</td>\n",
       "      <td>1.000000</td>\n",
       "      <td>3.000000</td>\n",
       "      <td>0.000000</td>\n",
       "      <td>0.500000</td>\n",
       "      <td>18929.000000</td>\n",
       "    </tr>\n",
       "    <tr>\n",
       "      <th>Large Business</th>\n",
       "      <td>202443.207373</td>\n",
       "      <td>0.276498</td>\n",
       "      <td>36.637681</td>\n",
       "      <td>1.589862</td>\n",
       "      <td>14.713592</td>\n",
       "      <td>2.877880</td>\n",
       "      <td>3.756944</td>\n",
       "      <td>3.597222</td>\n",
       "      <td>3.456019</td>\n",
       "      <td>0.285714</td>\n",
       "      <td>3.248848</td>\n",
       "      <td>0.649770</td>\n",
       "      <td>1.191142</td>\n",
       "      <td>22876.969048</td>\n",
       "    </tr>\n",
       "    <tr>\n",
       "      <th>Salaried</th>\n",
       "      <td>202448.066723</td>\n",
       "      <td>0.174831</td>\n",
       "      <td>37.649068</td>\n",
       "      <td>1.521115</td>\n",
       "      <td>15.200177</td>\n",
       "      <td>2.910473</td>\n",
       "      <td>3.709966</td>\n",
       "      <td>3.551871</td>\n",
       "      <td>3.221062</td>\n",
       "      <td>0.288851</td>\n",
       "      <td>3.112331</td>\n",
       "      <td>0.634291</td>\n",
       "      <td>1.183849</td>\n",
       "      <td>23649.702607</td>\n",
       "    </tr>\n",
       "    <tr>\n",
       "      <th>Small Business</th>\n",
       "      <td>202439.542226</td>\n",
       "      <td>0.184261</td>\n",
       "      <td>37.796687</td>\n",
       "      <td>1.819578</td>\n",
       "      <td>15.996939</td>\n",
       "      <td>2.904031</td>\n",
       "      <td>3.695779</td>\n",
       "      <td>3.611272</td>\n",
       "      <td>3.202877</td>\n",
       "      <td>0.293666</td>\n",
       "      <td>3.003839</td>\n",
       "      <td>0.598848</td>\n",
       "      <td>1.190984</td>\n",
       "      <td>23748.708629</td>\n",
       "    </tr>\n",
       "  </tbody>\n",
       "</table>\n",
       "</div>"
      ],
      "text/plain": [
       "                   CustomerID  ProdTaken        Age  CityTier  \\\n",
       "Occupation                                                      \n",
       "Free Lancer     201224.000000   1.000000  37.500000  1.000000   \n",
       "Large Business  202443.207373   0.276498  36.637681  1.589862   \n",
       "Salaried        202448.066723   0.174831  37.649068  1.521115   \n",
       "Small Business  202439.542226   0.184261  37.796687  1.819578   \n",
       "\n",
       "                DurationOfPitch  NumberOfPersonVisiting  NumberOfFollowups  \\\n",
       "Occupation                                                                   \n",
       "Free Lancer            8.500000                3.500000           4.500000   \n",
       "Large Business        14.713592                2.877880           3.756944   \n",
       "Salaried              15.200177                2.910473           3.709966   \n",
       "Small Business        15.996939                2.904031           3.695779   \n",
       "\n",
       "                PreferredPropertyStar  NumberOfTrips  Passport  \\\n",
       "Occupation                                                       \n",
       "Free Lancer                  3.000000       7.500000  1.000000   \n",
       "Large Business               3.597222       3.456019  0.285714   \n",
       "Salaried                     3.551871       3.221062  0.288851   \n",
       "Small Business               3.611272       3.202877  0.293666   \n",
       "\n",
       "                PitchSatisfactionScore    OwnCar  NumberOfChildrenVisiting  \\\n",
       "Occupation                                                                   \n",
       "Free Lancer                   3.000000  0.000000                  0.500000   \n",
       "Large Business                3.248848  0.649770                  1.191142   \n",
       "Salaried                      3.112331  0.634291                  1.183849   \n",
       "Small Business                3.003839  0.598848                  1.190984   \n",
       "\n",
       "                MonthlyIncome  \n",
       "Occupation                     \n",
       "Free Lancer      18929.000000  \n",
       "Large Business   22876.969048  \n",
       "Salaried         23649.702607  \n",
       "Small Business   23748.708629  "
      ]
     },
     "execution_count": 310,
     "metadata": {},
     "output_type": "execute_result"
    }
   ],
   "source": [
    "data.groupby('Occupation').mean()"
   ]
  },
  {
   "cell_type": "code",
   "execution_count": 313,
   "id": "16841f85-1625-41ac-b815-cea88ca9c1d9",
   "metadata": {},
   "outputs": [
    {
     "data": {
      "text/html": [
       "<div>\n",
       "<style scoped>\n",
       "    .dataframe tbody tr th:only-of-type {\n",
       "        vertical-align: middle;\n",
       "    }\n",
       "\n",
       "    .dataframe tbody tr th {\n",
       "        vertical-align: top;\n",
       "    }\n",
       "\n",
       "    .dataframe thead th {\n",
       "        text-align: right;\n",
       "    }\n",
       "</style>\n",
       "<table border=\"1\" class=\"dataframe\">\n",
       "  <thead>\n",
       "    <tr style=\"text-align: right;\">\n",
       "      <th></th>\n",
       "      <th>CustomerID</th>\n",
       "      <th>ProdTaken</th>\n",
       "      <th>Age</th>\n",
       "      <th>CityTier</th>\n",
       "      <th>DurationOfPitch</th>\n",
       "      <th>NumberOfPersonVisiting</th>\n",
       "      <th>NumberOfFollowups</th>\n",
       "      <th>PreferredPropertyStar</th>\n",
       "      <th>NumberOfTrips</th>\n",
       "      <th>Passport</th>\n",
       "      <th>PitchSatisfactionScore</th>\n",
       "      <th>OwnCar</th>\n",
       "      <th>NumberOfChildrenVisiting</th>\n",
       "      <th>MonthlyIncome</th>\n",
       "    </tr>\n",
       "    <tr>\n",
       "      <th>ProductPitched</th>\n",
       "      <th></th>\n",
       "      <th></th>\n",
       "      <th></th>\n",
       "      <th></th>\n",
       "      <th></th>\n",
       "      <th></th>\n",
       "      <th></th>\n",
       "      <th></th>\n",
       "      <th></th>\n",
       "      <th></th>\n",
       "      <th></th>\n",
       "      <th></th>\n",
       "      <th></th>\n",
       "      <th></th>\n",
       "    </tr>\n",
       "  </thead>\n",
       "  <tbody>\n",
       "    <tr>\n",
       "      <th>Basic</th>\n",
       "      <td>202467.300760</td>\n",
       "      <td>0.299674</td>\n",
       "      <td>33.054181</td>\n",
       "      <td>1.349620</td>\n",
       "      <td>15.194834</td>\n",
       "      <td>2.929967</td>\n",
       "      <td>3.693822</td>\n",
       "      <td>3.585551</td>\n",
       "      <td>3.096353</td>\n",
       "      <td>0.308360</td>\n",
       "      <td>3.081433</td>\n",
       "      <td>0.588491</td>\n",
       "      <td>1.199348</td>\n",
       "      <td>19939.922507</td>\n",
       "    </tr>\n",
       "    <tr>\n",
       "      <th>Deluxe</th>\n",
       "      <td>202428.935335</td>\n",
       "      <td>0.117783</td>\n",
       "      <td>37.382193</td>\n",
       "      <td>1.928406</td>\n",
       "      <td>15.935839</td>\n",
       "      <td>2.891455</td>\n",
       "      <td>3.701765</td>\n",
       "      <td>3.560370</td>\n",
       "      <td>3.282081</td>\n",
       "      <td>0.277136</td>\n",
       "      <td>3.006928</td>\n",
       "      <td>0.610855</td>\n",
       "      <td>1.177354</td>\n",
       "      <td>22643.157629</td>\n",
       "    </tr>\n",
       "    <tr>\n",
       "      <th>King</th>\n",
       "      <td>202392.356522</td>\n",
       "      <td>0.086957</td>\n",
       "      <td>48.065217</td>\n",
       "      <td>1.443478</td>\n",
       "      <td>12.100000</td>\n",
       "      <td>2.847826</td>\n",
       "      <td>3.804348</td>\n",
       "      <td>3.478261</td>\n",
       "      <td>3.344595</td>\n",
       "      <td>0.260870</td>\n",
       "      <td>3.226087</td>\n",
       "      <td>0.721739</td>\n",
       "      <td>1.358852</td>\n",
       "      <td>35878.947826</td>\n",
       "    </tr>\n",
       "    <tr>\n",
       "      <th>Standard</th>\n",
       "      <td>202430.997305</td>\n",
       "      <td>0.167116</td>\n",
       "      <td>40.581646</td>\n",
       "      <td>1.800539</td>\n",
       "      <td>15.986505</td>\n",
       "      <td>2.920485</td>\n",
       "      <td>3.791105</td>\n",
       "      <td>3.647773</td>\n",
       "      <td>3.317139</td>\n",
       "      <td>0.283019</td>\n",
       "      <td>3.061995</td>\n",
       "      <td>0.652291</td>\n",
       "      <td>1.178138</td>\n",
       "      <td>26637.749326</td>\n",
       "    </tr>\n",
       "    <tr>\n",
       "      <th>Super Deluxe</th>\n",
       "      <td>202450.590643</td>\n",
       "      <td>0.058480</td>\n",
       "      <td>48.026316</td>\n",
       "      <td>1.730994</td>\n",
       "      <td>16.230994</td>\n",
       "      <td>2.845029</td>\n",
       "      <td>3.576023</td>\n",
       "      <td>3.578947</td>\n",
       "      <td>3.589041</td>\n",
       "      <td>0.304094</td>\n",
       "      <td>3.356725</td>\n",
       "      <td>0.701754</td>\n",
       "      <td>1.073333</td>\n",
       "      <td>32241.046784</td>\n",
       "    </tr>\n",
       "  </tbody>\n",
       "</table>\n",
       "</div>"
      ],
      "text/plain": [
       "                   CustomerID  ProdTaken        Age  CityTier  \\\n",
       "ProductPitched                                                  \n",
       "Basic           202467.300760   0.299674  33.054181  1.349620   \n",
       "Deluxe          202428.935335   0.117783  37.382193  1.928406   \n",
       "King            202392.356522   0.086957  48.065217  1.443478   \n",
       "Standard        202430.997305   0.167116  40.581646  1.800539   \n",
       "Super Deluxe    202450.590643   0.058480  48.026316  1.730994   \n",
       "\n",
       "                DurationOfPitch  NumberOfPersonVisiting  NumberOfFollowups  \\\n",
       "ProductPitched                                                               \n",
       "Basic                 15.194834                2.929967           3.693822   \n",
       "Deluxe                15.935839                2.891455           3.701765   \n",
       "King                  12.100000                2.847826           3.804348   \n",
       "Standard              15.986505                2.920485           3.791105   \n",
       "Super Deluxe          16.230994                2.845029           3.576023   \n",
       "\n",
       "                PreferredPropertyStar  NumberOfTrips  Passport  \\\n",
       "ProductPitched                                                   \n",
       "Basic                        3.585551       3.096353  0.308360   \n",
       "Deluxe                       3.560370       3.282081  0.277136   \n",
       "King                         3.478261       3.344595  0.260870   \n",
       "Standard                     3.647773       3.317139  0.283019   \n",
       "Super Deluxe                 3.578947       3.589041  0.304094   \n",
       "\n",
       "                PitchSatisfactionScore    OwnCar  NumberOfChildrenVisiting  \\\n",
       "ProductPitched                                                               \n",
       "Basic                         3.081433  0.588491                  1.199348   \n",
       "Deluxe                        3.006928  0.610855                  1.177354   \n",
       "King                          3.226087  0.721739                  1.358852   \n",
       "Standard                      3.061995  0.652291                  1.178138   \n",
       "Super Deluxe                  3.356725  0.701754                  1.073333   \n",
       "\n",
       "                MonthlyIncome  \n",
       "ProductPitched                 \n",
       "Basic            19939.922507  \n",
       "Deluxe           22643.157629  \n",
       "King             35878.947826  \n",
       "Standard         26637.749326  \n",
       "Super Deluxe     32241.046784  "
      ]
     },
     "execution_count": 313,
     "metadata": {},
     "output_type": "execute_result"
    }
   ],
   "source": [
    "data.groupby('ProductPitched').mean()"
   ]
  },
  {
   "cell_type": "code",
   "execution_count": 312,
   "id": "800ecc79-e9fd-4b53-b4c5-514fcbe66d6b",
   "metadata": {},
   "outputs": [
    {
     "data": {
      "text/html": [
       "<div>\n",
       "<style scoped>\n",
       "    .dataframe tbody tr th:only-of-type {\n",
       "        vertical-align: middle;\n",
       "    }\n",
       "\n",
       "    .dataframe tbody tr th {\n",
       "        vertical-align: top;\n",
       "    }\n",
       "\n",
       "    .dataframe thead th {\n",
       "        text-align: right;\n",
       "    }\n",
       "</style>\n",
       "<table border=\"1\" class=\"dataframe\">\n",
       "  <thead>\n",
       "    <tr style=\"text-align: right;\">\n",
       "      <th></th>\n",
       "      <th>CustomerID</th>\n",
       "      <th>ProdTaken</th>\n",
       "      <th>Age</th>\n",
       "      <th>CityTier</th>\n",
       "      <th>DurationOfPitch</th>\n",
       "      <th>NumberOfPersonVisiting</th>\n",
       "      <th>NumberOfFollowups</th>\n",
       "      <th>PreferredPropertyStar</th>\n",
       "      <th>NumberOfTrips</th>\n",
       "      <th>Passport</th>\n",
       "      <th>PitchSatisfactionScore</th>\n",
       "      <th>OwnCar</th>\n",
       "      <th>NumberOfChildrenVisiting</th>\n",
       "      <th>MonthlyIncome</th>\n",
       "    </tr>\n",
       "    <tr>\n",
       "      <th>MaritalStatus</th>\n",
       "      <th></th>\n",
       "      <th></th>\n",
       "      <th></th>\n",
       "      <th></th>\n",
       "      <th></th>\n",
       "      <th></th>\n",
       "      <th></th>\n",
       "      <th></th>\n",
       "      <th></th>\n",
       "      <th></th>\n",
       "      <th></th>\n",
       "      <th></th>\n",
       "      <th></th>\n",
       "      <th></th>\n",
       "    </tr>\n",
       "  </thead>\n",
       "  <tbody>\n",
       "    <tr>\n",
       "      <th>Divorced</th>\n",
       "      <td>201766.336842</td>\n",
       "      <td>0.130526</td>\n",
       "      <td>38.556906</td>\n",
       "      <td>1.677895</td>\n",
       "      <td>15.383073</td>\n",
       "      <td>2.931579</td>\n",
       "      <td>3.677249</td>\n",
       "      <td>3.578390</td>\n",
       "      <td>3.234973</td>\n",
       "      <td>0.290526</td>\n",
       "      <td>3.178947</td>\n",
       "      <td>0.652632</td>\n",
       "      <td>1.157556</td>\n",
       "      <td>24184.915743</td>\n",
       "    </tr>\n",
       "    <tr>\n",
       "      <th>Married</th>\n",
       "      <td>202714.252137</td>\n",
       "      <td>0.139316</td>\n",
       "      <td>38.264614</td>\n",
       "      <td>1.619658</td>\n",
       "      <td>15.704749</td>\n",
       "      <td>2.930769</td>\n",
       "      <td>3.672124</td>\n",
       "      <td>3.595443</td>\n",
       "      <td>3.310787</td>\n",
       "      <td>0.291453</td>\n",
       "      <td>3.043590</td>\n",
       "      <td>0.615385</td>\n",
       "      <td>1.212462</td>\n",
       "      <td>23858.551167</td>\n",
       "    </tr>\n",
       "    <tr>\n",
       "      <th>Single</th>\n",
       "      <td>202019.401747</td>\n",
       "      <td>0.331878</td>\n",
       "      <td>35.767386</td>\n",
       "      <td>1.594978</td>\n",
       "      <td>15.094545</td>\n",
       "      <td>2.671397</td>\n",
       "      <td>3.603352</td>\n",
       "      <td>3.558242</td>\n",
       "      <td>2.950506</td>\n",
       "      <td>0.305677</td>\n",
       "      <td>3.099345</td>\n",
       "      <td>0.596070</td>\n",
       "      <td>0.997768</td>\n",
       "      <td>22234.193357</td>\n",
       "    </tr>\n",
       "    <tr>\n",
       "      <th>Unmarried</th>\n",
       "      <td>203027.398827</td>\n",
       "      <td>0.243402</td>\n",
       "      <td>36.539589</td>\n",
       "      <td>1.819648</td>\n",
       "      <td>15.412023</td>\n",
       "      <td>3.093842</td>\n",
       "      <td>4.013196</td>\n",
       "      <td>3.565982</td>\n",
       "      <td>3.365103</td>\n",
       "      <td>0.269795</td>\n",
       "      <td>3.027859</td>\n",
       "      <td>0.624633</td>\n",
       "      <td>1.391496</td>\n",
       "      <td>23805.494135</td>\n",
       "    </tr>\n",
       "  </tbody>\n",
       "</table>\n",
       "</div>"
      ],
      "text/plain": [
       "                  CustomerID  ProdTaken        Age  CityTier  DurationOfPitch  \\\n",
       "MaritalStatus                                                                   \n",
       "Divorced       201766.336842   0.130526  38.556906  1.677895        15.383073   \n",
       "Married        202714.252137   0.139316  38.264614  1.619658        15.704749   \n",
       "Single         202019.401747   0.331878  35.767386  1.594978        15.094545   \n",
       "Unmarried      203027.398827   0.243402  36.539589  1.819648        15.412023   \n",
       "\n",
       "               NumberOfPersonVisiting  NumberOfFollowups  \\\n",
       "MaritalStatus                                              \n",
       "Divorced                     2.931579           3.677249   \n",
       "Married                      2.930769           3.672124   \n",
       "Single                       2.671397           3.603352   \n",
       "Unmarried                    3.093842           4.013196   \n",
       "\n",
       "               PreferredPropertyStar  NumberOfTrips  Passport  \\\n",
       "MaritalStatus                                                   \n",
       "Divorced                    3.578390       3.234973  0.290526   \n",
       "Married                     3.595443       3.310787  0.291453   \n",
       "Single                      3.558242       2.950506  0.305677   \n",
       "Unmarried                   3.565982       3.365103  0.269795   \n",
       "\n",
       "               PitchSatisfactionScore    OwnCar  NumberOfChildrenVisiting  \\\n",
       "MaritalStatus                                                               \n",
       "Divorced                     3.178947  0.652632                  1.157556   \n",
       "Married                      3.043590  0.615385                  1.212462   \n",
       "Single                       3.099345  0.596070                  0.997768   \n",
       "Unmarried                    3.027859  0.624633                  1.391496   \n",
       "\n",
       "               MonthlyIncome  \n",
       "MaritalStatus                 \n",
       "Divorced        24184.915743  \n",
       "Married         23858.551167  \n",
       "Single          22234.193357  \n",
       "Unmarried       23805.494135  "
      ]
     },
     "execution_count": 312,
     "metadata": {},
     "output_type": "execute_result"
    }
   ],
   "source": [
    "data.groupby('MaritalStatus').mean()"
   ]
  },
  {
   "cell_type": "code",
   "execution_count": 311,
   "id": "d4ce63ee-9835-47df-ae93-077f4e220470",
   "metadata": {},
   "outputs": [
    {
     "data": {
      "text/html": [
       "<div>\n",
       "<style scoped>\n",
       "    .dataframe tbody tr th:only-of-type {\n",
       "        vertical-align: middle;\n",
       "    }\n",
       "\n",
       "    .dataframe tbody tr th {\n",
       "        vertical-align: top;\n",
       "    }\n",
       "\n",
       "    .dataframe thead th {\n",
       "        text-align: right;\n",
       "    }\n",
       "</style>\n",
       "<table border=\"1\" class=\"dataframe\">\n",
       "  <thead>\n",
       "    <tr style=\"text-align: right;\">\n",
       "      <th></th>\n",
       "      <th>CustomerID</th>\n",
       "      <th>ProdTaken</th>\n",
       "      <th>Age</th>\n",
       "      <th>CityTier</th>\n",
       "      <th>DurationOfPitch</th>\n",
       "      <th>NumberOfPersonVisiting</th>\n",
       "      <th>NumberOfFollowups</th>\n",
       "      <th>PreferredPropertyStar</th>\n",
       "      <th>NumberOfTrips</th>\n",
       "      <th>Passport</th>\n",
       "      <th>PitchSatisfactionScore</th>\n",
       "      <th>OwnCar</th>\n",
       "      <th>NumberOfChildrenVisiting</th>\n",
       "      <th>MonthlyIncome</th>\n",
       "    </tr>\n",
       "    <tr>\n",
       "      <th>Designation</th>\n",
       "      <th></th>\n",
       "      <th></th>\n",
       "      <th></th>\n",
       "      <th></th>\n",
       "      <th></th>\n",
       "      <th></th>\n",
       "      <th></th>\n",
       "      <th></th>\n",
       "      <th></th>\n",
       "      <th></th>\n",
       "      <th></th>\n",
       "      <th></th>\n",
       "      <th></th>\n",
       "      <th></th>\n",
       "    </tr>\n",
       "  </thead>\n",
       "  <tbody>\n",
       "    <tr>\n",
       "      <th>AVP</th>\n",
       "      <td>202450.590643</td>\n",
       "      <td>0.058480</td>\n",
       "      <td>48.026316</td>\n",
       "      <td>1.730994</td>\n",
       "      <td>16.230994</td>\n",
       "      <td>2.845029</td>\n",
       "      <td>3.576023</td>\n",
       "      <td>3.578947</td>\n",
       "      <td>3.589041</td>\n",
       "      <td>0.304094</td>\n",
       "      <td>3.356725</td>\n",
       "      <td>0.701754</td>\n",
       "      <td>1.073333</td>\n",
       "      <td>32241.046784</td>\n",
       "    </tr>\n",
       "    <tr>\n",
       "      <th>Executive</th>\n",
       "      <td>202467.300760</td>\n",
       "      <td>0.299674</td>\n",
       "      <td>33.054181</td>\n",
       "      <td>1.349620</td>\n",
       "      <td>15.194834</td>\n",
       "      <td>2.929967</td>\n",
       "      <td>3.693822</td>\n",
       "      <td>3.585551</td>\n",
       "      <td>3.096353</td>\n",
       "      <td>0.308360</td>\n",
       "      <td>3.081433</td>\n",
       "      <td>0.588491</td>\n",
       "      <td>1.199348</td>\n",
       "      <td>19939.922507</td>\n",
       "    </tr>\n",
       "    <tr>\n",
       "      <th>Manager</th>\n",
       "      <td>202428.935335</td>\n",
       "      <td>0.117783</td>\n",
       "      <td>37.382193</td>\n",
       "      <td>1.928406</td>\n",
       "      <td>15.935839</td>\n",
       "      <td>2.891455</td>\n",
       "      <td>3.701765</td>\n",
       "      <td>3.560370</td>\n",
       "      <td>3.282081</td>\n",
       "      <td>0.277136</td>\n",
       "      <td>3.006928</td>\n",
       "      <td>0.610855</td>\n",
       "      <td>1.177354</td>\n",
       "      <td>22643.157629</td>\n",
       "    </tr>\n",
       "    <tr>\n",
       "      <th>Senior Manager</th>\n",
       "      <td>202430.997305</td>\n",
       "      <td>0.167116</td>\n",
       "      <td>40.581646</td>\n",
       "      <td>1.800539</td>\n",
       "      <td>15.986505</td>\n",
       "      <td>2.920485</td>\n",
       "      <td>3.791105</td>\n",
       "      <td>3.647773</td>\n",
       "      <td>3.317139</td>\n",
       "      <td>0.283019</td>\n",
       "      <td>3.061995</td>\n",
       "      <td>0.652291</td>\n",
       "      <td>1.178138</td>\n",
       "      <td>26637.749326</td>\n",
       "    </tr>\n",
       "    <tr>\n",
       "      <th>VP</th>\n",
       "      <td>202392.356522</td>\n",
       "      <td>0.086957</td>\n",
       "      <td>48.065217</td>\n",
       "      <td>1.443478</td>\n",
       "      <td>12.100000</td>\n",
       "      <td>2.847826</td>\n",
       "      <td>3.804348</td>\n",
       "      <td>3.478261</td>\n",
       "      <td>3.344595</td>\n",
       "      <td>0.260870</td>\n",
       "      <td>3.226087</td>\n",
       "      <td>0.721739</td>\n",
       "      <td>1.358852</td>\n",
       "      <td>35878.947826</td>\n",
       "    </tr>\n",
       "  </tbody>\n",
       "</table>\n",
       "</div>"
      ],
      "text/plain": [
       "                   CustomerID  ProdTaken        Age  CityTier  \\\n",
       "Designation                                                     \n",
       "AVP             202450.590643   0.058480  48.026316  1.730994   \n",
       "Executive       202467.300760   0.299674  33.054181  1.349620   \n",
       "Manager         202428.935335   0.117783  37.382193  1.928406   \n",
       "Senior Manager  202430.997305   0.167116  40.581646  1.800539   \n",
       "VP              202392.356522   0.086957  48.065217  1.443478   \n",
       "\n",
       "                DurationOfPitch  NumberOfPersonVisiting  NumberOfFollowups  \\\n",
       "Designation                                                                  \n",
       "AVP                   16.230994                2.845029           3.576023   \n",
       "Executive             15.194834                2.929967           3.693822   \n",
       "Manager               15.935839                2.891455           3.701765   \n",
       "Senior Manager        15.986505                2.920485           3.791105   \n",
       "VP                    12.100000                2.847826           3.804348   \n",
       "\n",
       "                PreferredPropertyStar  NumberOfTrips  Passport  \\\n",
       "Designation                                                      \n",
       "AVP                          3.578947       3.589041  0.304094   \n",
       "Executive                    3.585551       3.096353  0.308360   \n",
       "Manager                      3.560370       3.282081  0.277136   \n",
       "Senior Manager               3.647773       3.317139  0.283019   \n",
       "VP                           3.478261       3.344595  0.260870   \n",
       "\n",
       "                PitchSatisfactionScore    OwnCar  NumberOfChildrenVisiting  \\\n",
       "Designation                                                                  \n",
       "AVP                           3.356725  0.701754                  1.073333   \n",
       "Executive                     3.081433  0.588491                  1.199348   \n",
       "Manager                       3.006928  0.610855                  1.177354   \n",
       "Senior Manager                3.061995  0.652291                  1.178138   \n",
       "VP                            3.226087  0.721739                  1.358852   \n",
       "\n",
       "                MonthlyIncome  \n",
       "Designation                    \n",
       "AVP              32241.046784  \n",
       "Executive        19939.922507  \n",
       "Manager          22643.157629  \n",
       "Senior Manager   26637.749326  \n",
       "VP               35878.947826  "
      ]
     },
     "execution_count": 311,
     "metadata": {},
     "output_type": "execute_result"
    }
   ],
   "source": [
    "data.groupby('Designation').mean()"
   ]
  },
  {
   "cell_type": "code",
   "execution_count": 315,
   "id": "aa370c36-2add-41c4-9d0e-987bf2db5764",
   "metadata": {},
   "outputs": [
    {
     "name": "stdout",
     "output_type": "stream",
     "text": [
      "['TypeofContact', 'Occupation', 'Gender', 'ProductPitched', 'MaritalStatus', 'Designation']\n"
     ]
    }
   ],
   "source": [
    "print(cat_colum)"
   ]
  },
  {
   "cell_type": "code",
   "execution_count": 316,
   "id": "b6d55b6d-0282-4be0-a49b-701eab510e64",
   "metadata": {},
   "outputs": [
    {
     "data": {
      "text/html": [
       "<div>\n",
       "<style scoped>\n",
       "    .dataframe tbody tr th:only-of-type {\n",
       "        vertical-align: middle;\n",
       "    }\n",
       "\n",
       "    .dataframe tbody tr th {\n",
       "        vertical-align: top;\n",
       "    }\n",
       "\n",
       "    .dataframe thead th {\n",
       "        text-align: right;\n",
       "    }\n",
       "</style>\n",
       "<table border=\"1\" class=\"dataframe\">\n",
       "  <thead>\n",
       "    <tr style=\"text-align: right;\">\n",
       "      <th></th>\n",
       "      <th>CustomerID</th>\n",
       "      <th>ProdTaken</th>\n",
       "      <th>Age</th>\n",
       "      <th>CityTier</th>\n",
       "      <th>DurationOfPitch</th>\n",
       "      <th>Occupation</th>\n",
       "      <th>Gender</th>\n",
       "      <th>NumberOfPersonVisiting</th>\n",
       "      <th>NumberOfFollowups</th>\n",
       "      <th>ProductPitched</th>\n",
       "      <th>PreferredPropertyStar</th>\n",
       "      <th>MaritalStatus</th>\n",
       "      <th>NumberOfTrips</th>\n",
       "      <th>Passport</th>\n",
       "      <th>PitchSatisfactionScore</th>\n",
       "      <th>OwnCar</th>\n",
       "      <th>NumberOfChildrenVisiting</th>\n",
       "      <th>Designation</th>\n",
       "      <th>MonthlyIncome</th>\n",
       "    </tr>\n",
       "    <tr>\n",
       "      <th>TypeofContact</th>\n",
       "      <th></th>\n",
       "      <th></th>\n",
       "      <th></th>\n",
       "      <th></th>\n",
       "      <th></th>\n",
       "      <th></th>\n",
       "      <th></th>\n",
       "      <th></th>\n",
       "      <th></th>\n",
       "      <th></th>\n",
       "      <th></th>\n",
       "      <th></th>\n",
       "      <th></th>\n",
       "      <th></th>\n",
       "      <th></th>\n",
       "      <th></th>\n",
       "      <th></th>\n",
       "      <th></th>\n",
       "      <th></th>\n",
       "    </tr>\n",
       "  </thead>\n",
       "  <tbody>\n",
       "    <tr>\n",
       "      <th>Company Invited</th>\n",
       "      <td>1419</td>\n",
       "      <td>1419</td>\n",
       "      <td>1362</td>\n",
       "      <td>1419</td>\n",
       "      <td>1334</td>\n",
       "      <td>1419</td>\n",
       "      <td>1419</td>\n",
       "      <td>1419</td>\n",
       "      <td>1404</td>\n",
       "      <td>1419</td>\n",
       "      <td>1415</td>\n",
       "      <td>1419</td>\n",
       "      <td>1381</td>\n",
       "      <td>1419</td>\n",
       "      <td>1419</td>\n",
       "      <td>1419</td>\n",
       "      <td>1410</td>\n",
       "      <td>1419</td>\n",
       "      <td>1349</td>\n",
       "    </tr>\n",
       "    <tr>\n",
       "      <th>Self Enquiry</th>\n",
       "      <td>3444</td>\n",
       "      <td>3444</td>\n",
       "      <td>3275</td>\n",
       "      <td>3444</td>\n",
       "      <td>3303</td>\n",
       "      <td>3444</td>\n",
       "      <td>3444</td>\n",
       "      <td>3444</td>\n",
       "      <td>3414</td>\n",
       "      <td>3444</td>\n",
       "      <td>3422</td>\n",
       "      <td>3444</td>\n",
       "      <td>3342</td>\n",
       "      <td>3444</td>\n",
       "      <td>3444</td>\n",
       "      <td>3444</td>\n",
       "      <td>3387</td>\n",
       "      <td>3444</td>\n",
       "      <td>3306</td>\n",
       "    </tr>\n",
       "  </tbody>\n",
       "</table>\n",
       "</div>"
      ],
      "text/plain": [
       "                 CustomerID  ProdTaken   Age  CityTier  DurationOfPitch  \\\n",
       "TypeofContact                                                             \n",
       "Company Invited        1419       1419  1362      1419             1334   \n",
       "Self Enquiry           3444       3444  3275      3444             3303   \n",
       "\n",
       "                 Occupation  Gender  NumberOfPersonVisiting  \\\n",
       "TypeofContact                                                 \n",
       "Company Invited        1419    1419                    1419   \n",
       "Self Enquiry           3444    3444                    3444   \n",
       "\n",
       "                 NumberOfFollowups  ProductPitched  PreferredPropertyStar  \\\n",
       "TypeofContact                                                               \n",
       "Company Invited               1404            1419                   1415   \n",
       "Self Enquiry                  3414            3444                   3422   \n",
       "\n",
       "                 MaritalStatus  NumberOfTrips  Passport  \\\n",
       "TypeofContact                                             \n",
       "Company Invited           1419           1381      1419   \n",
       "Self Enquiry              3444           3342      3444   \n",
       "\n",
       "                 PitchSatisfactionScore  OwnCar  NumberOfChildrenVisiting  \\\n",
       "TypeofContact                                                               \n",
       "Company Invited                    1419    1419                      1410   \n",
       "Self Enquiry                       3444    3444                      3387   \n",
       "\n",
       "                 Designation  MonthlyIncome  \n",
       "TypeofContact                                \n",
       "Company Invited         1419           1349  \n",
       "Self Enquiry            3444           3306  "
      ]
     },
     "execution_count": 316,
     "metadata": {},
     "output_type": "execute_result"
    }
   ],
   "source": [
    "data.groupby('TypeofContact').count()"
   ]
  },
  {
   "cell_type": "code",
   "execution_count": 317,
   "id": "e6227928-bf7c-4f7f-a902-113caf8fe253",
   "metadata": {},
   "outputs": [
    {
     "data": {
      "text/html": [
       "<div>\n",
       "<style scoped>\n",
       "    .dataframe tbody tr th:only-of-type {\n",
       "        vertical-align: middle;\n",
       "    }\n",
       "\n",
       "    .dataframe tbody tr th {\n",
       "        vertical-align: top;\n",
       "    }\n",
       "\n",
       "    .dataframe thead th {\n",
       "        text-align: right;\n",
       "    }\n",
       "</style>\n",
       "<table border=\"1\" class=\"dataframe\">\n",
       "  <thead>\n",
       "    <tr style=\"text-align: right;\">\n",
       "      <th></th>\n",
       "      <th>CustomerID</th>\n",
       "      <th>ProdTaken</th>\n",
       "      <th>Age</th>\n",
       "      <th>TypeofContact</th>\n",
       "      <th>CityTier</th>\n",
       "      <th>DurationOfPitch</th>\n",
       "      <th>Gender</th>\n",
       "      <th>NumberOfPersonVisiting</th>\n",
       "      <th>NumberOfFollowups</th>\n",
       "      <th>ProductPitched</th>\n",
       "      <th>PreferredPropertyStar</th>\n",
       "      <th>MaritalStatus</th>\n",
       "      <th>NumberOfTrips</th>\n",
       "      <th>Passport</th>\n",
       "      <th>PitchSatisfactionScore</th>\n",
       "      <th>OwnCar</th>\n",
       "      <th>NumberOfChildrenVisiting</th>\n",
       "      <th>Designation</th>\n",
       "      <th>MonthlyIncome</th>\n",
       "    </tr>\n",
       "    <tr>\n",
       "      <th>Occupation</th>\n",
       "      <th></th>\n",
       "      <th></th>\n",
       "      <th></th>\n",
       "      <th></th>\n",
       "      <th></th>\n",
       "      <th></th>\n",
       "      <th></th>\n",
       "      <th></th>\n",
       "      <th></th>\n",
       "      <th></th>\n",
       "      <th></th>\n",
       "      <th></th>\n",
       "      <th></th>\n",
       "      <th></th>\n",
       "      <th></th>\n",
       "      <th></th>\n",
       "      <th></th>\n",
       "      <th></th>\n",
       "      <th></th>\n",
       "    </tr>\n",
       "  </thead>\n",
       "  <tbody>\n",
       "    <tr>\n",
       "      <th>Free Lancer</th>\n",
       "      <td>2</td>\n",
       "      <td>2</td>\n",
       "      <td>2</td>\n",
       "      <td>2</td>\n",
       "      <td>2</td>\n",
       "      <td>2</td>\n",
       "      <td>2</td>\n",
       "      <td>2</td>\n",
       "      <td>2</td>\n",
       "      <td>2</td>\n",
       "      <td>2</td>\n",
       "      <td>2</td>\n",
       "      <td>2</td>\n",
       "      <td>2</td>\n",
       "      <td>2</td>\n",
       "      <td>2</td>\n",
       "      <td>2</td>\n",
       "      <td>2</td>\n",
       "      <td>2</td>\n",
       "    </tr>\n",
       "    <tr>\n",
       "      <th>Large Business</th>\n",
       "      <td>434</td>\n",
       "      <td>434</td>\n",
       "      <td>414</td>\n",
       "      <td>434</td>\n",
       "      <td>434</td>\n",
       "      <td>412</td>\n",
       "      <td>434</td>\n",
       "      <td>434</td>\n",
       "      <td>432</td>\n",
       "      <td>434</td>\n",
       "      <td>432</td>\n",
       "      <td>434</td>\n",
       "      <td>432</td>\n",
       "      <td>434</td>\n",
       "      <td>434</td>\n",
       "      <td>434</td>\n",
       "      <td>429</td>\n",
       "      <td>434</td>\n",
       "      <td>420</td>\n",
       "    </tr>\n",
       "    <tr>\n",
       "      <th>Salaried</th>\n",
       "      <td>2368</td>\n",
       "      <td>2368</td>\n",
       "      <td>2254</td>\n",
       "      <td>2363</td>\n",
       "      <td>2368</td>\n",
       "      <td>2263</td>\n",
       "      <td>2368</td>\n",
       "      <td>2368</td>\n",
       "      <td>2348</td>\n",
       "      <td>2368</td>\n",
       "      <td>2352</td>\n",
       "      <td>2368</td>\n",
       "      <td>2298</td>\n",
       "      <td>2368</td>\n",
       "      <td>2368</td>\n",
       "      <td>2368</td>\n",
       "      <td>2328</td>\n",
       "      <td>2368</td>\n",
       "      <td>2263</td>\n",
       "    </tr>\n",
       "    <tr>\n",
       "      <th>Small Business</th>\n",
       "      <td>2084</td>\n",
       "      <td>2084</td>\n",
       "      <td>1992</td>\n",
       "      <td>2064</td>\n",
       "      <td>2084</td>\n",
       "      <td>1960</td>\n",
       "      <td>2084</td>\n",
       "      <td>2084</td>\n",
       "      <td>2061</td>\n",
       "      <td>2084</td>\n",
       "      <td>2076</td>\n",
       "      <td>2084</td>\n",
       "      <td>2016</td>\n",
       "      <td>2084</td>\n",
       "      <td>2084</td>\n",
       "      <td>2084</td>\n",
       "      <td>2063</td>\n",
       "      <td>2084</td>\n",
       "      <td>1970</td>\n",
       "    </tr>\n",
       "  </tbody>\n",
       "</table>\n",
       "</div>"
      ],
      "text/plain": [
       "                CustomerID  ProdTaken   Age  TypeofContact  CityTier  \\\n",
       "Occupation                                                             \n",
       "Free Lancer              2          2     2              2         2   \n",
       "Large Business         434        434   414            434       434   \n",
       "Salaried              2368       2368  2254           2363      2368   \n",
       "Small Business        2084       2084  1992           2064      2084   \n",
       "\n",
       "                DurationOfPitch  Gender  NumberOfPersonVisiting  \\\n",
       "Occupation                                                        \n",
       "Free Lancer                   2       2                       2   \n",
       "Large Business              412     434                     434   \n",
       "Salaried                   2263    2368                    2368   \n",
       "Small Business             1960    2084                    2084   \n",
       "\n",
       "                NumberOfFollowups  ProductPitched  PreferredPropertyStar  \\\n",
       "Occupation                                                                 \n",
       "Free Lancer                     2               2                      2   \n",
       "Large Business                432             434                    432   \n",
       "Salaried                     2348            2368                   2352   \n",
       "Small Business               2061            2084                   2076   \n",
       "\n",
       "                MaritalStatus  NumberOfTrips  Passport  \\\n",
       "Occupation                                               \n",
       "Free Lancer                 2              2         2   \n",
       "Large Business            434            432       434   \n",
       "Salaried                 2368           2298      2368   \n",
       "Small Business           2084           2016      2084   \n",
       "\n",
       "                PitchSatisfactionScore  OwnCar  NumberOfChildrenVisiting  \\\n",
       "Occupation                                                                 \n",
       "Free Lancer                          2       2                         2   \n",
       "Large Business                     434     434                       429   \n",
       "Salaried                          2368    2368                      2328   \n",
       "Small Business                    2084    2084                      2063   \n",
       "\n",
       "                Designation  MonthlyIncome  \n",
       "Occupation                                  \n",
       "Free Lancer               2              2  \n",
       "Large Business          434            420  \n",
       "Salaried               2368           2263  \n",
       "Small Business         2084           1970  "
      ]
     },
     "execution_count": 317,
     "metadata": {},
     "output_type": "execute_result"
    }
   ],
   "source": [
    "data.groupby('Occupation').count()"
   ]
  },
  {
   "cell_type": "code",
   "execution_count": 318,
   "id": "70a8fd10-8135-42be-966a-38dc9fe4e481",
   "metadata": {},
   "outputs": [
    {
     "data": {
      "text/html": [
       "<div>\n",
       "<style scoped>\n",
       "    .dataframe tbody tr th:only-of-type {\n",
       "        vertical-align: middle;\n",
       "    }\n",
       "\n",
       "    .dataframe tbody tr th {\n",
       "        vertical-align: top;\n",
       "    }\n",
       "\n",
       "    .dataframe thead th {\n",
       "        text-align: right;\n",
       "    }\n",
       "</style>\n",
       "<table border=\"1\" class=\"dataframe\">\n",
       "  <thead>\n",
       "    <tr style=\"text-align: right;\">\n",
       "      <th></th>\n",
       "      <th>CustomerID</th>\n",
       "      <th>ProdTaken</th>\n",
       "      <th>Age</th>\n",
       "      <th>TypeofContact</th>\n",
       "      <th>CityTier</th>\n",
       "      <th>DurationOfPitch</th>\n",
       "      <th>Occupation</th>\n",
       "      <th>NumberOfPersonVisiting</th>\n",
       "      <th>NumberOfFollowups</th>\n",
       "      <th>ProductPitched</th>\n",
       "      <th>PreferredPropertyStar</th>\n",
       "      <th>MaritalStatus</th>\n",
       "      <th>NumberOfTrips</th>\n",
       "      <th>Passport</th>\n",
       "      <th>PitchSatisfactionScore</th>\n",
       "      <th>OwnCar</th>\n",
       "      <th>NumberOfChildrenVisiting</th>\n",
       "      <th>Designation</th>\n",
       "      <th>MonthlyIncome</th>\n",
       "    </tr>\n",
       "    <tr>\n",
       "      <th>Gender</th>\n",
       "      <th></th>\n",
       "      <th></th>\n",
       "      <th></th>\n",
       "      <th></th>\n",
       "      <th></th>\n",
       "      <th></th>\n",
       "      <th></th>\n",
       "      <th></th>\n",
       "      <th></th>\n",
       "      <th></th>\n",
       "      <th></th>\n",
       "      <th></th>\n",
       "      <th></th>\n",
       "      <th></th>\n",
       "      <th></th>\n",
       "      <th></th>\n",
       "      <th></th>\n",
       "      <th></th>\n",
       "      <th></th>\n",
       "    </tr>\n",
       "  </thead>\n",
       "  <tbody>\n",
       "    <tr>\n",
       "      <th>Fe Male</th>\n",
       "      <td>155</td>\n",
       "      <td>155</td>\n",
       "      <td>155</td>\n",
       "      <td>155</td>\n",
       "      <td>155</td>\n",
       "      <td>155</td>\n",
       "      <td>155</td>\n",
       "      <td>155</td>\n",
       "      <td>155</td>\n",
       "      <td>155</td>\n",
       "      <td>155</td>\n",
       "      <td>155</td>\n",
       "      <td>155</td>\n",
       "      <td>155</td>\n",
       "      <td>155</td>\n",
       "      <td>155</td>\n",
       "      <td>155</td>\n",
       "      <td>155</td>\n",
       "      <td>155</td>\n",
       "    </tr>\n",
       "    <tr>\n",
       "      <th>Female</th>\n",
       "      <td>1817</td>\n",
       "      <td>1817</td>\n",
       "      <td>1735</td>\n",
       "      <td>1807</td>\n",
       "      <td>1817</td>\n",
       "      <td>1707</td>\n",
       "      <td>1817</td>\n",
       "      <td>1817</td>\n",
       "      <td>1800</td>\n",
       "      <td>1817</td>\n",
       "      <td>1805</td>\n",
       "      <td>1817</td>\n",
       "      <td>1773</td>\n",
       "      <td>1817</td>\n",
       "      <td>1817</td>\n",
       "      <td>1817</td>\n",
       "      <td>1777</td>\n",
       "      <td>1817</td>\n",
       "      <td>1719</td>\n",
       "    </tr>\n",
       "    <tr>\n",
       "      <th>Male</th>\n",
       "      <td>2916</td>\n",
       "      <td>2916</td>\n",
       "      <td>2772</td>\n",
       "      <td>2901</td>\n",
       "      <td>2916</td>\n",
       "      <td>2775</td>\n",
       "      <td>2916</td>\n",
       "      <td>2916</td>\n",
       "      <td>2888</td>\n",
       "      <td>2916</td>\n",
       "      <td>2902</td>\n",
       "      <td>2916</td>\n",
       "      <td>2820</td>\n",
       "      <td>2916</td>\n",
       "      <td>2916</td>\n",
       "      <td>2916</td>\n",
       "      <td>2890</td>\n",
       "      <td>2916</td>\n",
       "      <td>2781</td>\n",
       "    </tr>\n",
       "  </tbody>\n",
       "</table>\n",
       "</div>"
      ],
      "text/plain": [
       "         CustomerID  ProdTaken   Age  TypeofContact  CityTier  \\\n",
       "Gender                                                          \n",
       "Fe Male         155        155   155            155       155   \n",
       "Female         1817       1817  1735           1807      1817   \n",
       "Male           2916       2916  2772           2901      2916   \n",
       "\n",
       "         DurationOfPitch  Occupation  NumberOfPersonVisiting  \\\n",
       "Gender                                                         \n",
       "Fe Male              155         155                     155   \n",
       "Female              1707        1817                    1817   \n",
       "Male                2775        2916                    2916   \n",
       "\n",
       "         NumberOfFollowups  ProductPitched  PreferredPropertyStar  \\\n",
       "Gender                                                              \n",
       "Fe Male                155             155                    155   \n",
       "Female                1800            1817                   1805   \n",
       "Male                  2888            2916                   2902   \n",
       "\n",
       "         MaritalStatus  NumberOfTrips  Passport  PitchSatisfactionScore  \\\n",
       "Gender                                                                    \n",
       "Fe Male            155            155       155                     155   \n",
       "Female            1817           1773      1817                    1817   \n",
       "Male              2916           2820      2916                    2916   \n",
       "\n",
       "         OwnCar  NumberOfChildrenVisiting  Designation  MonthlyIncome  \n",
       "Gender                                                                 \n",
       "Fe Male     155                       155          155            155  \n",
       "Female     1817                      1777         1817           1719  \n",
       "Male       2916                      2890         2916           2781  "
      ]
     },
     "execution_count": 318,
     "metadata": {},
     "output_type": "execute_result"
    }
   ],
   "source": [
    "data.groupby('Gender').count()"
   ]
  },
  {
   "cell_type": "code",
   "execution_count": 319,
   "id": "ee4f2e41-0a9d-48ff-ab90-98ef36db8c5b",
   "metadata": {},
   "outputs": [
    {
     "data": {
      "text/html": [
       "<div>\n",
       "<style scoped>\n",
       "    .dataframe tbody tr th:only-of-type {\n",
       "        vertical-align: middle;\n",
       "    }\n",
       "\n",
       "    .dataframe tbody tr th {\n",
       "        vertical-align: top;\n",
       "    }\n",
       "\n",
       "    .dataframe thead th {\n",
       "        text-align: right;\n",
       "    }\n",
       "</style>\n",
       "<table border=\"1\" class=\"dataframe\">\n",
       "  <thead>\n",
       "    <tr style=\"text-align: right;\">\n",
       "      <th></th>\n",
       "      <th>CustomerID</th>\n",
       "      <th>ProdTaken</th>\n",
       "      <th>Age</th>\n",
       "      <th>TypeofContact</th>\n",
       "      <th>CityTier</th>\n",
       "      <th>DurationOfPitch</th>\n",
       "      <th>Occupation</th>\n",
       "      <th>Gender</th>\n",
       "      <th>NumberOfPersonVisiting</th>\n",
       "      <th>NumberOfFollowups</th>\n",
       "      <th>PreferredPropertyStar</th>\n",
       "      <th>MaritalStatus</th>\n",
       "      <th>NumberOfTrips</th>\n",
       "      <th>Passport</th>\n",
       "      <th>PitchSatisfactionScore</th>\n",
       "      <th>OwnCar</th>\n",
       "      <th>NumberOfChildrenVisiting</th>\n",
       "      <th>Designation</th>\n",
       "      <th>MonthlyIncome</th>\n",
       "    </tr>\n",
       "    <tr>\n",
       "      <th>ProductPitched</th>\n",
       "      <th></th>\n",
       "      <th></th>\n",
       "      <th></th>\n",
       "      <th></th>\n",
       "      <th></th>\n",
       "      <th></th>\n",
       "      <th></th>\n",
       "      <th></th>\n",
       "      <th></th>\n",
       "      <th></th>\n",
       "      <th></th>\n",
       "      <th></th>\n",
       "      <th></th>\n",
       "      <th></th>\n",
       "      <th></th>\n",
       "      <th></th>\n",
       "      <th></th>\n",
       "      <th></th>\n",
       "      <th></th>\n",
       "    </tr>\n",
       "  </thead>\n",
       "  <tbody>\n",
       "    <tr>\n",
       "      <th>Basic</th>\n",
       "      <td>1842</td>\n",
       "      <td>1842</td>\n",
       "      <td>1698</td>\n",
       "      <td>1832</td>\n",
       "      <td>1842</td>\n",
       "      <td>1781</td>\n",
       "      <td>1842</td>\n",
       "      <td>1842</td>\n",
       "      <td>1842</td>\n",
       "      <td>1829</td>\n",
       "      <td>1841</td>\n",
       "      <td>1842</td>\n",
       "      <td>1837</td>\n",
       "      <td>1842</td>\n",
       "      <td>1842</td>\n",
       "      <td>1842</td>\n",
       "      <td>1841</td>\n",
       "      <td>1842</td>\n",
       "      <td>1755</td>\n",
       "    </tr>\n",
       "    <tr>\n",
       "      <th>Deluxe</th>\n",
       "      <td>1732</td>\n",
       "      <td>1732</td>\n",
       "      <td>1651</td>\n",
       "      <td>1717</td>\n",
       "      <td>1732</td>\n",
       "      <td>1543</td>\n",
       "      <td>1732</td>\n",
       "      <td>1732</td>\n",
       "      <td>1732</td>\n",
       "      <td>1700</td>\n",
       "      <td>1731</td>\n",
       "      <td>1732</td>\n",
       "      <td>1730</td>\n",
       "      <td>1732</td>\n",
       "      <td>1732</td>\n",
       "      <td>1732</td>\n",
       "      <td>1731</td>\n",
       "      <td>1732</td>\n",
       "      <td>1586</td>\n",
       "    </tr>\n",
       "    <tr>\n",
       "      <th>King</th>\n",
       "      <td>230</td>\n",
       "      <td>230</td>\n",
       "      <td>230</td>\n",
       "      <td>230</td>\n",
       "      <td>230</td>\n",
       "      <td>230</td>\n",
       "      <td>230</td>\n",
       "      <td>230</td>\n",
       "      <td>230</td>\n",
       "      <td>230</td>\n",
       "      <td>207</td>\n",
       "      <td>230</td>\n",
       "      <td>148</td>\n",
       "      <td>230</td>\n",
       "      <td>230</td>\n",
       "      <td>230</td>\n",
       "      <td>209</td>\n",
       "      <td>230</td>\n",
       "      <td>230</td>\n",
       "    </tr>\n",
       "    <tr>\n",
       "      <th>Standard</th>\n",
       "      <td>742</td>\n",
       "      <td>742</td>\n",
       "      <td>741</td>\n",
       "      <td>742</td>\n",
       "      <td>742</td>\n",
       "      <td>741</td>\n",
       "      <td>742</td>\n",
       "      <td>742</td>\n",
       "      <td>742</td>\n",
       "      <td>742</td>\n",
       "      <td>741</td>\n",
       "      <td>742</td>\n",
       "      <td>741</td>\n",
       "      <td>742</td>\n",
       "      <td>742</td>\n",
       "      <td>742</td>\n",
       "      <td>741</td>\n",
       "      <td>742</td>\n",
       "      <td>742</td>\n",
       "    </tr>\n",
       "    <tr>\n",
       "      <th>Super Deluxe</th>\n",
       "      <td>342</td>\n",
       "      <td>342</td>\n",
       "      <td>342</td>\n",
       "      <td>342</td>\n",
       "      <td>342</td>\n",
       "      <td>342</td>\n",
       "      <td>342</td>\n",
       "      <td>342</td>\n",
       "      <td>342</td>\n",
       "      <td>342</td>\n",
       "      <td>342</td>\n",
       "      <td>342</td>\n",
       "      <td>292</td>\n",
       "      <td>342</td>\n",
       "      <td>342</td>\n",
       "      <td>342</td>\n",
       "      <td>300</td>\n",
       "      <td>342</td>\n",
       "      <td>342</td>\n",
       "    </tr>\n",
       "  </tbody>\n",
       "</table>\n",
       "</div>"
      ],
      "text/plain": [
       "                CustomerID  ProdTaken   Age  TypeofContact  CityTier  \\\n",
       "ProductPitched                                                         \n",
       "Basic                 1842       1842  1698           1832      1842   \n",
       "Deluxe                1732       1732  1651           1717      1732   \n",
       "King                   230        230   230            230       230   \n",
       "Standard               742        742   741            742       742   \n",
       "Super Deluxe           342        342   342            342       342   \n",
       "\n",
       "                DurationOfPitch  Occupation  Gender  NumberOfPersonVisiting  \\\n",
       "ProductPitched                                                                \n",
       "Basic                      1781        1842    1842                    1842   \n",
       "Deluxe                     1543        1732    1732                    1732   \n",
       "King                        230         230     230                     230   \n",
       "Standard                    741         742     742                     742   \n",
       "Super Deluxe                342         342     342                     342   \n",
       "\n",
       "                NumberOfFollowups  PreferredPropertyStar  MaritalStatus  \\\n",
       "ProductPitched                                                            \n",
       "Basic                        1829                   1841           1842   \n",
       "Deluxe                       1700                   1731           1732   \n",
       "King                          230                    207            230   \n",
       "Standard                      742                    741            742   \n",
       "Super Deluxe                  342                    342            342   \n",
       "\n",
       "                NumberOfTrips  Passport  PitchSatisfactionScore  OwnCar  \\\n",
       "ProductPitched                                                            \n",
       "Basic                    1837      1842                    1842    1842   \n",
       "Deluxe                   1730      1732                    1732    1732   \n",
       "King                      148       230                     230     230   \n",
       "Standard                  741       742                     742     742   \n",
       "Super Deluxe              292       342                     342     342   \n",
       "\n",
       "                NumberOfChildrenVisiting  Designation  MonthlyIncome  \n",
       "ProductPitched                                                        \n",
       "Basic                               1841         1842           1755  \n",
       "Deluxe                              1731         1732           1586  \n",
       "King                                 209          230            230  \n",
       "Standard                             741          742            742  \n",
       "Super Deluxe                         300          342            342  "
      ]
     },
     "execution_count": 319,
     "metadata": {},
     "output_type": "execute_result"
    }
   ],
   "source": [
    "data.groupby('ProductPitched').count()"
   ]
  },
  {
   "cell_type": "code",
   "execution_count": 320,
   "id": "d178f29b-d2ac-4264-9e15-bae2f112fdba",
   "metadata": {},
   "outputs": [
    {
     "data": {
      "text/html": [
       "<div>\n",
       "<style scoped>\n",
       "    .dataframe tbody tr th:only-of-type {\n",
       "        vertical-align: middle;\n",
       "    }\n",
       "\n",
       "    .dataframe tbody tr th {\n",
       "        vertical-align: top;\n",
       "    }\n",
       "\n",
       "    .dataframe thead th {\n",
       "        text-align: right;\n",
       "    }\n",
       "</style>\n",
       "<table border=\"1\" class=\"dataframe\">\n",
       "  <thead>\n",
       "    <tr style=\"text-align: right;\">\n",
       "      <th></th>\n",
       "      <th>CustomerID</th>\n",
       "      <th>ProdTaken</th>\n",
       "      <th>Age</th>\n",
       "      <th>TypeofContact</th>\n",
       "      <th>CityTier</th>\n",
       "      <th>DurationOfPitch</th>\n",
       "      <th>Occupation</th>\n",
       "      <th>Gender</th>\n",
       "      <th>NumberOfPersonVisiting</th>\n",
       "      <th>NumberOfFollowups</th>\n",
       "      <th>ProductPitched</th>\n",
       "      <th>PreferredPropertyStar</th>\n",
       "      <th>NumberOfTrips</th>\n",
       "      <th>Passport</th>\n",
       "      <th>PitchSatisfactionScore</th>\n",
       "      <th>OwnCar</th>\n",
       "      <th>NumberOfChildrenVisiting</th>\n",
       "      <th>Designation</th>\n",
       "      <th>MonthlyIncome</th>\n",
       "    </tr>\n",
       "    <tr>\n",
       "      <th>MaritalStatus</th>\n",
       "      <th></th>\n",
       "      <th></th>\n",
       "      <th></th>\n",
       "      <th></th>\n",
       "      <th></th>\n",
       "      <th></th>\n",
       "      <th></th>\n",
       "      <th></th>\n",
       "      <th></th>\n",
       "      <th></th>\n",
       "      <th></th>\n",
       "      <th></th>\n",
       "      <th></th>\n",
       "      <th></th>\n",
       "      <th></th>\n",
       "      <th></th>\n",
       "      <th></th>\n",
       "      <th></th>\n",
       "      <th></th>\n",
       "    </tr>\n",
       "  </thead>\n",
       "  <tbody>\n",
       "    <tr>\n",
       "      <th>Divorced</th>\n",
       "      <td>950</td>\n",
       "      <td>950</td>\n",
       "      <td>905</td>\n",
       "      <td>944</td>\n",
       "      <td>950</td>\n",
       "      <td>898</td>\n",
       "      <td>950</td>\n",
       "      <td>950</td>\n",
       "      <td>950</td>\n",
       "      <td>945</td>\n",
       "      <td>950</td>\n",
       "      <td>944</td>\n",
       "      <td>915</td>\n",
       "      <td>950</td>\n",
       "      <td>950</td>\n",
       "      <td>950</td>\n",
       "      <td>933</td>\n",
       "      <td>950</td>\n",
       "      <td>902</td>\n",
       "    </tr>\n",
       "    <tr>\n",
       "      <th>Married</th>\n",
       "      <td>2340</td>\n",
       "      <td>2340</td>\n",
       "      <td>2241</td>\n",
       "      <td>2325</td>\n",
       "      <td>2340</td>\n",
       "      <td>2232</td>\n",
       "      <td>2340</td>\n",
       "      <td>2340</td>\n",
       "      <td>2340</td>\n",
       "      <td>2321</td>\n",
       "      <td>2340</td>\n",
       "      <td>2326</td>\n",
       "      <td>2262</td>\n",
       "      <td>2340</td>\n",
       "      <td>2340</td>\n",
       "      <td>2340</td>\n",
       "      <td>2311</td>\n",
       "      <td>2340</td>\n",
       "      <td>2228</td>\n",
       "    </tr>\n",
       "    <tr>\n",
       "      <th>Single</th>\n",
       "      <td>916</td>\n",
       "      <td>916</td>\n",
       "      <td>834</td>\n",
       "      <td>912</td>\n",
       "      <td>916</td>\n",
       "      <td>825</td>\n",
       "      <td>916</td>\n",
       "      <td>916</td>\n",
       "      <td>916</td>\n",
       "      <td>895</td>\n",
       "      <td>916</td>\n",
       "      <td>910</td>\n",
       "      <td>889</td>\n",
       "      <td>916</td>\n",
       "      <td>916</td>\n",
       "      <td>916</td>\n",
       "      <td>896</td>\n",
       "      <td>916</td>\n",
       "      <td>843</td>\n",
       "    </tr>\n",
       "    <tr>\n",
       "      <th>Unmarried</th>\n",
       "      <td>682</td>\n",
       "      <td>682</td>\n",
       "      <td>682</td>\n",
       "      <td>682</td>\n",
       "      <td>682</td>\n",
       "      <td>682</td>\n",
       "      <td>682</td>\n",
       "      <td>682</td>\n",
       "      <td>682</td>\n",
       "      <td>682</td>\n",
       "      <td>682</td>\n",
       "      <td>682</td>\n",
       "      <td>682</td>\n",
       "      <td>682</td>\n",
       "      <td>682</td>\n",
       "      <td>682</td>\n",
       "      <td>682</td>\n",
       "      <td>682</td>\n",
       "      <td>682</td>\n",
       "    </tr>\n",
       "  </tbody>\n",
       "</table>\n",
       "</div>"
      ],
      "text/plain": [
       "               CustomerID  ProdTaken   Age  TypeofContact  CityTier  \\\n",
       "MaritalStatus                                                         \n",
       "Divorced              950        950   905            944       950   \n",
       "Married              2340       2340  2241           2325      2340   \n",
       "Single                916        916   834            912       916   \n",
       "Unmarried             682        682   682            682       682   \n",
       "\n",
       "               DurationOfPitch  Occupation  Gender  NumberOfPersonVisiting  \\\n",
       "MaritalStatus                                                                \n",
       "Divorced                   898         950     950                     950   \n",
       "Married                   2232        2340    2340                    2340   \n",
       "Single                     825         916     916                     916   \n",
       "Unmarried                  682         682     682                     682   \n",
       "\n",
       "               NumberOfFollowups  ProductPitched  PreferredPropertyStar  \\\n",
       "MaritalStatus                                                             \n",
       "Divorced                     945             950                    944   \n",
       "Married                     2321            2340                   2326   \n",
       "Single                       895             916                    910   \n",
       "Unmarried                    682             682                    682   \n",
       "\n",
       "               NumberOfTrips  Passport  PitchSatisfactionScore  OwnCar  \\\n",
       "MaritalStatus                                                            \n",
       "Divorced                 915       950                     950     950   \n",
       "Married                 2262      2340                    2340    2340   \n",
       "Single                   889       916                     916     916   \n",
       "Unmarried                682       682                     682     682   \n",
       "\n",
       "               NumberOfChildrenVisiting  Designation  MonthlyIncome  \n",
       "MaritalStatus                                                        \n",
       "Divorced                            933          950            902  \n",
       "Married                            2311         2340           2228  \n",
       "Single                              896          916            843  \n",
       "Unmarried                           682          682            682  "
      ]
     },
     "execution_count": 320,
     "metadata": {},
     "output_type": "execute_result"
    }
   ],
   "source": [
    "data.groupby('MaritalStatus').count()"
   ]
  },
  {
   "cell_type": "code",
   "execution_count": 352,
   "id": "d2d4fab0-1451-4829-beec-1b9ed9b8d15f",
   "metadata": {},
   "outputs": [
    {
     "data": {
      "text/html": [
       "<div>\n",
       "<style scoped>\n",
       "    .dataframe tbody tr th:only-of-type {\n",
       "        vertical-align: middle;\n",
       "    }\n",
       "\n",
       "    .dataframe tbody tr th {\n",
       "        vertical-align: top;\n",
       "    }\n",
       "\n",
       "    .dataframe thead th {\n",
       "        text-align: right;\n",
       "    }\n",
       "</style>\n",
       "<table border=\"1\" class=\"dataframe\">\n",
       "  <thead>\n",
       "    <tr style=\"text-align: right;\">\n",
       "      <th></th>\n",
       "      <th>CustomerID</th>\n",
       "      <th>ProdTaken</th>\n",
       "      <th>Age</th>\n",
       "      <th>TypeofContact</th>\n",
       "      <th>CityTier</th>\n",
       "      <th>DurationOfPitch</th>\n",
       "      <th>Occupation</th>\n",
       "      <th>Gender</th>\n",
       "      <th>NumberOfPersonVisiting</th>\n",
       "      <th>NumberOfFollowups</th>\n",
       "      <th>ProductPitched</th>\n",
       "      <th>PreferredPropertyStar</th>\n",
       "      <th>MaritalStatus</th>\n",
       "      <th>NumberOfTrips</th>\n",
       "      <th>Passport</th>\n",
       "      <th>OwnCar</th>\n",
       "      <th>NumberOfChildrenVisiting</th>\n",
       "      <th>Designation</th>\n",
       "      <th>MonthlyIncome</th>\n",
       "    </tr>\n",
       "    <tr>\n",
       "      <th>PitchSatisfactionScore</th>\n",
       "      <th></th>\n",
       "      <th></th>\n",
       "      <th></th>\n",
       "      <th></th>\n",
       "      <th></th>\n",
       "      <th></th>\n",
       "      <th></th>\n",
       "      <th></th>\n",
       "      <th></th>\n",
       "      <th></th>\n",
       "      <th></th>\n",
       "      <th></th>\n",
       "      <th></th>\n",
       "      <th></th>\n",
       "      <th></th>\n",
       "      <th></th>\n",
       "      <th></th>\n",
       "      <th></th>\n",
       "      <th></th>\n",
       "    </tr>\n",
       "  </thead>\n",
       "  <tbody>\n",
       "    <tr>\n",
       "      <th>1</th>\n",
       "      <td>942</td>\n",
       "      <td>942</td>\n",
       "      <td>899</td>\n",
       "      <td>937</td>\n",
       "      <td>942</td>\n",
       "      <td>896</td>\n",
       "      <td>942</td>\n",
       "      <td>942</td>\n",
       "      <td>942</td>\n",
       "      <td>935</td>\n",
       "      <td>942</td>\n",
       "      <td>939</td>\n",
       "      <td>942</td>\n",
       "      <td>915</td>\n",
       "      <td>942</td>\n",
       "      <td>942</td>\n",
       "      <td>933</td>\n",
       "      <td>942</td>\n",
       "      <td>900</td>\n",
       "    </tr>\n",
       "    <tr>\n",
       "      <th>2</th>\n",
       "      <td>586</td>\n",
       "      <td>586</td>\n",
       "      <td>563</td>\n",
       "      <td>583</td>\n",
       "      <td>586</td>\n",
       "      <td>558</td>\n",
       "      <td>586</td>\n",
       "      <td>586</td>\n",
       "      <td>586</td>\n",
       "      <td>581</td>\n",
       "      <td>586</td>\n",
       "      <td>583</td>\n",
       "      <td>586</td>\n",
       "      <td>565</td>\n",
       "      <td>586</td>\n",
       "      <td>586</td>\n",
       "      <td>581</td>\n",
       "      <td>586</td>\n",
       "      <td>563</td>\n",
       "    </tr>\n",
       "    <tr>\n",
       "      <th>3</th>\n",
       "      <td>1478</td>\n",
       "      <td>1478</td>\n",
       "      <td>1418</td>\n",
       "      <td>1466</td>\n",
       "      <td>1478</td>\n",
       "      <td>1389</td>\n",
       "      <td>1478</td>\n",
       "      <td>1478</td>\n",
       "      <td>1478</td>\n",
       "      <td>1464</td>\n",
       "      <td>1478</td>\n",
       "      <td>1474</td>\n",
       "      <td>1478</td>\n",
       "      <td>1445</td>\n",
       "      <td>1478</td>\n",
       "      <td>1478</td>\n",
       "      <td>1457</td>\n",
       "      <td>1478</td>\n",
       "      <td>1409</td>\n",
       "    </tr>\n",
       "    <tr>\n",
       "      <th>4</th>\n",
       "      <td>912</td>\n",
       "      <td>912</td>\n",
       "      <td>863</td>\n",
       "      <td>910</td>\n",
       "      <td>912</td>\n",
       "      <td>870</td>\n",
       "      <td>912</td>\n",
       "      <td>912</td>\n",
       "      <td>912</td>\n",
       "      <td>905</td>\n",
       "      <td>912</td>\n",
       "      <td>904</td>\n",
       "      <td>912</td>\n",
       "      <td>890</td>\n",
       "      <td>912</td>\n",
       "      <td>912</td>\n",
       "      <td>897</td>\n",
       "      <td>912</td>\n",
       "      <td>860</td>\n",
       "    </tr>\n",
       "    <tr>\n",
       "      <th>5</th>\n",
       "      <td>970</td>\n",
       "      <td>970</td>\n",
       "      <td>919</td>\n",
       "      <td>967</td>\n",
       "      <td>970</td>\n",
       "      <td>924</td>\n",
       "      <td>970</td>\n",
       "      <td>970</td>\n",
       "      <td>970</td>\n",
       "      <td>958</td>\n",
       "      <td>970</td>\n",
       "      <td>962</td>\n",
       "      <td>970</td>\n",
       "      <td>933</td>\n",
       "      <td>970</td>\n",
       "      <td>970</td>\n",
       "      <td>954</td>\n",
       "      <td>970</td>\n",
       "      <td>923</td>\n",
       "    </tr>\n",
       "  </tbody>\n",
       "</table>\n",
       "</div>"
      ],
      "text/plain": [
       "                        CustomerID  ProdTaken   Age  TypeofContact  CityTier  \\\n",
       "PitchSatisfactionScore                                                         \n",
       "1                              942        942   899            937       942   \n",
       "2                              586        586   563            583       586   \n",
       "3                             1478       1478  1418           1466      1478   \n",
       "4                              912        912   863            910       912   \n",
       "5                              970        970   919            967       970   \n",
       "\n",
       "                        DurationOfPitch  Occupation  Gender  \\\n",
       "PitchSatisfactionScore                                        \n",
       "1                                   896         942     942   \n",
       "2                                   558         586     586   \n",
       "3                                  1389        1478    1478   \n",
       "4                                   870         912     912   \n",
       "5                                   924         970     970   \n",
       "\n",
       "                        NumberOfPersonVisiting  NumberOfFollowups  \\\n",
       "PitchSatisfactionScore                                              \n",
       "1                                          942                935   \n",
       "2                                          586                581   \n",
       "3                                         1478               1464   \n",
       "4                                          912                905   \n",
       "5                                          970                958   \n",
       "\n",
       "                        ProductPitched  PreferredPropertyStar  MaritalStatus  \\\n",
       "PitchSatisfactionScore                                                         \n",
       "1                                  942                    939            942   \n",
       "2                                  586                    583            586   \n",
       "3                                 1478                   1474           1478   \n",
       "4                                  912                    904            912   \n",
       "5                                  970                    962            970   \n",
       "\n",
       "                        NumberOfTrips  Passport  OwnCar  \\\n",
       "PitchSatisfactionScore                                    \n",
       "1                                 915       942     942   \n",
       "2                                 565       586     586   \n",
       "3                                1445      1478    1478   \n",
       "4                                 890       912     912   \n",
       "5                                 933       970     970   \n",
       "\n",
       "                        NumberOfChildrenVisiting  Designation  MonthlyIncome  \n",
       "PitchSatisfactionScore                                                        \n",
       "1                                            933          942            900  \n",
       "2                                            581          586            563  \n",
       "3                                           1457         1478           1409  \n",
       "4                                            897          912            860  \n",
       "5                                            954          970            923  "
      ]
     },
     "execution_count": 352,
     "metadata": {},
     "output_type": "execute_result"
    }
   ],
   "source": [
    "data.groupby('PitchSatisfactionScore').count()"
   ]
  },
  {
   "cell_type": "code",
   "execution_count": 321,
   "id": "8897fca6-de7f-44b2-88ec-1e6e7e49e256",
   "metadata": {},
   "outputs": [
    {
     "data": {
      "text/html": [
       "<div>\n",
       "<style scoped>\n",
       "    .dataframe tbody tr th:only-of-type {\n",
       "        vertical-align: middle;\n",
       "    }\n",
       "\n",
       "    .dataframe tbody tr th {\n",
       "        vertical-align: top;\n",
       "    }\n",
       "\n",
       "    .dataframe thead th {\n",
       "        text-align: right;\n",
       "    }\n",
       "</style>\n",
       "<table border=\"1\" class=\"dataframe\">\n",
       "  <thead>\n",
       "    <tr style=\"text-align: right;\">\n",
       "      <th></th>\n",
       "      <th>CustomerID</th>\n",
       "      <th>ProdTaken</th>\n",
       "      <th>Age</th>\n",
       "      <th>TypeofContact</th>\n",
       "      <th>CityTier</th>\n",
       "      <th>DurationOfPitch</th>\n",
       "      <th>Occupation</th>\n",
       "      <th>Gender</th>\n",
       "      <th>NumberOfPersonVisiting</th>\n",
       "      <th>NumberOfFollowups</th>\n",
       "      <th>ProductPitched</th>\n",
       "      <th>PreferredPropertyStar</th>\n",
       "      <th>MaritalStatus</th>\n",
       "      <th>NumberOfTrips</th>\n",
       "      <th>Passport</th>\n",
       "      <th>PitchSatisfactionScore</th>\n",
       "      <th>OwnCar</th>\n",
       "      <th>NumberOfChildrenVisiting</th>\n",
       "      <th>MonthlyIncome</th>\n",
       "    </tr>\n",
       "    <tr>\n",
       "      <th>Designation</th>\n",
       "      <th></th>\n",
       "      <th></th>\n",
       "      <th></th>\n",
       "      <th></th>\n",
       "      <th></th>\n",
       "      <th></th>\n",
       "      <th></th>\n",
       "      <th></th>\n",
       "      <th></th>\n",
       "      <th></th>\n",
       "      <th></th>\n",
       "      <th></th>\n",
       "      <th></th>\n",
       "      <th></th>\n",
       "      <th></th>\n",
       "      <th></th>\n",
       "      <th></th>\n",
       "      <th></th>\n",
       "      <th></th>\n",
       "    </tr>\n",
       "  </thead>\n",
       "  <tbody>\n",
       "    <tr>\n",
       "      <th>AVP</th>\n",
       "      <td>342</td>\n",
       "      <td>342</td>\n",
       "      <td>342</td>\n",
       "      <td>342</td>\n",
       "      <td>342</td>\n",
       "      <td>342</td>\n",
       "      <td>342</td>\n",
       "      <td>342</td>\n",
       "      <td>342</td>\n",
       "      <td>342</td>\n",
       "      <td>342</td>\n",
       "      <td>342</td>\n",
       "      <td>342</td>\n",
       "      <td>292</td>\n",
       "      <td>342</td>\n",
       "      <td>342</td>\n",
       "      <td>342</td>\n",
       "      <td>300</td>\n",
       "      <td>342</td>\n",
       "    </tr>\n",
       "    <tr>\n",
       "      <th>Executive</th>\n",
       "      <td>1842</td>\n",
       "      <td>1842</td>\n",
       "      <td>1698</td>\n",
       "      <td>1832</td>\n",
       "      <td>1842</td>\n",
       "      <td>1781</td>\n",
       "      <td>1842</td>\n",
       "      <td>1842</td>\n",
       "      <td>1842</td>\n",
       "      <td>1829</td>\n",
       "      <td>1842</td>\n",
       "      <td>1841</td>\n",
       "      <td>1842</td>\n",
       "      <td>1837</td>\n",
       "      <td>1842</td>\n",
       "      <td>1842</td>\n",
       "      <td>1842</td>\n",
       "      <td>1841</td>\n",
       "      <td>1755</td>\n",
       "    </tr>\n",
       "    <tr>\n",
       "      <th>Manager</th>\n",
       "      <td>1732</td>\n",
       "      <td>1732</td>\n",
       "      <td>1651</td>\n",
       "      <td>1717</td>\n",
       "      <td>1732</td>\n",
       "      <td>1543</td>\n",
       "      <td>1732</td>\n",
       "      <td>1732</td>\n",
       "      <td>1732</td>\n",
       "      <td>1700</td>\n",
       "      <td>1732</td>\n",
       "      <td>1731</td>\n",
       "      <td>1732</td>\n",
       "      <td>1730</td>\n",
       "      <td>1732</td>\n",
       "      <td>1732</td>\n",
       "      <td>1732</td>\n",
       "      <td>1731</td>\n",
       "      <td>1586</td>\n",
       "    </tr>\n",
       "    <tr>\n",
       "      <th>Senior Manager</th>\n",
       "      <td>742</td>\n",
       "      <td>742</td>\n",
       "      <td>741</td>\n",
       "      <td>742</td>\n",
       "      <td>742</td>\n",
       "      <td>741</td>\n",
       "      <td>742</td>\n",
       "      <td>742</td>\n",
       "      <td>742</td>\n",
       "      <td>742</td>\n",
       "      <td>742</td>\n",
       "      <td>741</td>\n",
       "      <td>742</td>\n",
       "      <td>741</td>\n",
       "      <td>742</td>\n",
       "      <td>742</td>\n",
       "      <td>742</td>\n",
       "      <td>741</td>\n",
       "      <td>742</td>\n",
       "    </tr>\n",
       "    <tr>\n",
       "      <th>VP</th>\n",
       "      <td>230</td>\n",
       "      <td>230</td>\n",
       "      <td>230</td>\n",
       "      <td>230</td>\n",
       "      <td>230</td>\n",
       "      <td>230</td>\n",
       "      <td>230</td>\n",
       "      <td>230</td>\n",
       "      <td>230</td>\n",
       "      <td>230</td>\n",
       "      <td>230</td>\n",
       "      <td>207</td>\n",
       "      <td>230</td>\n",
       "      <td>148</td>\n",
       "      <td>230</td>\n",
       "      <td>230</td>\n",
       "      <td>230</td>\n",
       "      <td>209</td>\n",
       "      <td>230</td>\n",
       "    </tr>\n",
       "  </tbody>\n",
       "</table>\n",
       "</div>"
      ],
      "text/plain": [
       "                CustomerID  ProdTaken   Age  TypeofContact  CityTier  \\\n",
       "Designation                                                            \n",
       "AVP                    342        342   342            342       342   \n",
       "Executive             1842       1842  1698           1832      1842   \n",
       "Manager               1732       1732  1651           1717      1732   \n",
       "Senior Manager         742        742   741            742       742   \n",
       "VP                     230        230   230            230       230   \n",
       "\n",
       "                DurationOfPitch  Occupation  Gender  NumberOfPersonVisiting  \\\n",
       "Designation                                                                   \n",
       "AVP                         342         342     342                     342   \n",
       "Executive                  1781        1842    1842                    1842   \n",
       "Manager                    1543        1732    1732                    1732   \n",
       "Senior Manager              741         742     742                     742   \n",
       "VP                          230         230     230                     230   \n",
       "\n",
       "                NumberOfFollowups  ProductPitched  PreferredPropertyStar  \\\n",
       "Designation                                                                \n",
       "AVP                           342             342                    342   \n",
       "Executive                    1829            1842                   1841   \n",
       "Manager                      1700            1732                   1731   \n",
       "Senior Manager                742             742                    741   \n",
       "VP                            230             230                    207   \n",
       "\n",
       "                MaritalStatus  NumberOfTrips  Passport  \\\n",
       "Designation                                              \n",
       "AVP                       342            292       342   \n",
       "Executive                1842           1837      1842   \n",
       "Manager                  1732           1730      1732   \n",
       "Senior Manager            742            741       742   \n",
       "VP                        230            148       230   \n",
       "\n",
       "                PitchSatisfactionScore  OwnCar  NumberOfChildrenVisiting  \\\n",
       "Designation                                                                \n",
       "AVP                                342     342                       300   \n",
       "Executive                         1842    1842                      1841   \n",
       "Manager                           1732    1732                      1731   \n",
       "Senior Manager                     742     742                       741   \n",
       "VP                                 230     230                       209   \n",
       "\n",
       "                MonthlyIncome  \n",
       "Designation                    \n",
       "AVP                       342  \n",
       "Executive                1755  \n",
       "Manager                  1586  \n",
       "Senior Manager            742  \n",
       "VP                        230  "
      ]
     },
     "execution_count": 321,
     "metadata": {},
     "output_type": "execute_result"
    }
   ],
   "source": [
    "data.groupby('Designation').count()"
   ]
  },
  {
   "cell_type": "markdown",
   "id": "3c691f13-715c-4b1d-bc5b-2468e036d442",
   "metadata": {},
   "source": [
    "## **3. Graph Bases Analysis**\n",
    "         3.1 Univariate\n",
    "             3.1.1 Univariate Analysis of Numerical Features\n",
    "             3.1.2 Univariate Analysis of Categorical Variables\n",
    "             3.1.3 Analysis of Outliers: BoxPlot\n",
    "         3.2 Bivariate\n",
    "             3.2.1 Bivariate Analysis of Numerical Features: Scatter Plot\n",
    "             3.2.2 Bivariate Analysis of Categorical Variables vs Categorical Variables: Count Plot side by side bar chart\n",
    "         3.3 Multivariate: Pair plot"
   ]
  },
  {
   "cell_type": "markdown",
   "id": "098c1845-265e-4923-8db2-393c47b40578",
   "metadata": {},
   "source": [
    "### 3.1 Univariate\n",
    "#### 3.1.1 Univariate Analysis of Numerical Features: Histogram"
   ]
  },
  {
   "cell_type": "code",
   "execution_count": 365,
   "id": "bc4f6727-4687-4072-b056-b7183cbfec79",
   "metadata": {},
   "outputs": [
    {
     "name": "stdout",
     "output_type": "stream",
     "text": [
      "Index(['CustomerID', 'ProdTaken', 'Age', 'TypeofContact', 'CityTier',\n",
      "       'DurationOfPitch', 'Occupation', 'Gender', 'NumberOfPersonVisiting',\n",
      "       'NumberOfFollowups', 'ProductPitched', 'PreferredPropertyStar',\n",
      "       'MaritalStatus', 'NumberOfTrips', 'Passport', 'PitchSatisfactionScore',\n",
      "       'OwnCar', 'NumberOfChildrenVisiting', 'Designation', 'MonthlyIncome'],\n",
      "      dtype='object')\n",
      "Features with numerical values with continuous information:  ['Age', 'DurationOfPitch', 'MonthlyIncome']\n"
     ]
    }
   ],
   "source": [
    "print(data.columns)\n",
    "print(\"Features with numerical values with continuous information: \", num_info)"
   ]
  },
  {
   "cell_type": "code",
   "execution_count": 332,
   "id": "70fe7559-1cca-4dc8-b4c3-a734a0a3709a",
   "metadata": {},
   "outputs": [
    {
     "data": {
      "text/plain": [
       "<AxesSubplot:xlabel='Age', ylabel='Density'>"
      ]
     },
     "execution_count": 332,
     "metadata": {},
     "output_type": "execute_result"
    },
    {
     "data": {
      "image/png": "[encoded data removed]",
      "text/plain": [
       "<Figure size 432x288 with 1 Axes>"
      ]
     },
     "metadata": {
      "needs_background": "light"
     },
     "output_type": "display_data"
    }
   ],
   "source": [
    "sns.distplot(data['Age'])\n",
    "# observation: Slightly Right skewed Normal/Gaussian Distribution"
   ]
  },
  {
   "cell_type": "code",
   "execution_count": 334,
   "id": "8cd45614-e71e-40b9-92e4-350d16ec8170",
   "metadata": {},
   "outputs": [
    {
     "data": {
      "text/plain": [
       "<AxesSubplot:xlabel='DurationOfPitch', ylabel='Density'>"
      ]
     },
     "execution_count": 334,
     "metadata": {},
     "output_type": "execute_result"
    },
    {
     "data": {
      "image/png": "[encoded data removed]",
      "text/plain": [
       "<Figure size 432x288 with 1 Axes>"
      ]
     },
     "metadata": {
      "needs_background": "light"
     },
     "output_type": "display_data"
    }
   ],
   "source": [
    "sns.distplot(data['DurationOfPitch'])\n",
    "# observation: Right skewed Distribution"
   ]
  },
  {
   "cell_type": "code",
   "execution_count": 376,
   "id": "280ba152-c1d4-4aaf-b348-61603432ecb7",
   "metadata": {},
   "outputs": [
    {
     "data": {
      "text/plain": [
       "<AxesSubplot:xlabel='NumberOfTrips', ylabel='Density'>"
      ]
     },
     "execution_count": 376,
     "metadata": {},
     "output_type": "execute_result"
    },
    {
     "data": {
      "image/png": "[encoded data removed]",
      "text/plain": [
       "<Figure size 432x288 with 1 Axes>"
      ]
     },
     "metadata": {
      "needs_background": "light"
     },
     "output_type": "display_data"
    }
   ],
   "source": [
    "sns.distplot(data['NumberOfTrips'])\n",
    "# observation: Right skewed Distribution"
   ]
  },
  {
   "cell_type": "code",
   "execution_count": 355,
   "id": "c9173a8f-6224-44c0-a266-9706aceda258",
   "metadata": {},
   "outputs": [
    {
     "data": {
      "text/plain": [
       "<AxesSubplot:xlabel='MonthlyIncome', ylabel='Density'>"
      ]
     },
     "execution_count": 355,
     "metadata": {},
     "output_type": "execute_result"
    },
    {
     "data": {
      "image/png": "[encoded data removed]",
      "text/plain": [
       "<Figure size 432x288 with 1 Axes>"
      ]
     },
     "metadata": {
      "needs_background": "light"
     },
     "output_type": "display_data"
    }
   ],
   "source": [
    "sns.distplot(data['MonthlyIncome'])\n",
    "# observation: Right skewed Normal/Gaussian Distribution"
   ]
  },
  {
   "cell_type": "markdown",
   "id": "032332cc-618e-4339-bfbf-09b49cb585f8",
   "metadata": {},
   "source": [
    "#### 3.1.2 Univariate Analysis of Categorical Variables: Count Plot"
   ]
  },
  {
   "cell_type": "code",
   "execution_count": 443,
   "id": "e2e24b8a-3e44-4e80-97df-a1464a724bf7",
   "metadata": {},
   "outputs": [
    {
     "name": "stdout",
     "output_type": "stream",
     "text": [
      "Index(['CustomerID', 'ProdTaken', 'Age', 'TypeofContact', 'CityTier',\n",
      "       'DurationOfPitch', 'Occupation', 'Gender', 'NumberOfPersonVisiting',\n",
      "       'NumberOfFollowups', 'ProductPitched', 'PreferredPropertyStar',\n",
      "       'MaritalStatus', 'NumberOfTrips', 'Passport', 'PitchSatisfactionScore',\n",
      "       'OwnCar', 'NumberOfChildrenVisiting', 'Designation', 'MonthlyIncome'],\n",
      "      dtype='object')\n",
      "Categorical Features are: ['TypeofContact', 'Occupation', 'Gender', 'ProductPitched', 'MaritalStatus', 'Designation']\n",
      "\n",
      "Features with numerical values having categorical information:  ['ProdTaken', 'CityTier', 'NumberOfPersonVisiting', 'NumberOfFollowups', 'PreferredPropertyStar', 'Passport', 'PitchSatisfactionScore', 'OwnCar', 'NumberOfChildrenVisiting']\n"
     ]
    }
   ],
   "source": [
    "print(data.columns)\n",
    "print(f\"Categorical Features are: {cat_colum}\\n\")\n",
    "print(\"Features with numerical values having categorical information: \", num_cat_info)"
   ]
  },
  {
   "cell_type": "code",
   "execution_count": 369,
   "id": "0b45a011-2d06-444a-b810-c73bad71782e",
   "metadata": {},
   "outputs": [
    {
     "data": {
      "text/plain": [
       "<AxesSubplot:xlabel='ProdTaken', ylabel='count'>"
      ]
     },
     "execution_count": 369,
     "metadata": {},
     "output_type": "execute_result"
    },
    {
     "data": {
      "image/png": "[encoded data removed]",
      "text/plain": [
       "<Figure size 432x288 with 1 Axes>"
      ]
     },
     "metadata": {
      "needs_background": "light"
     },
     "output_type": "display_data"
    }
   ],
   "source": [
    "sns.countplot(data['ProdTaken'])\n",
    "# observation: \n",
    "# Categorical data with classes represented as numric 0 and 1.\n",
    "# No product taken is more than taken."
   ]
  },
  {
   "cell_type": "code",
   "execution_count": 445,
   "id": "f8b6a93a-8abb-4569-9d73-819821e82a80",
   "metadata": {},
   "outputs": [
    {
     "data": {
      "text/plain": [
       "<AxesSubplot:xlabel='TypeofContact', ylabel='count'>"
      ]
     },
     "execution_count": 445,
     "metadata": {},
     "output_type": "execute_result"
    },
    {
     "data": {
      "image/png": "[encoded data removed]",
      "text/plain": [
       "<Figure size 432x288 with 1 Axes>"
      ]
     },
     "metadata": {
      "needs_background": "light"
     },
     "output_type": "display_data"
    }
   ],
   "source": [
    "sns.countplot(data['TypeofContact'])\n",
    "# observation: \n",
    "# Categorical data with classes represented as Self Enquiry and Company Invited."
   ]
  },
  {
   "cell_type": "code",
   "execution_count": 370,
   "id": "fbfa4273-0f60-49c2-a238-cc80020ee473",
   "metadata": {},
   "outputs": [
    {
     "data": {
      "text/plain": [
       "<AxesSubplot:xlabel='CityTier', ylabel='count'>"
      ]
     },
     "execution_count": 370,
     "metadata": {},
     "output_type": "execute_result"
    },
    {
     "data": {
      "image/png": "[encoded data removed]",
      "text/plain": [
       "<Figure size 432x288 with 1 Axes>"
      ]
     },
     "metadata": {
      "needs_background": "light"
     },
     "output_type": "display_data"
    }
   ],
   "source": [
    "sns.countplot(data['CityTier'])\n",
    "# observation: \n",
    "# Categorical data with classes represented as numric 1,2 and 3.\n",
    "# 1>3>2\n",
    "# IMBALANCE"
   ]
  },
  {
   "cell_type": "code",
   "execution_count": 446,
   "id": "d157fbd2-d58a-4081-a9c4-c03bcee53542",
   "metadata": {},
   "outputs": [
    {
     "data": {
      "text/plain": [
       "<AxesSubplot:xlabel='Occupation', ylabel='count'>"
      ]
     },
     "execution_count": 446,
     "metadata": {},
     "output_type": "execute_result"
    },
    {
     "data": {
      "image/png": "[encoded data removed]",
      "text/plain": [
       "<Figure size 432x288 with 1 Axes>"
      ]
     },
     "metadata": {
      "needs_background": "light"
     },
     "output_type": "display_data"
    }
   ],
   "source": [
    "sns.countplot(data['Occupation'])\n",
    "# observation: \n",
    "# Categorical data with classes represented as Salaried, Freelancer, Small business,Large business.\n",
    "# IMBALACE"
   ]
  },
  {
   "cell_type": "code",
   "execution_count": 449,
   "id": "a67f4b8b-85ef-447d-8ac3-4ae812f354db",
   "metadata": {},
   "outputs": [
    {
     "data": {
      "text/plain": [
       "<AxesSubplot:xlabel='Gender', ylabel='count'>"
      ]
     },
     "execution_count": 449,
     "metadata": {},
     "output_type": "execute_result"
    },
    {
     "data": {
      "image/png": "[encoded data removed]",
      "text/plain": [
       "<Figure size 432x288 with 1 Axes>"
      ]
     },
     "metadata": {
      "needs_background": "light"
     },
     "output_type": "display_data"
    }
   ],
   "source": [
    "sns.countplot(data['Gender'])\n",
    "# observation: \n",
    "# Categorical data with classes represented as Male and Female."
   ]
  },
  {
   "cell_type": "code",
   "execution_count": 371,
   "id": "d2b1201d-c06c-4a08-84f8-6b38e2c9eac4",
   "metadata": {},
   "outputs": [
    {
     "data": {
      "text/plain": [
       "<AxesSubplot:xlabel='NumberOfPersonVisiting', ylabel='count'>"
      ]
     },
     "execution_count": 371,
     "metadata": {},
     "output_type": "execute_result"
    },
    {
     "data": {
      "image/png": "[encoded data removed]",
      "text/plain": [
       "<Figure size 432x288 with 1 Axes>"
      ]
     },
     "metadata": {
      "needs_background": "light"
     },
     "output_type": "display_data"
    }
   ],
   "source": [
    "sns.countplot(data['NumberOfPersonVisiting'])\n",
    "# observation: \n",
    "# Categorical data with classes represented as numric 2, 3 and 4.\n",
    "# 3>2>4\n",
    "# IMBALANCE"
   ]
  },
  {
   "cell_type": "code",
   "execution_count": 372,
   "id": "cda2f6c1-db51-4c42-a797-67be5cf94852",
   "metadata": {},
   "outputs": [
    {
     "data": {
      "text/plain": [
       "<AxesSubplot:xlabel='NumberOfFollowups', ylabel='count'>"
      ]
     },
     "execution_count": 372,
     "metadata": {},
     "output_type": "execute_result"
    },
    {
     "data": {
      "image/png": "[encoded data removed]",
      "text/plain": [
       "<Figure size 432x288 with 1 Axes>"
      ]
     },
     "metadata": {
      "needs_background": "light"
     },
     "output_type": "display_data"
    }
   ],
   "source": [
    "sns.countplot(data['NumberOfFollowups'])\n",
    "# observation: \n",
    "# Categorical data with classes represented as numric 1,2,3,4,5, and 6.\n",
    "# 4>3>5>2>1>6\n",
    "# IMBALANCE"
   ]
  },
  {
   "cell_type": "code",
   "execution_count": 450,
   "id": "df870ab9-de62-4b72-b75e-c2dd5beb39c5",
   "metadata": {},
   "outputs": [
    {
     "data": {
      "text/plain": [
       "<AxesSubplot:xlabel='ProductPitched', ylabel='count'>"
      ]
     },
     "execution_count": 450,
     "metadata": {},
     "output_type": "execute_result"
    },
    {
     "data": {
      "image/png": "[encoded data removed]",
      "text/plain": [
       "<Figure size 432x288 with 1 Axes>"
      ]
     },
     "metadata": {
      "needs_background": "light"
     },
     "output_type": "display_data"
    }
   ],
   "source": [
    "sns.countplot(data['ProductPitched'])\n",
    "# observation: \n",
    "# Categorical data with classes represented as Deluxe, Basic, Standard Product Pitched,Super Deluxe, King\n",
    "# Imbalace"
   ]
  },
  {
   "cell_type": "code",
   "execution_count": 373,
   "id": "f22f4b5e-fcc0-4680-b509-42762f9bcd58",
   "metadata": {},
   "outputs": [
    {
     "data": {
      "text/plain": [
       "<AxesSubplot:xlabel='PreferredPropertyStar', ylabel='count'>"
      ]
     },
     "execution_count": 373,
     "metadata": {},
     "output_type": "execute_result"
    },
    {
     "data": {
      "image/png": "[encoded data removed]",
      "text/plain": [
       "<Figure size 432x288 with 1 Axes>"
      ]
     },
     "metadata": {
      "needs_background": "light"
     },
     "output_type": "display_data"
    }
   ],
   "source": [
    "sns.countplot(data['PreferredPropertyStar'])\n",
    "# observation: \n",
    "# Categorical data with classes represented as numric 3,4 and 5.\n",
    "# 4>5>4"
   ]
  },
  {
   "cell_type": "code",
   "execution_count": 454,
   "id": "50fa1536-275c-4544-999a-83e836bfc712",
   "metadata": {},
   "outputs": [
    {
     "data": {
      "text/plain": [
       "<AxesSubplot:xlabel='MaritalStatus', ylabel='count'>"
      ]
     },
     "execution_count": 454,
     "metadata": {},
     "output_type": "execute_result"
    },
    {
     "data": {
      "image/png": "[encoded data removed]",
      "text/plain": [
       "<Figure size 432x288 with 1 Axes>"
      ]
     },
     "metadata": {
      "needs_background": "light"
     },
     "output_type": "display_data"
    }
   ],
   "source": [
    "sns.countplot(data['MaritalStatus'])\n",
    "# observation: \n",
    "# Categorical data with classes represented as Single, Divorced, Married, Unmarried"
   ]
  },
  {
   "cell_type": "code",
   "execution_count": 386,
   "id": "f572186f-2857-4aa4-b2b6-1be71026dc63",
   "metadata": {},
   "outputs": [
    {
     "data": {
      "text/plain": [
       "<AxesSubplot:xlabel='Passport', ylabel='count'>"
      ]
     },
     "execution_count": 386,
     "metadata": {},
     "output_type": "execute_result"
    },
    {
     "data": {
      "image/png": "[encoded data removed]",
      "text/plain": [
       "<Figure size 432x288 with 1 Axes>"
      ]
     },
     "metadata": {
      "needs_background": "light"
     },
     "output_type": "display_data"
    }
   ],
   "source": [
    "sns.countplot(data['Passport'])\n",
    "# observation: \n",
    "# Categorical data with classes represented as numric 0 and 1.\n",
    "# 0>1: people with no passprt is more"
   ]
  },
  {
   "cell_type": "code",
   "execution_count": 387,
   "id": "b835762f-d3de-4ebb-beb5-43e8b8f4f497",
   "metadata": {},
   "outputs": [
    {
     "data": {
      "text/plain": [
       "<AxesSubplot:xlabel='PitchSatisfactionScore', ylabel='count'>"
      ]
     },
     "execution_count": 387,
     "metadata": {},
     "output_type": "execute_result"
    },
    {
     "data": {
      "image/png": "[encoded data removed]",
      "text/plain": [
       "<Figure size 432x288 with 1 Axes>"
      ]
     },
     "metadata": {
      "needs_background": "light"
     },
     "output_type": "display_data"
    }
   ],
   "source": [
    "sns.countplot(data[ 'PitchSatisfactionScore'])\n",
    "# observation: \n",
    "# Categorical data with classes represented as numric 1,2,3,4,5.\n",
    "# 3>5>1>4>2"
   ]
  },
  {
   "cell_type": "code",
   "execution_count": 388,
   "id": "f584ba59-b82b-4bd3-a3a5-6979bb6ebd31",
   "metadata": {},
   "outputs": [
    {
     "data": {
      "text/plain": [
       "<AxesSubplot:xlabel='OwnCar', ylabel='count'>"
      ]
     },
     "execution_count": 388,
     "metadata": {},
     "output_type": "execute_result"
    },
    {
     "data": {
      "image/png": "[encoded data removed]",
      "text/plain": [
       "<Figure size 432x288 with 1 Axes>"
      ]
     },
     "metadata": {
      "needs_background": "light"
     },
     "output_type": "display_data"
    }
   ],
   "source": [
    "sns.countplot(data['OwnCar'])\n",
    "# observation: \n",
    "# Categorical data with classes represented as numric 0 and 1:\n",
    "# 1>0: People whi own car are more in this dataset."
   ]
  },
  {
   "cell_type": "code",
   "execution_count": 389,
   "id": "407321b6-c57b-4423-87ea-5f87f35b421c",
   "metadata": {},
   "outputs": [
    {
     "data": {
      "text/plain": [
       "<AxesSubplot:xlabel='NumberOfChildrenVisiting', ylabel='count'>"
      ]
     },
     "execution_count": 389,
     "metadata": {},
     "output_type": "execute_result"
    },
    {
     "data": {
      "image/png": "[encoded data removed]",
      "text/plain": [
       "<Figure size 432x288 with 1 Axes>"
      ]
     },
     "metadata": {
      "needs_background": "light"
     },
     "output_type": "display_data"
    }
   ],
   "source": [
    "sns.countplot(data['NumberOfChildrenVisiting'])\n",
    "# observation: \n",
    "# Categorical data with classes represented as numric 0,1,2,3.\n",
    "# 1>2>0>3\n",
    "# IMBALANCE"
   ]
  },
  {
   "cell_type": "code",
   "execution_count": 456,
   "id": "55d6cc4a-2441-47e7-a6ec-1982dbf8a19d",
   "metadata": {},
   "outputs": [
    {
     "data": {
      "text/plain": [
       "<AxesSubplot:xlabel='Designation', ylabel='count'>"
      ]
     },
     "execution_count": 456,
     "metadata": {},
     "output_type": "execute_result"
    },
    {
     "data": {
      "image/png": "[encoded data removed]",
      "text/plain": [
       "<Figure size 432x288 with 1 Axes>"
      ]
     },
     "metadata": {
      "needs_background": "light"
     },
     "output_type": "display_data"
    }
   ],
   "source": [
    "sns.countplot(data['Designation'])\n",
    "# observation: \n",
    "# Categorical data with classes represented as Manager, Executive, Senior Manager, AVP VP"
   ]
  },
  {
   "cell_type": "markdown",
   "id": "8d159150-dc5d-4dca-8c78-d3f7aa80ac0b",
   "metadata": {},
   "source": [
    "##### 3.1.3 Analysis of Outliers: BoxPlot"
   ]
  },
  {
   "cell_type": "code",
   "execution_count": 390,
   "id": "b299a0dd-3d83-41fb-9d08-d338256c391c",
   "metadata": {},
   "outputs": [
    {
     "data": {
      "text/plain": [
       "['Age', 'DurationOfPitch', 'NumberOfTrips', 'MonthlyIncome']"
      ]
     },
     "execution_count": 390,
     "metadata": {},
     "output_type": "execute_result"
    }
   ],
   "source": [
    "num_info"
   ]
  },
  {
   "cell_type": "code",
   "execution_count": 391,
   "id": "4d1c10a0-e90a-4260-b3a0-5892763db6d4",
   "metadata": {},
   "outputs": [
    {
     "data": {
      "text/plain": [
       "<AxesSubplot:>"
      ]
     },
     "execution_count": 391,
     "metadata": {},
     "output_type": "execute_result"
    },
    {
     "data": {
      "image/png": "[encoded data removed]",
      "text/plain": [
       "<Figure size 432x288 with 1 Axes>"
      ]
     },
     "metadata": {
      "needs_background": "light"
     },
     "output_type": "display_data"
    }
   ],
   "source": [
    "sns.boxplot(data=data['Age'])"
   ]
  },
  {
   "cell_type": "code",
   "execution_count": 392,
   "id": "fb3819c2-8e9e-4c79-b0dd-c2fd56a504d3",
   "metadata": {},
   "outputs": [
    {
     "data": {
      "text/plain": [
       "<AxesSubplot:>"
      ]
     },
     "execution_count": 392,
     "metadata": {},
     "output_type": "execute_result"
    },
    {
     "data": {
      "image/png": "[encoded data removed]",
      "text/plain": [
       "<Figure size 432x288 with 1 Axes>"
      ]
     },
     "metadata": {
      "needs_background": "light"
     },
     "output_type": "display_data"
    }
   ],
   "source": [
    "sns.boxplot(data=data['DurationOfPitch'])"
   ]
  },
  {
   "cell_type": "code",
   "execution_count": 393,
   "id": "7366bf40-ffac-4106-be51-a90e46306029",
   "metadata": {},
   "outputs": [
    {
     "data": {
      "text/plain": [
       "<AxesSubplot:>"
      ]
     },
     "execution_count": 393,
     "metadata": {},
     "output_type": "execute_result"
    },
    {
     "data": {
      "image/png": "[encoded data removed]",
      "text/plain": [
       "<Figure size 432x288 with 1 Axes>"
      ]
     },
     "metadata": {
      "needs_background": "light"
     },
     "output_type": "display_data"
    }
   ],
   "source": [
    "sns.boxplot(data=data['NumberOfTrips'])"
   ]
  },
  {
   "cell_type": "code",
   "execution_count": 394,
   "id": "a174dc9c-616c-4f68-b65e-ad8a4e7b90b6",
   "metadata": {},
   "outputs": [
    {
     "data": {
      "text/plain": [
       "<AxesSubplot:>"
      ]
     },
     "execution_count": 394,
     "metadata": {},
     "output_type": "execute_result"
    },
    {
     "data": {
      "image/png": "[encoded data removed]",
      "text/plain": [
       "<Figure size 432x288 with 1 Axes>"
      ]
     },
     "metadata": {
      "needs_background": "light"
     },
     "output_type": "display_data"
    }
   ],
   "source": [
    "sns.boxplot(data=data['MonthlyIncome'])"
   ]
  },
  {
   "cell_type": "markdown",
   "id": "62399d7e-fc1f-47e1-826e-9500a610c6c3",
   "metadata": {},
   "source": [
    "### 3.2 Bivariate\n",
    "#### 3.2.1 Bivariate Analysis of Numerical Features: Scatter Plot    "
   ]
  },
  {
   "cell_type": "code",
   "execution_count": 399,
   "id": "de7f38f0-b469-426a-bfe2-940a74aff324",
   "metadata": {},
   "outputs": [
    {
     "data": {
      "text/plain": [
       "['Age', 'DurationOfPitch', 'NumberOfTrips', 'MonthlyIncome']"
      ]
     },
     "execution_count": 399,
     "metadata": {},
     "output_type": "execute_result"
    }
   ],
   "source": [
    "num_info"
   ]
  },
  {
   "cell_type": "code",
   "execution_count": 401,
   "id": "e76b3daf-5fe3-43e8-995e-ff1b971edeea",
   "metadata": {},
   "outputs": [
    {
     "data": {
      "text/plain": [
       "<AxesSubplot:xlabel='Age', ylabel='MonthlyIncome'>"
      ]
     },
     "execution_count": 401,
     "metadata": {},
     "output_type": "execute_result"
    },
    {
     "data": {
      "image/png": "[encoded data removed]",
      "text/plain": [
       "<Figure size 432x288 with 1 Axes>"
      ]
     },
     "metadata": {
      "needs_background": "light"
     },
     "output_type": "display_data"
    }
   ],
   "source": [
    "sns.scatterplot(x='Age',y='MonthlyIncome',data=data)"
   ]
  },
  {
   "cell_type": "code",
   "execution_count": 402,
   "id": "89dadc9a-4121-40ab-8a9d-5102b71760a0",
   "metadata": {},
   "outputs": [
    {
     "data": {
      "text/plain": [
       "<AxesSubplot:xlabel='Age', ylabel='DurationOfPitch'>"
      ]
     },
     "execution_count": 402,
     "metadata": {},
     "output_type": "execute_result"
    },
    {
     "data": {
      "image/png": "[encoded data removed]",
      "text/plain": [
       "<Figure size 432x288 with 1 Axes>"
      ]
     },
     "metadata": {
      "needs_background": "light"
     },
     "output_type": "display_data"
    }
   ],
   "source": [
    "sns.scatterplot(x='Age',y='DurationOfPitch',data=data)"
   ]
  },
  {
   "cell_type": "code",
   "execution_count": 403,
   "id": "53fbd537-d079-4d42-9557-7d98fd849a90",
   "metadata": {},
   "outputs": [
    {
     "data": {
      "text/plain": [
       "<AxesSubplot:xlabel='Age', ylabel='NumberOfTrips'>"
      ]
     },
     "execution_count": 403,
     "metadata": {},
     "output_type": "execute_result"
    },
    {
     "data": {
      "image/png": "[encoded data removed]",
      "text/plain": [
       "<Figure size 432x288 with 1 Axes>"
      ]
     },
     "metadata": {
      "needs_background": "light"
     },
     "output_type": "display_data"
    }
   ],
   "source": [
    "sns.scatterplot(x='Age',y='NumberOfTrips',data=data)"
   ]
  },
  {
   "cell_type": "markdown",
   "id": "f3160c9d-02ef-4db9-b335-32d1aad1cef5",
   "metadata": {},
   "source": [
    "#### 3.2.2 Bivariate Analysis of Categorical Variables vs Categorical Variables: Count Plot side by side bar chart"
   ]
  },
  {
   "cell_type": "code",
   "execution_count": 407,
   "id": "0c653d85-2ba3-4e43-851b-abd43c6f6721",
   "metadata": {},
   "outputs": [
    {
     "name": "stdout",
     "output_type": "stream",
     "text": [
      "Categorical Features are: ['TypeofContact', 'Occupation', 'Gender', 'ProductPitched', 'MaritalStatus', 'Designation']\n",
      "\n",
      "Features with numerical values having categorical information: ['ProdTaken', 'CityTier', 'NumberOfPersonVisiting', 'NumberOfFollowups', 'PreferredPropertyStar', 'Passport', 'PitchSatisfactionScore', 'OwnCar', 'NumberOfChildrenVisiting']\n",
      "\n"
     ]
    }
   ],
   "source": [
    "print(f\"Categorical Features are: {cat_colum}\\n\")\n",
    "print(f\"Features with numerical values having categorical information: {num_cat_info}\\n\")"
   ]
  },
  {
   "cell_type": "code",
   "execution_count": 409,
   "id": "a5f43e3b-d2d6-40cc-9a49-8c1b5fad3468",
   "metadata": {},
   "outputs": [
    {
     "data": {
      "text/plain": [
       "<AxesSubplot:xlabel='NumberOfPersonVisiting', ylabel='count'>"
      ]
     },
     "execution_count": 409,
     "metadata": {},
     "output_type": "execute_result"
    },
    {
     "data": {
      "image/png": "[encoded data removed]",
      "text/plain": [
       "<Figure size 432x288 with 1 Axes>"
      ]
     },
     "metadata": {
      "needs_background": "light"
     },
     "output_type": "display_data"
    }
   ],
   "source": [
    "sns.countplot(data['NumberOfPersonVisiting'], hue= data['Gender'])"
   ]
  },
  {
   "cell_type": "code",
   "execution_count": 410,
   "id": "92deb36e-6308-4b65-94d3-0974be9eee7e",
   "metadata": {},
   "outputs": [
    {
     "data": {
      "text/plain": [
       "<AxesSubplot:xlabel='NumberOfFollowups', ylabel='count'>"
      ]
     },
     "execution_count": 410,
     "metadata": {},
     "output_type": "execute_result"
    },
    {
     "data": {
      "image/png": "[encoded data removed]",
      "text/plain": [
       "<Figure size 432x288 with 1 Axes>"
      ]
     },
     "metadata": {
      "needs_background": "light"
     },
     "output_type": "display_data"
    }
   ],
   "source": [
    "sns.countplot(data['NumberOfFollowups'], hue= data['ProdTaken'])"
   ]
  },
  {
   "cell_type": "code",
   "execution_count": 411,
   "id": "b05ab834-a2e1-42e2-90cf-af84a52bf6d4",
   "metadata": {},
   "outputs": [
    {
     "data": {
      "text/plain": [
       "<AxesSubplot:xlabel='NumberOfPersonVisiting', ylabel='count'>"
      ]
     },
     "execution_count": 411,
     "metadata": {},
     "output_type": "execute_result"
    },
    {
     "data": {
      "image/png": "[encoded data removed]",
      "text/plain": [
       "<Figure size 432x288 with 1 Axes>"
      ]
     },
     "metadata": {
      "needs_background": "light"
     },
     "output_type": "display_data"
    }
   ],
   "source": [
    "sns.countplot(data['NumberOfPersonVisiting'], hue= data['OwnCar'])"
   ]
  },
  {
   "cell_type": "code",
   "execution_count": 412,
   "id": "4b16710b-587b-432f-a6b5-3ff636fb7f77",
   "metadata": {},
   "outputs": [
    {
     "data": {
      "text/plain": [
       "<AxesSubplot:xlabel='NumberOfPersonVisiting', ylabel='count'>"
      ]
     },
     "execution_count": 412,
     "metadata": {},
     "output_type": "execute_result"
    },
    {
     "data": {
      "image/png": "[encoded data removed]",
      "text/plain": [
       "<Figure size 432x288 with 1 Axes>"
      ]
     },
     "metadata": {
      "needs_background": "light"
     },
     "output_type": "display_data"
    }
   ],
   "source": [
    "sns.countplot(data['NumberOfPersonVisiting'], hue= data['TypeofContact'])"
   ]
  },
  {
   "cell_type": "markdown",
   "id": "3358583b-1aa7-4b67-9c71-e02f89609144",
   "metadata": {},
   "source": [
    "### 3.3 Multivariate: Pair plot\n",
    " - Multivariate analysis is a more complex form of a statistical analysis technique and is used when there are more than two variables in the data set. Here, we will try to see relations between continuous variables and the ‘Approved’ column. To do that, we will plot a pair plot, with Hue as Approved."
   ]
  },
  {
   "cell_type": "code",
   "execution_count": 418,
   "id": "5c5f6a53-0791-4509-a0d2-0d49d18f49e9",
   "metadata": {},
   "outputs": [
    {
     "data": {
      "text/plain": [
       "Index(['CustomerID', 'ProdTaken', 'Age', 'TypeofContact', 'CityTier',\n",
       "       'DurationOfPitch', 'Occupation', 'Gender', 'NumberOfPersonVisiting',\n",
       "       'NumberOfFollowups', 'ProductPitched', 'PreferredPropertyStar',\n",
       "       'MaritalStatus', 'NumberOfTrips', 'Passport', 'PitchSatisfactionScore',\n",
       "       'OwnCar', 'NumberOfChildrenVisiting', 'Designation', 'MonthlyIncome'],\n",
       "      dtype='object')"
      ]
     },
     "execution_count": 418,
     "metadata": {},
     "output_type": "execute_result"
    }
   ],
   "source": [
    "data.columns"
   ]
  },
  {
   "cell_type": "code",
   "execution_count": 425,
   "id": "64e61b51-2ac9-4244-b751-a05ffdce6cdb",
   "metadata": {},
   "outputs": [
    {
     "data": {
      "image/png": "[encoded data removed]",
      "text/plain": [
       "<Figure size 794.25x720 with 20 Axes>"
      ]
     },
     "metadata": {
      "needs_background": "light"
     },
     "output_type": "display_data"
    }
   ],
   "source": [
    "# pairplot with hue Gender\n",
    "sns.pairplot(data, hue = 'Gender', vars= num_info )\n",
    "# to show\n",
    "plt.show()"
   ]
  },
  {
   "cell_type": "markdown",
   "id": "a58c6eb9-29cd-480e-9523-cf3470e2fe80",
   "metadata": {},
   "source": [
    "# **Observations:**\n",
    "- Handle Missing values \n",
    "- Handle Incorrect values in 'Gender': 'Fe male'\n",
    "- Handle the outliers\n",
    "- Scale and trasformation of the Right skewed data\n",
    "- Encoding for categorical data\n",
    "- Feature Selection \n",
    "- Imbalance data"
   ]
  },
  {
   "cell_type": "markdown",
   "id": "870684ce-59ec-4be2-8b66-98d933b67ed5",
   "metadata": {},
   "source": [
    "### Handle Missing values "
   ]
  },
  {
   "cell_type": "code",
   "execution_count": 431,
   "id": "6b1dfc92-77a6-430f-81a7-e07e9c375542",
   "metadata": {},
   "outputs": [
    {
     "data": {
      "text/plain": [
       "Age                         226\n",
       "TypeofContact                25\n",
       "DurationOfPitch             251\n",
       "NumberOfFollowups            45\n",
       "PreferredPropertyStar        26\n",
       "NumberOfTrips               140\n",
       "NumberOfChildrenVisiting     66\n",
       "MonthlyIncome               233\n",
       "dtype: int64"
      ]
     },
     "execution_count": 431,
     "metadata": {},
     "output_type": "execute_result"
    }
   ],
   "source": [
    "Missing_Values_Features= ['Age','TypeofContact', 'DurationOfPitch', 'NumberOfFollowups','PreferredPropertyStar', 'NumberOfTrips', 'NumberOfChildrenVisiting', 'MonthlyIncome']\n",
    "data[Missing_Values_Features].isnull().sum()"
   ]
  },
  {
   "cell_type": "markdown",
   "id": "1be28ccc-0cdc-41d8-9983-36cad42e004b",
   "metadata": {},
   "source": [
    "### Handle Incorrect values in 'Gender': 'Fe male'"
   ]
  },
  {
   "cell_type": "code",
   "execution_count": 433,
   "id": "1dd4167d-2da5-4aa9-acde-1ece25cca2e3",
   "metadata": {},
   "outputs": [
    {
     "data": {
      "text/plain": [
       "array(['Female', 'Male', 'Fe Male'], dtype=object)"
      ]
     },
     "execution_count": 433,
     "metadata": {},
     "output_type": "execute_result"
    }
   ],
   "source": [
    "data['Gender'].unique()"
   ]
  },
  {
   "cell_type": "markdown",
   "id": "22dc261b-7a21-43ab-bfd5-6d91ebffb412",
   "metadata": {},
   "source": [
    "### Handle the outliers"
   ]
  },
  {
   "cell_type": "code",
   "execution_count": 437,
   "id": "cf3e0fc1-ca61-4155-ad19-f31cd4045c8b",
   "metadata": {},
   "outputs": [
    {
     "data": {
      "text/plain": [
       "['DurationOfPitch', 'NumberOfTrips', 'MonthlyIncome']"
      ]
     },
     "execution_count": 437,
     "metadata": {},
     "output_type": "execute_result"
    }
   ],
   "source": [
    "Outliers_Features = ['DurationOfPitch', 'NumberOfTrips', 'MonthlyIncome']\n",
    "Outliers_Features"
   ]
  },
  {
   "cell_type": "markdown",
   "id": "1470334a-438f-48d8-aae8-52ecb7705281",
   "metadata": {},
   "source": [
    "### Scale and trasformation of the Right skewed data"
   ]
  },
  {
   "cell_type": "code",
   "execution_count": 436,
   "id": "ceee29e0-a2bb-441c-ad23-fcfbc358725d",
   "metadata": {},
   "outputs": [
    {
     "data": {
      "text/plain": [
       "['Age', 'DurationOfPitch', 'NumberOfTrips', 'MonthlyIncome']"
      ]
     },
     "execution_count": 436,
     "metadata": {},
     "output_type": "execute_result"
    }
   ],
   "source": [
    "Right_Skewed_Features= num_info\n",
    "Right_Skewed_Features"
   ]
  },
  {
   "cell_type": "markdown",
   "id": "ea824181-54d2-417e-8198-654812e11b18",
   "metadata": {},
   "source": [
    "### Encoding for Categorical data"
   ]
  },
  {
   "cell_type": "code",
   "execution_count": 438,
   "id": "1127dab7-9a19-47f3-aba0-25ec380bcca0",
   "metadata": {},
   "outputs": [
    {
     "data": {
      "text/plain": [
       "['TypeofContact',\n",
       " 'Occupation',\n",
       " 'Gender',\n",
       " 'ProductPitched',\n",
       " 'MaritalStatus',\n",
       " 'Designation']"
      ]
     },
     "execution_count": 438,
     "metadata": {},
     "output_type": "execute_result"
    }
   ],
   "source": [
    "cat_colum"
   ]
  },
  {
   "cell_type": "markdown",
   "id": "02876a0c-54d9-4c46-83aa-1e3b324936ce",
   "metadata": {},
   "source": [
    "### Feature Selection \n",
    "- NumberOfChildrenVisiting and NumberOfPersonVisiting are correlated with positive 0.610621. highly coreelated.\n",
    "- Designation is highly correlated with Age, Productpitched and Monthly Income"
   ]
  },
  {
   "cell_type": "markdown",
   "id": "2fa7a8ba-ccc4-4be0-a89d-e765328c8d06",
   "metadata": {},
   "source": [
    "### Imbalance Data"
   ]
  },
  {
   "cell_type": "code",
   "execution_count": 452,
   "id": "d148f2ba-4fac-4f2e-a95d-b7de95045a44",
   "metadata": {},
   "outputs": [
    {
     "name": "stdout",
     "output_type": "stream",
     "text": [
      "Categorical Features are: ['TypeofContact', 'Occupation', 'Gender', 'ProductPitched', 'MaritalStatus', 'Designation']\n",
      "\n",
      "Features with numerical values having categorical information:  ['ProdTaken', 'CityTier', 'NumberOfPersonVisiting', 'NumberOfFollowups', 'PreferredPropertyStar', 'Passport', 'PitchSatisfactionScore', 'OwnCar', 'NumberOfChildrenVisiting']\n"
     ]
    }
   ],
   "source": [
    "print(f\"Categorical Features are: {cat_colum}\\n\")\n",
    "print(\"Features with numerical values having categorical information: \", num_cat_info)"
   ]
  },
  {
   "cell_type": "code",
   "execution_count": 451,
   "id": "66ac5f24-96f9-46d8-8c4b-1d36413c3772",
   "metadata": {},
   "outputs": [],
   "source": [
    "Imbalance_Features = ['CityTier','NumberOfPersonVisiting','NumberOfFollowups','Occupation', 'ProductPitched']"
   ]
  },
  {
   "cell_type": "code",
   "execution_count": null,
   "id": "a2bef33d-d9de-416b-8833-34526cfe5e1f",
   "metadata": {},
   "outputs": [],
   "source": []
  }
 ],
 "metadata": {
  "kernelspec": {
   "display_name": "Python 3 (ipykernel)",
   "language": "python",
   "name": "python3"
  },
  "language_info": {
   "codemirror_mode": {
    "name": "ipython",
    "version": 3
   },
   "file_extension": ".py",
   "mimetype": "text/x-python",
   "name": "python",
   "nbconvert_exporter": "python",
   "pygments_lexer": "ipython3",
   "version": "3.9.12"
  }
 },
 "nbformat": 4,
 "nbformat_minor": 5
}
